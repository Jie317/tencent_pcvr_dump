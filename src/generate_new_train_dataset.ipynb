{
 "cells": [
  {
   "cell_type": "code",
   "execution_count": 24,
   "metadata": {
    "collapsed": true
   },
   "outputs": [],
   "source": [
    "# 2 parameters for this script\n",
    "d = '../data/pre/' # data directory\n",
    "generate_train = True # True for train, False for test\n",
    "\n",
    "import os\n",
    "import pandas as pd\n",
    "import numpy as np\n",
    "from collections import Counter\n",
    "from time import time\n",
    "from imblearn.under_sampling import RandomUnderSampler"
   ]
  },
  {
   "cell_type": "markdown",
   "metadata": {},
   "source": [
    "## Load all csv files into pandas DataFrames"
   ]
  },
  {
   "cell_type": "code",
   "execution_count": 2,
   "metadata": {},
   "outputs": [],
   "source": [
    "user = pd.read_csv('%suser.csv' % d)\n",
    "ad = pd.read_csv('%sad.csv' % d)\n",
    "position = pd.read_csv('%sposition.csv' % d)\n",
    "test = pd.read_csv('%stest.csv' % d)\n",
    "train = pd.read_csv('%strain.csv' % d)\n",
    "app_categories = pd.read_csv('%sapp_categories.csv' % d)\n",
    "user_installedapps = pd.read_csv('%suser_installedapps.csv' % d)\n",
    "user_app_actions = pd.read_csv('%suser_app_actions.csv' % d)"
   ]
  },
  {
   "cell_type": "markdown",
   "metadata": {},
   "source": [
    "### Check out imbalance ratio from the training data"
   ]
  },
  {
   "cell_type": "code",
   "execution_count": 3,
   "metadata": {},
   "outputs": [
    {
     "name": "stdout",
     "output_type": "stream",
     "text": [
      "0.025507443933236805 Counter({0: 3656266, 1: 93262})\n"
     ]
    }
   ],
   "source": [
    "s = Counter(train['label'])\n",
    "print(s[1]/s[0], s)"
   ]
  },
  {
   "cell_type": "markdown",
   "metadata": {},
   "source": [
    "## Parse the train.csv and test csv which mainly consist of three feature groups: user info, ad info and action info(click and conversion)"
   ]
  },
  {
   "cell_type": "code",
   "execution_count": 25,
   "metadata": {},
   "outputs": [],
   "source": [
    "if generate_train:\n",
    "    data = train\n",
    "else: \n",
    "    data = test"
   ]
  },
  {
   "cell_type": "markdown",
   "metadata": {},
   "source": [
    "### 1 User info (user, user_installedapps and user_app_actions)"
   ]
  },
  {
   "cell_type": "code",
   "execution_count": 26,
   "metadata": {},
   "outputs": [],
   "source": [
    "user_info = user.set_index('userID').ix[data['userID']].reset_index()"
   ]
  },
  {
   "cell_type": "markdown",
   "metadata": {},
   "source": [
    "### 2 Ad info (creative and position)"
   ]
  },
  {
   "cell_type": "code",
   "execution_count": 27,
   "metadata": {},
   "outputs": [],
   "source": [
    "creative_info = ad.set_index('creativeID').ix[data['creativeID']].reset_index()\n",
    "position_info = position.set_index('positionID').ix[data['positionID']].reset_index()\n",
    "ad_info = pd.concat([creative_info, position_info], axis=1)"
   ]
  },
  {
   "cell_type": "markdown",
   "metadata": {},
   "source": [
    "### 3 Action info (clickTime, conversionTime, connectionType, and telecomsOperator)"
   ]
  },
  {
   "cell_type": "code",
   "execution_count": 28,
   "metadata": {
    "scrolled": true
   },
   "outputs": [],
   "source": [
    "if not generate_train:\n",
    "    data['conversionTime'] = np.nan # TODO: alternative?\n",
    "action_info = data[['clickTime', 'conversionTime','connectionType', 'telecomsOperator']]"
   ]
  },
  {
   "cell_type": "markdown",
   "metadata": {},
   "source": [
    "## Generated training dataset\n",
    "### Drop out the id columns (or we keep them?)"
   ]
  },
  {
   "cell_type": "code",
   "execution_count": 29,
   "metadata": {
    "scrolled": true
   },
   "outputs": [],
   "source": [
    "user_info = user_info.drop('userID', axis=1)\n",
    "ad_info = ad_info.drop(['creativeID', 'positionID'], axis=1)"
   ]
  },
  {
   "cell_type": "markdown",
   "metadata": {},
   "source": [
    "### Concatenate the three feature groups, appended by label column"
   ]
  },
  {
   "cell_type": "code",
   "execution_count": 30,
   "metadata": {},
   "outputs": [],
   "source": [
    "if generate_train:\n",
    "    new_train = pd.concat([user_info, ad_info, action_info, data['label']], axis=1)\n",
    "    new_train.to_csv('%snew_generated_train.csv' % d)\n",
    "else:\n",
    "    new_test = pd.concat([user_info, ad_info, action_info], axis=1)\n",
    "    new_test.to_csv('%snew_generated_test.csv' % d)"
   ]
  },
  {
   "cell_type": "code",
   "execution_count": 36,
   "metadata": {},
   "outputs": [
    {
     "data": {
      "text/plain": [
       "(3749528, 338489)"
      ]
     },
     "execution_count": 36,
     "metadata": {},
     "output_type": "execute_result"
    }
   ],
   "source": [
    "len(new_train),len(new_test)"
   ]
  },
  {
   "cell_type": "code",
   "execution_count": 32,
   "metadata": {},
   "outputs": [
    {
     "data": {
      "text/plain": [
       "array([[  2.50000000e+01,   2.00000000e+00,   1.00000000e+00,\n",
       "          3.00000000e+00,   1.00000000e+00,   0.00000000e+00,\n",
       "          1.30100000e+03,   1.32100000e+03,   8.30000000e+01,\n",
       "          1.00000000e+01,   4.34000000e+02,   1.00000000e+00,\n",
       "          0.00000000e+00,   3.00000000e+00,   1.70000000e+05,\n",
       "                     nan,   1.00000000e+00,   1.00000000e+00,\n",
       "          0.00000000e+00],\n",
       "       [  2.00000000e+01,   2.00000000e+00,   1.00000000e+00,\n",
       "          1.00000000e+00,   0.00000000e+00,   0.00000000e+00,\n",
       "          2.13000000e+02,   1.53500000e+03,   6.85000000e+02,\n",
       "          8.00000000e+01,   1.40000000e+01,   2.00000000e+00,\n",
       "          0.00000000e+00,   1.00000000e+00,   1.70000000e+05,\n",
       "                     nan,   1.00000000e+00,   2.00000000e+00,\n",
       "          0.00000000e+00],\n",
       "       [  1.60000000e+01,   1.00000000e+00,   1.00000000e+00,\n",
       "          0.00000000e+00,   0.00000000e+00,   0.00000000e+00,\n",
       "          1.50200000e+03,   1.47000000e+02,   4.60000000e+02,\n",
       "          3.00000000e+00,   4.65000000e+02,   1.00000000e+00,\n",
       "          0.00000000e+00,   1.00000000e+00,   1.70000000e+05,\n",
       "                     nan,   4.00000000e+00,   1.00000000e+00,\n",
       "          0.00000000e+00]])"
      ]
     },
     "execution_count": 32,
     "metadata": {},
     "output_type": "execute_result"
    }
   ],
   "source": [
    "new_train[:3].values"
   ]
  },
  {
   "cell_type": "code",
   "execution_count": null,
   "metadata": {
    "collapsed": true
   },
   "outputs": [],
   "source": []
  }
 ],
 "metadata": {
  "kernelspec": {
   "display_name": "Python 3",
   "language": "python",
   "name": "python3"
  },
  "language_info": {
   "codemirror_mode": {
    "name": "ipython",
    "version": 3
   },
   "file_extension": ".py",
   "mimetype": "text/x-python",
   "name": "python",
   "nbconvert_exporter": "python",
   "pygments_lexer": "ipython3",
   "version": "3.5.2"
  }
 },
 "nbformat": 4,
 "nbformat_minor": 2
}
