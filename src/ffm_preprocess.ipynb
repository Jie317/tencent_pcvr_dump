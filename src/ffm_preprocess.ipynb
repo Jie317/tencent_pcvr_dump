{
 "cells": [
  {
   "cell_type": "code",
   "execution_count": 1,
   "metadata": {
    "collapsed": false,
    "deletable": true,
    "editable": true
   },
   "outputs": [],
   "source": [
    "# 2 parameters for this script\n",
    "d = '../data/pre/' # data directory\n",
    "format_train = True # True for train, False for test\n",
    "\n",
    "# output\n",
    "ffm_train_path = '%sffm_train' % d\n",
    "ffm_test_path = '%sffm_test' % d\n",
    "\n",
    "import os\n",
    "import pandas as pd\n",
    "import numpy as np\n",
    "from collections import Counter\n",
    "from time import time\n",
    "\n",
    "new_train = '%snew_generated_train.csv' % d\n",
    "new_test = '%snew_generated_test.csv' % d"
   ]
  },
  {
   "cell_type": "code",
   "execution_count": 2,
   "metadata": {
    "collapsed": false,
    "deletable": true,
    "editable": true
   },
   "outputs": [],
   "source": [
    "tr = pd.read_csv(new_train, index_col=0)\n",
    "te = pd.read_csv(new_test, index_col=0)\n",
    "te['label'] = -1"
   ]
  },
  {
   "cell_type": "code",
   "execution_count": 4,
   "metadata": {
    "collapsed": false,
    "deletable": true,
    "editable": true
   },
   "outputs": [],
   "source": [
    "if format_train:\n",
    "    data = tr\n",
    "else: \n",
    "    data = te"
   ]
  },
  {
   "cell_type": "code",
   "execution_count": 5,
   "metadata": {
    "collapsed": false,
    "deletable": true,
    "editable": true
   },
   "outputs": [],
   "source": [
    "cat_cols = ['gender', 'education', 'marriageStatus', 'haveBaby',\n",
    "        'appPlatform', 'sitesetID', 'positionType', 'connectionType', 'telecomsOperator']\n",
    "all_cat_to_one_hot = []\n",
    "\n",
    "for c in cat_cols:\n",
    "    all_cat_to_one_hot.append(pd.get_dummies(data[c], prefix=c))\n",
    "\n",
    "concat = pd.concat(all_cat_to_one_hot, axis=1)"
   ]
  },
  {
   "cell_type": "code",
   "execution_count": 6,
   "metadata": {
    "collapsed": false,
    "deletable": true,
    "editable": true
   },
   "outputs": [],
   "source": [
    "ffm_raw = pd.concat([data[['label', 'age']]]+all_cat_to_one_hot+\n",
    "                   [data[['hometown', 'residence', 'adID', 'camgaignID', 'advertiserID', 'appID','clickTime',\n",
    "        'conversionTime']]], axis=1)\n",
    "del concat"
   ]
  },
  {
   "cell_type": "code",
   "execution_count": 7,
   "metadata": {
    "collapsed": false,
    "deletable": true,
    "editable": true
   },
   "outputs": [],
   "source": [
    "from collections import OrderedDict\n",
    "fields = tuple(list(OrderedDict.fromkeys(i.split('_')[0] for i in ffm_raw.columns))) # including 'label'\n",
    "features = ffm_raw.columns"
   ]
  },
  {
   "cell_type": "code",
   "execution_count": null,
   "metadata": {
    "collapsed": false,
    "deletable": true,
    "editable": true
   },
   "outputs": [],
   "source": [
    "def ffm_format(row):\n",
    "    str_ = '1' if int(row[0])==1 else '-1'\n",
    "    for i,v in enumerate(row[1:]):\n",
    "        str_ += '\\t%d:%d:%s' % (fields.index(features[i+1].split('_')[0])-1, i, str(v))\n",
    "    return str_\n",
    "    \n",
    "formatted = ffm_raw.apply(ffm_format, axis=1)\n",
    "formatted.to_csv(ffm_train_path if format_train else ffm_test_path, header=False, index=False)\n",
    "        "
   ]
  }
 ],
 "metadata": {
  "kernelspec": {
   "display_name": "Python 3",
   "language": "python",
   "name": "python3"
  },
  "language_info": {
   "codemirror_mode": {
    "name": "ipython",
    "version": 3
   },
   "file_extension": ".py",
   "mimetype": "text/x-python",
   "name": "python",
   "nbconvert_exporter": "python",
   "pygments_lexer": "ipython3",
   "version": "3.6.0"
  }
 },
 "nbformat": 4,
 "nbformat_minor": 2
}
