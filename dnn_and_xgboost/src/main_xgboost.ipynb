{
 "cells": [
  {
   "cell_type": "code",
   "execution_count": 1,
   "metadata": {},
   "outputs": [
    {
     "name": "stderr",
     "output_type": "stream",
     "text": [
      "/usr/local/lib/python3.5/dist-packages/sklearn/cross_validation.py:44: DeprecationWarning: This module was deprecated in version 0.18 in favor of the model_selection module into which all the refactored classes and functions are moved. Also note that the interface of the new CV iterators are different from that of this module. This module will be removed in 0.20.\n",
      "  \"This module will be removed in 0.20.\", DeprecationWarning)\n"
     ]
    },
    {
     "name": "stdout",
     "output_type": "stream",
     "text": [
      "108\n"
     ]
    },
    {
     "ename": "AssertionError",
     "evalue": "",
     "output_type": "error",
     "traceback": [
      "\u001b[0;31m---------------------------------------------------------------------------\u001b[0m",
      "\u001b[0;31mAssertionError\u001b[0m                            Traceback (most recent call last)",
      "\u001b[0;32m<ipython-input-1-f6567e3bea6b>\u001b[0m in \u001b[0;36m<module>\u001b[0;34m()\u001b[0m\n\u001b[1;32m     82\u001b[0m \u001b[0;34m\u001b[0m\u001b[0m\n\u001b[1;32m     83\u001b[0m \u001b[0mpredict_probas\u001b[0m \u001b[0;34m=\u001b[0m \u001b[0mmodel\u001b[0m\u001b[0;34m.\u001b[0m\u001b[0mpredict_proba\u001b[0m\u001b[0;34m(\u001b[0m\u001b[0mte_x\u001b[0m\u001b[0;34m)\u001b[0m\u001b[0;34m[\u001b[0m\u001b[0;34m:\u001b[0m\u001b[0;34m,\u001b[0m\u001b[0;36m1\u001b[0m\u001b[0;34m]\u001b[0m\u001b[0;34m\u001b[0m\u001b[0m\n\u001b[0;32m---> 84\u001b[0;31m \u001b[0msave_preds\u001b[0m\u001b[0;34m(\u001b[0m\u001b[0mpredict_probas\u001b[0m\u001b[0;34m)\u001b[0m\u001b[0;34m\u001b[0m\u001b[0m\n\u001b[0m\u001b[1;32m     85\u001b[0m \u001b[0;34m\u001b[0m\u001b[0m\n\u001b[1;32m     86\u001b[0m \u001b[0;31m# va_y_pred = model.predict_proba(va_x)[:,1]\u001b[0m\u001b[0;34m\u001b[0m\u001b[0;34m\u001b[0m\u001b[0m\n",
      "\u001b[0;32m<ipython-input-1-f6567e3bea6b>\u001b[0m in \u001b[0;36msave_preds\u001b[0;34m(preds, cb)\u001b[0m\n\u001b[1;32m     14\u001b[0m \u001b[0;32mdef\u001b[0m \u001b[0msave_preds\u001b[0m\u001b[0;34m(\u001b[0m\u001b[0mpreds\u001b[0m\u001b[0;34m,\u001b[0m \u001b[0mcb\u001b[0m\u001b[0;34m=\u001b[0m\u001b[0;32mFalse\u001b[0m\u001b[0;34m)\u001b[0m\u001b[0;34m:\u001b[0m\u001b[0;34m\u001b[0m\u001b[0m\n\u001b[1;32m     15\u001b[0m     \u001b[0mpreds\u001b[0m \u001b[0;34m=\u001b[0m \u001b[0mnp\u001b[0m\u001b[0;34m.\u001b[0m\u001b[0mravel\u001b[0m\u001b[0;34m(\u001b[0m\u001b[0mpreds\u001b[0m\u001b[0;34m)\u001b[0m\u001b[0;34m\u001b[0m\u001b[0m\n\u001b[0;32m---> 16\u001b[0;31m     \u001b[0;32massert\u001b[0m \u001b[0mlen\u001b[0m\u001b[0;34m(\u001b[0m\u001b[0mpreds\u001b[0m\u001b[0;34m)\u001b[0m\u001b[0;34m==\u001b[0m\u001b[0;36m338489\u001b[0m\u001b[0;34m\u001b[0m\u001b[0m\n\u001b[0m\u001b[1;32m     17\u001b[0m     \u001b[0mavg\u001b[0m \u001b[0;34m=\u001b[0m \u001b[0mnp\u001b[0m\u001b[0;34m.\u001b[0m\u001b[0maverage\u001b[0m\u001b[0;34m(\u001b[0m\u001b[0mpreds\u001b[0m\u001b[0;34m)\u001b[0m\u001b[0;34m\u001b[0m\u001b[0m\n\u001b[1;32m     18\u001b[0m     \u001b[0mstd\u001b[0m \u001b[0;34m=\u001b[0m \u001b[0mnp\u001b[0m\u001b[0;34m.\u001b[0m\u001b[0mstd\u001b[0m\u001b[0;34m(\u001b[0m\u001b[0mpreds\u001b[0m\u001b[0;34m)\u001b[0m\u001b[0;34m\u001b[0m\u001b[0m\n",
      "\u001b[0;31mAssertionError\u001b[0m: "
     ]
    }
   ],
   "source": [
    "import pandas as pd\n",
    "import xgboost as xgb  \n",
    "import numpy as np\n",
    "from numpy import sort\n",
    "from pprint import pprint\n",
    "from xgboost import plot_importance\n",
    "from sklearn.feature_selection import SelectFromModel\n",
    "from sklearn.metrics import log_loss\n",
    "from matplotlib import pyplot\n",
    "from sklearn.metrics import  roc_auc_score\n",
    "from sklearn.metrics import classification_report\n",
    "\n",
    "\n",
    "def save_preds(preds, cb=False):\n",
    "    preds = np.ravel(preds)\n",
    "    assert len(preds)==338489\n",
    "    avg = np.average(preds)\n",
    "    std = np.std(preds)\n",
    "    p = '../%s%s_tl_result_%.4f_%.4f_%s.csv' % ('cb_' if cb else '', \n",
    "        strftime('%H%M_%m%d'), avg, std, 'args.m')\n",
    "\n",
    "    df = pd.DataFrame({'instanceID': te['instanceID'].values, 'proba': preds})\n",
    "    df.sort_values('instanceID', inplace=True)\n",
    "    df.to_csv(p, index=False)\n",
    "\n",
    "    if cb: \n",
    "        return avg, std, p\n",
    "    else:\n",
    "        print('\\nTrain average: ')\n",
    "        print('Preds average: ', avg)\n",
    "        print('Preds std dev.: ', std)\n",
    "        print('\\nWritten to: ', p)\n",
    "\n",
    "# data\n",
    "\n",
    "'''\n",
    "fs = ['appCategory', 'positionID', 'positionType', 'creativeID', 'appID', 'adID',\n",
    "            'advertiserID', 'camgaignID', 'sitesetID', 'connectionType',\n",
    "            'residence', 'age', 'hometown', 'haveBaby', 'telecomsOperator',\n",
    "            'gender', 'education', 'clickTime_h', 'clickTime_d', 'weekDay',\n",
    "            'marriageStatus', 'appPlatform', 'clickTime_m', 'userID']\n",
    "'''\n",
    "\n",
    "tr = pd.read_csv('../data/pre/complete_train.csv')\n",
    "\n",
    "te = pd.read_csv('../data/pre/complete_test.csv')\n",
    "\n",
    "\n",
    "\n",
    "\n",
    "\n",
    "fs = ['appCategory', 'positionID', 'positionType', 'creativeID', 'appID', 'adID',\n",
    "            'advertiserID', 'camgaignID', 'sitesetID', 'connectionType',\n",
    "            'residence', 'age', 'hometown', 'haveBaby', 'telecomsOperator',\n",
    "            'gender', 'education', 'clickTime_h', 'clickTime_d', 'weekDay',\n",
    "            'marriageStatus', 'appPlatform', 'clickTime_m', 'userID']\n",
    "fs_ac = [c for c in te.columns if 'adAppCat_' in c]\n",
    "fs_ui = [c for c in te.columns if 'insCat_' in c]\n",
    "fs_ua = [c for c in te.columns if 'actCat_' in c]\n",
    "\n",
    "# ==================================================\n",
    "\n",
    "a_fs = fs + fs_ac + fs_ui + fs_ua\n",
    "print(len(a_fs))\n",
    "\n",
    "tr_x = tr[a_fs].values\n",
    "tr_y = tr['label'].values\n",
    "\n",
    "\n",
    "te_x = te[a_fs].values\n",
    "te_y = None\n",
    "\n",
    "# xgboost\n",
    "\n",
    "\n",
    "model = xgb.XGBClassifier(max_depth=10, max_delta_step=1, silent=False, n_estimators=73, \n",
    "                        learning_rate=0.3, objective='binary:logistic', \n",
    "                        min_child_weight = 1, scale_pos_weight = 1,  \n",
    "                       ).fit(tr_x, tr_y, \n",
    "\n",
    "      verbose=True)\n",
    "\n",
    "predict_probas = model.predict_proba(te_x)[:,1]\n",
    "save_preds(predict_probas)\n",
    "\n",
    "# va_y_pred = model.predict_proba(va_x)[:,1]\n",
    "\n",
    "# logloss = log_loss(va_y, va_y_pred)\n",
    "# print('\\n\\nLogloss: ', logloss)\n",
    "# va_y_pred_class = model.predict(va_x)\n",
    "\n",
    "# s= classification_report(va_y, va_y_pred_class)\n",
    "# s_rocauc= roc_auc_score(va_y, va_y_pred)\n",
    "# print(s, '\\n', s_rocauc)\n",
    "\n",
    "pprint(list(zip(a_fs, model.feature_importances_)))"
   ]
  },
  {
   "cell_type": "code",
   "execution_count": 2,
   "metadata": {},
   "outputs": [
    {
     "ename": "NameError",
     "evalue": "name 'preds' is not defined",
     "output_type": "error",
     "traceback": [
      "\u001b[0;31m---------------------------------------------------------------------------\u001b[0m",
      "\u001b[0;31mNameError\u001b[0m                                 Traceback (most recent call last)",
      "\u001b[0;32m<ipython-input-2-3c6beb5764d1>\u001b[0m in \u001b[0;36m<module>\u001b[0;34m()\u001b[0m\n\u001b[0;32m----> 1\u001b[0;31m \u001b[0mpreds\u001b[0m\u001b[0;34m\u001b[0m\u001b[0m\n\u001b[0m",
      "\u001b[0;31mNameError\u001b[0m: name 'preds' is not defined"
     ]
    }
   ],
   "source": [
    "preds"
   ]
  },
  {
   "cell_type": "code",
   "execution_count": 4,
   "metadata": {},
   "outputs": [
    {
     "data": {
      "text/plain": [
       "676978"
      ]
     },
     "execution_count": 4,
     "metadata": {},
     "output_type": "execute_result"
    }
   ],
   "source": [
    "len(predict_probas)"
   ]
  },
  {
   "cell_type": "code",
   "execution_count": null,
   "metadata": {
    "collapsed": true
   },
   "outputs": [],
   "source": []
  }
 ],
 "metadata": {
  "kernelspec": {
   "display_name": "Python 3",
   "language": "python",
   "name": "python3"
  },
  "language_info": {
   "codemirror_mode": {
    "name": "ipython",
    "version": 3
   },
   "file_extension": ".py",
   "mimetype": "text/x-python",
   "name": "python",
   "nbconvert_exporter": "python",
   "pygments_lexer": "ipython3",
   "version": "3.5.2"
  }
 },
 "nbformat": 4,
 "nbformat_minor": 2
}
