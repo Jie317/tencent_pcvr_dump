{
 "cells": [
  {
   "cell_type": "code",
   "execution_count": 1,
   "metadata": {
    "collapsed": true
   },
   "outputs": [],
   "source": [
    "d = '../data/pre/' # raw data directory\n",
    "\n",
    "import os\n",
    "import pandas as pd\n",
    "import numpy as np\n",
    "from collections import Counter\n",
    "from time import time\n",
    "from imblearn.under_sampling import RandomUnderSampler\n",
    "\n",
    "\n",
    "# ## Load all csv files into pandas DataFrames\n",
    "'''\n",
    "user = pd.read_csv('%suser.csv' % d)\n",
    "ad = pd.read_csv('%sad.csv' % d)\n",
    "position = pd.read_csv('%sposition.csv' % d)\n",
    "test = pd.read_csv('%stest.csv' % d)\n",
    "train = pd.read_csv('%strain.csv' % d)'''\n",
    "ac = pd.read_csv('%sapp_categories.csv' % d)\n",
    "ui = pd.read_csv('%suser_installedapps.csv' % d)\n",
    "ua = pd.read_csv('%suser_app_actions.csv' % d)"
   ]
  },
  {
   "cell_type": "code",
   "execution_count": 115,
   "metadata": {},
   "outputs": [
    {
     "name": "stderr",
     "output_type": "stream",
     "text": [
      "/usr/local/lib/python3.5/dist-packages/numpy/lib/arraysetops.py:395: FutureWarning: elementwise comparison failed; returning scalar instead, but in the future will perform elementwise comparison\n",
      "  mask |= (ar1 == a)\n"
     ]
    }
   ],
   "source": [
    "tr_ori = pd.read_csv('../data/pre/new_generated_train.csv', index_col=0)\n",
    "te_ori = pd.read_csv('../data/pre/new_generated_test.csv', index_col=0)"
   ]
  },
  {
   "cell_type": "code",
   "execution_count": 3,
   "metadata": {
    "collapsed": true
   },
   "outputs": [],
   "source": [
    "ui_ids = ui.userID.unique()"
   ]
  },
  {
   "cell_type": "code",
   "execution_count": 4,
   "metadata": {
    "collapsed": true
   },
   "outputs": [],
   "source": [
    "ua_ids = ua.userID.unique()"
   ]
  },
  {
   "cell_type": "code",
   "execution_count": 5,
   "metadata": {},
   "outputs": [
    {
     "data": {
      "text/plain": [
       "(1446105, 781112)"
      ]
     },
     "execution_count": 5,
     "metadata": {},
     "output_type": "execute_result"
    }
   ],
   "source": [
    "len(ui_ids), len(ua_ids\n",
    "                )"
   ]
  },
  {
   "cell_type": "code",
   "execution_count": 6,
   "metadata": {
    "collapsed": true
   },
   "outputs": [],
   "source": [
    "inters = set(ui_ids).intersection(ua_ids)"
   ]
  },
  {
   "cell_type": "code",
   "execution_count": 116,
   "metadata": {
    "collapsed": true
   },
   "outputs": [],
   "source": [
    "va = tr_ori.sample(frac=.1, random_state=3)\n",
    "tr = tr_ori.drop(va.index, axis=0)"
   ]
  },
  {
   "cell_type": "code",
   "execution_count": 118,
   "metadata": {},
   "outputs": [
    {
     "data": {
      "text/plain": [
       "(374953, 3374575)"
      ]
     },
     "execution_count": 118,
     "metadata": {},
     "output_type": "execute_result"
    }
   ],
   "source": [
    "len(va), len(tr)"
   ]
  },
  {
   "cell_type": "code",
   "execution_count": 119,
   "metadata": {
    "collapsed": true
   },
   "outputs": [],
   "source": [
    "va_x = va.appCategory.values.reshape(-1,1)\n",
    "va_y = va.label.values.reshape(-1,1)\n",
    "tr_x = tr.appCategory.values.reshape(-1,1)\n",
    "tr_y = tr.label.values.reshape(-1,1)"
   ]
  },
  {
   "cell_type": "code",
   "execution_count": 120,
   "metadata": {
    "collapsed": true
   },
   "outputs": [],
   "source": [
    "tr_ = tr.groupby('appCategory').apply(lambda df: np.mean(df.label))\n",
    "va_ = va.groupby('appCategory').apply(lambda df: np.mean(df.label))"
   ]
  },
  {
   "cell_type": "code",
   "execution_count": 123,
   "metadata": {},
   "outputs": [
    {
     "data": {
      "text/plain": [
       "(appCategory\n",
       " 0      0.421053\n",
       " 2      0.015507\n",
       " 101    0.030436\n",
       " 104    0.034925\n",
       " 106    0.048780\n",
       " 108    0.007061\n",
       " 201    0.031483\n",
       " 203    0.097034\n",
       " 209    0.020315\n",
       " 301    0.028169\n",
       " 402    0.037585\n",
       " 407    0.204886\n",
       " 408    0.000000\n",
       " 503    0.032605\n",
       " dtype: float64, appCategory\n",
       " 0      0.444444\n",
       " 2      0.015305\n",
       " 101    0.030816\n",
       " 104    0.034955\n",
       " 106    0.000000\n",
       " 108    0.005828\n",
       " 201    0.031631\n",
       " 203    0.092605\n",
       " 209    0.020449\n",
       " 301    0.026903\n",
       " 402    0.037420\n",
       " 407    0.193337\n",
       " 408    0.000000\n",
       " 503    0.026467\n",
       " dtype: float64)"
      ]
     },
     "execution_count": 123,
     "metadata": {},
     "output_type": "execute_result"
    }
   ],
   "source": [
    "tr_,va_"
   ]
  },
  {
   "cell_type": "code",
   "execution_count": 11,
   "metadata": {
    "collapsed": true
   },
   "outputs": [],
   "source": [
    "ac_stat = tr.groupby('appCategory').apply(lambda df: len(df))"
   ]
  },
  {
   "cell_type": "code",
   "execution_count": 57,
   "metadata": {},
   "outputs": [
    {
     "data": {
      "text/plain": [
       "appCategory\n",
       "0     -0.118241\n",
       "2     -0.001088\n",
       "101    0.021153\n",
       "104    0.002107\n",
       "106   -0.247342\n",
       "108   -0.000698\n",
       "201    0.000971\n",
       "203    0.047513\n",
       "209    0.000438\n",
       "301    0.014674\n",
       "402    0.008241\n",
       "407    0.026503\n",
       "408   -0.542655\n",
       "503    0.020019\n",
       "dtype: float64"
      ]
     },
     "execution_count": 57,
     "metadata": {},
     "output_type": "execute_result"
    }
   ],
   "source": [
    "va_-np.ravel(model_.predict(tr_.index))"
   ]
  },
  {
   "cell_type": "code",
   "execution_count": 75,
   "metadata": {},
   "outputs": [
    {
     "data": {
      "text/plain": [
       "array([[ 0.44356692],\n",
       "       [ 0.02204597],\n",
       "       [ 0.03755671],\n",
       "       [ 0.03990374],\n",
       "       [ 0.05462163],\n",
       "       [ 0.00612368],\n",
       "       [ 0.0381333 ],\n",
       "       [ 0.11911406],\n",
       "       [ 0.02481109],\n",
       "       [ 0.03681537],\n",
       "       [ 0.04339963],\n",
       "       [ 0.20951852],\n",
       "       [ 0.00422624],\n",
       "       [ 0.54649371]], dtype=float32)"
      ]
     },
     "execution_count": 75,
     "metadata": {},
     "output_type": "execute_result"
    }
   ],
   "source": [
    "model.predict(tr_.index)"
   ]
  },
  {
   "cell_type": "code",
   "execution_count": 15,
   "metadata": {
    "collapsed": true
   },
   "outputs": [],
   "source": [
    "ac_stat.values\n",
    "total_tr = 2*max(ac_stat.values)\n",
    "new_x = []\n",
    "new_y = []\n",
    "for cate,occ in zip(ac_stat.index, ac_stat.values):\n",
    "    tmp = tr.loc[tr.appCategory==cate]\n",
    "    x = tmp.appCategory.values\n",
    "    y = tmp.label.values\n",
    "    x = list(x)\n",
    "    y = list(y)\n",
    "    x = x*(int(total_tr/len(x)))\n",
    "    y = y*(int(total_tr/len(y)))    \n",
    "    new_x += x\n",
    "    new_y += y\n",
    "new_x = np.array(new_x)\n",
    "new_y = np.array(new_y)"
   ]
  },
  {
   "cell_type": "code",
   "execution_count": 16,
   "metadata": {
    "collapsed": true
   },
   "outputs": [],
   "source": [
    "new_y = new_y.reshape(-1,1)\n",
    "new_x = new_x.reshape(-1,1)"
   ]
  },
  {
   "cell_type": "code",
   "execution_count": 17,
   "metadata": {},
   "outputs": [
    {
     "data": {
      "text/plain": [
       "(47624892, 1)"
      ]
     },
     "execution_count": 17,
     "metadata": {},
     "output_type": "execute_result"
    }
   ],
   "source": [
    "new_y.shape"
   ]
  },
  {
   "cell_type": "code",
   "execution_count": 30,
   "metadata": {},
   "outputs": [
    {
     "data": {
      "text/plain": [
       "Int64Index([0, 2, 101, 104, 106, 108, 201, 203, 209, 301, 402, 407, 408, 503], dtype='int64', name='appCategory')"
      ]
     },
     "execution_count": 30,
     "metadata": {},
     "output_type": "execute_result"
    }
   ],
   "source": [
    "ac_stat.index"
   ]
  },
  {
   "cell_type": "code",
   "execution_count": 14,
   "metadata": {
    "collapsed": true
   },
   "outputs": [],
   "source": [
    "tr_ac = tr.appCategory.values.reshape(-1,1)"
   ]
  },
  {
   "cell_type": "code",
   "execution_count": 15,
   "metadata": {
    "collapsed": true
   },
   "outputs": [],
   "source": [
    "tr_y = tr.label.values.reshape(-1, 1)"
   ]
  },
  {
   "cell_type": "code",
   "execution_count": 16,
   "metadata": {
    "collapsed": true
   },
   "outputs": [],
   "source": [
    "tr_ac_oh = pd.get_dummies(pd.concat([tr, te]).appCategory).values"
   ]
  },
  {
   "cell_type": "code",
   "execution_count": 17,
   "metadata": {},
   "outputs": [
    {
     "data": {
      "text/plain": [
       "(3749528, 14)"
      ]
     },
     "execution_count": 17,
     "metadata": {},
     "output_type": "execute_result"
    }
   ],
   "source": [
    "tr_ac_oh = tr_ac_oh[:len(tr)]\n",
    "tr_ac_oh.shape"
   ]
  },
  {
   "cell_type": "code",
   "execution_count": 21,
   "metadata": {},
   "outputs": [
    {
     "name": "stderr",
     "output_type": "stream",
     "text": [
      "Using TensorFlow backend.\n"
     ]
    }
   ],
   "source": [
    "from keras.models import load_model, Sequential, Model\n",
    "from keras.utils import plot_model, to_categorical\n",
    "from keras.callbacks import TensorBoard, ModelCheckpoint, Callback\n",
    "from keras.layers import Dense, Embedding, LSTM, GRU, SimpleRNN, BatchNormalization\n",
    "from keras.layers import Dropout, Bidirectional, Flatten, Input, Reshape\n",
    "from keras.layers.merge import Concatenate, Add, concatenate, add"
   ]
  },
  {
   "cell_type": "code",
   "execution_count": 74,
   "metadata": {},
   "outputs": [
    {
     "name": "stdout",
     "output_type": "stream",
     "text": [
      "_________________________________________________________________\n",
      "Layer (type)                 Output Shape              Param #   \n",
      "=================================================================\n",
      "input_11 (InputLayer)        (None, 1)                 0         \n",
      "_________________________________________________________________\n",
      "embedding_9 (Embedding)      (None, 1, 64)             32256     \n",
      "_________________________________________________________________\n",
      "flatten_9 (Flatten)          (None, 64)                0         \n",
      "_________________________________________________________________\n",
      "dense_17 (Dense)             (None, 64)                4160      \n",
      "_________________________________________________________________\n",
      "dense_18 (Dense)             (None, 1)                 65        \n",
      "=================================================================\n",
      "Total params: 36,481\n",
      "Trainable params: 36,481\n",
      "Non-trainable params: 0\n",
      "_________________________________________________________________\n",
      "Train on 3374575 samples, validate on 374953 samples\n",
      "Epoch 1/8\n",
      "3374575/3374575 [==============================] - 20s - loss: 0.1132 - binary_crossentropy: 0.1132 - val_loss: 0.1138 - val_binary_crossentropy: 0.1138\n",
      "Epoch 2/8\n",
      "3374575/3374575 [==============================] - 19s - loss: 0.1125 - binary_crossentropy: 0.1125 - val_loss: 0.1137 - val_binary_crossentropy: 0.1137\n",
      "Epoch 3/8\n",
      "3374575/3374575 [==============================] - 19s - loss: 0.1125 - binary_crossentropy: 0.1125 - val_loss: 0.1140 - val_binary_crossentropy: 0.1140\n",
      "Epoch 4/8\n",
      "3374575/3374575 [==============================] - 19s - loss: 0.1125 - binary_crossentropy: 0.1125 - val_loss: 0.1144 - val_binary_crossentropy: 0.1144\n",
      "Epoch 5/8\n",
      "3374575/3374575 [==============================] - 19s - loss: 0.1125 - binary_crossentropy: 0.1125 - val_loss: 0.1138 - val_binary_crossentropy: 0.1138\n",
      "Epoch 6/8\n",
      "3374575/3374575 [==============================] - 19s - loss: 0.1125 - binary_crossentropy: 0.1125 - val_loss: 0.1138 - val_binary_crossentropy: 0.1138\n",
      "Epoch 7/8\n",
      "3374575/3374575 [==============================] - 19s - loss: 0.1125 - binary_crossentropy: 0.1125 - val_loss: 0.1138 - val_binary_crossentropy: 0.1138\n",
      "Epoch 8/8\n",
      "3374575/3374575 [==============================] - 19s - loss: 0.1124 - binary_crossentropy: 0.1124 - val_loss: 0.1138 - val_binary_crossentropy: 0.1138\n"
     ]
    },
    {
     "data": {
      "text/plain": [
       "<keras.callbacks.History at 0x7f48accb2d30>"
      ]
     },
     "execution_count": 74,
     "metadata": {},
     "output_type": "execute_result"
    }
   ],
   "source": [
    "# no ajust\n",
    "np.random.seed(22)\n",
    "i = Input(shape=(1,))\n",
    "o = Embedding(np.max(tr_x)+1, 64)(i)\n",
    "o = Flatten()(o)\n",
    "o = Dense(64, activation='tanh')(o)\n",
    "o = Dense(1, activation='sigmoid')(o)\n",
    "model_ = Model(i,o)\n",
    "model_.summary()\n",
    "model_.compile(optimizer='rmsprop', loss='binary_crossentropy', metrics=['binary_crossentropy'])\n",
    "# print(model.layers[1].get_weights())\n",
    "model_.fit(tr_x, tr_y,validation_data=(va_x,va_y), verbose=1, epochs=8, batch_size=256,  shuffle=True)"
   ]
  },
  {
   "cell_type": "code",
   "execution_count": 109,
   "metadata": {},
   "outputs": [
    {
     "name": "stdout",
     "output_type": "stream",
     "text": [
      "_________________________________________________________________\n",
      "Layer (type)                 Output Shape              Param #   \n",
      "=================================================================\n",
      "input_27 (InputLayer)        (None, 1)                 0         \n",
      "_________________________________________________________________\n",
      "embedding_25 (Embedding)     (None, 1, 64)             32256     \n",
      "_________________________________________________________________\n",
      "flatten_25 (Flatten)         (None, 64)                0         \n",
      "_________________________________________________________________\n",
      "dense_49 (Dense)             (None, 64)                4160      \n",
      "_________________________________________________________________\n",
      "dense_50 (Dense)             (None, 1)                 65        \n",
      "=================================================================\n",
      "Total params: 36,481\n",
      "Trainable params: 36,481\n",
      "Non-trainable params: 0\n",
      "_________________________________________________________________\n",
      "Train on 47624892 samples, validate on 374953 samples\n",
      "Epoch 1/3\n",
      "47624892/47624892 [==============================] - 69s - loss: 0.1983 - binary_crossentropy: 0.1983 - val_loss: 0.1137 - val_binary_crossentropy: 0.1137\n",
      "Epoch 2/3\n",
      "47624892/47624892 [==============================] - 68s - loss: 0.1977 - binary_crossentropy: 0.1977 - val_loss: 0.1139 - val_binary_crossentropy: 0.1139\n",
      "Epoch 3/3\n",
      "47624892/47624892 [==============================] - 66s - loss: 0.1977 - binary_crossentropy: 0.1977 - val_loss: 0.1137 - val_binary_crossentropy: 0.1137\n"
     ]
    },
    {
     "data": {
      "text/plain": [
       "<keras.callbacks.History at 0x7f48ac584198>"
      ]
     },
     "execution_count": 109,
     "metadata": {},
     "output_type": "execute_result"
    }
   ],
   "source": [
    "np.random.seed(32)\n",
    "i = Input(shape=(1,))\n",
    "o = Embedding(np.max(new_x)+1, 64)(i)\n",
    "o = Flatten()(o)\n",
    "o = Dense(64, activation='tanh')(o)\n",
    "o = Dense(1, activation='sigmoid')(o)\n",
    "model = Model(i,o)\n",
    "model.summary()\n",
    "model.compile(optimizer='rmsprop', loss='binary_crossentropy', metrics=['binary_crossentropy'])\n",
    "# print(model.layers[1].get_weights())\n",
    "model.fit(new_x, new_y,validation_data=(va_x,va_y), verbose=1, epochs=3, batch_size=4096,  shuffle=True)"
   ]
  },
  {
   "cell_type": "code",
   "execution_count": 90,
   "metadata": {},
   "outputs": [
    {
     "name": "stdout",
     "output_type": "stream",
     "text": [
      "Train on 47624892 samples, validate on 374953 samples\n",
      "Epoch 1/1\n",
      "47624892/47624892 [==============================] - 69s - loss: 0.1976 - binary_crossentropy: 0.1976 - val_loss: 0.1135 - val_binary_crossentropy: 0.1135\n"
     ]
    },
    {
     "data": {
      "text/plain": [
       "<keras.callbacks.History at 0x7f48af9cc6d8>"
      ]
     },
     "execution_count": 90,
     "metadata": {},
     "output_type": "execute_result"
    }
   ],
   "source": [
    "model.fit(new_x, new_y,validation_data=(va_x,va_y), verbose=1, epochs=1, batch_size=4086,  shuffle=True)"
   ]
  },
  {
   "cell_type": "code",
   "execution_count": 91,
   "metadata": {},
   "outputs": [
    {
     "data": {
      "text/plain": [
       "{0: 0.5,\n",
       " 2: 0.015029264214046822,\n",
       " 101: 0.033932813030200203,\n",
       " 104: 0.03612074382665767,\n",
       " 106: 0.045454545454545456,\n",
       " 108: 0.0070273074564920057,\n",
       " 201: 0.031471307440693576,\n",
       " 203: 0.095578673602080624,\n",
       " 209: 0.020321163301600585,\n",
       " 301: 0.028712234840368545,\n",
       " 402: 0.039628654565608976,\n",
       " 407: 0.2084440507824033,\n",
       " 408: 0.0,\n",
       " 503: 0.037386269644334162}"
      ]
     },
     "execution_count": 91,
     "metadata": {},
     "output_type": "execute_result"
    }
   ],
   "source": [
    "va_df = va_.to_frame().reset_index()\n",
    "dict_cat_prob = va_df.set_index(va_df.appCategory).to_dict()[0]\n",
    "dict_cat_prob"
   ]
  },
  {
   "cell_type": "code",
   "execution_count": 108,
   "metadata": {},
   "outputs": [
    {
     "data": {
      "text/plain": [
       "'-0.00006013, 0.00028786, -0.00034798'"
      ]
     },
     "execution_count": 108,
     "metadata": {},
     "output_type": "execute_result"
    }
   ],
   "source": [
    "from sklearn.metrics import log_loss\n",
    "# ideal_loss = log_loss(va_y, np.array([dict_cat_prob[c[0]] for c in va_x]).reshape(-1,1))\n",
    "model_loss = log_loss(va_y, model.predict(va_x ))\n",
    "model_loss_ = log_loss(va_y, model_.predict(va_x ))\n",
    "'%.8f, %.8f, %.8f'%(ideal_loss-model_loss , model_loss_-model_loss,ideal_loss-model_loss_)"
   ]
  },
  {
   "cell_type": "code",
   "execution_count": 86,
   "metadata": {
    "collapsed": true
   },
   "outputs": [
    {
     "name": "stdout",
     "output_type": "stream",
     "text": [
      "_________________________________________________________________\n",
      "Layer (type)                 Output Shape              Param #   \n",
      "=================================================================\n",
      "input_18 (InputLayer)        (None, 14)                0         \n",
      "_________________________________________________________________\n",
      "dense_27 (Dense)             (None, 64)                960       \n",
      "_________________________________________________________________\n",
      "dense_28 (Dense)             (None, 1)                 65        \n",
      "=================================================================\n",
      "Total params: 1,025\n",
      "Trainable params: 1,025\n",
      "Non-trainable params: 0\n",
      "_________________________________________________________________\n",
      "Train on 3374575 samples, validate on 374953 samples\n",
      "Epoch 1/5\n",
      "3374575/3374575 [==============================] - 5s - loss: 0.1263 - binary_crossentropy: 0.1263 - val_loss: 0.0981 - val_binary_crossentropy: 0.0981\n",
      "Epoch 2/5\n",
      "3374575/3374575 [==============================] - 5s - loss: 0.1142 - binary_crossentropy: 0.1142 - val_loss: 0.0971 - val_binary_crossentropy: 0.0971\n",
      "Epoch 3/5\n",
      "3374575/3374575 [==============================] - 6s - loss: 0.1142 - binary_crossentropy: 0.1142 - val_loss: 0.0975 - val_binary_crossentropy: 0.0975\n",
      "Epoch 4/5\n",
      "3374575/3374575 [==============================] - 5s - loss: 0.1142 - binary_crossentropy: 0.1142 - val_loss: 0.0970 - val_binary_crossentropy: 0.0970\n",
      "Epoch 5/5\n",
      "3374575/3374575 [==============================] - 5s - loss: 0.1142 - binary_crossentropy: 0.1142 - val_loss: 0.0989 - val_binary_crossentropy: 0.0989\n"
     ]
    },
    {
     "data": {
      "text/plain": [
       "<keras.callbacks.History at 0x7fa3cc2554a8>"
      ]
     },
     "execution_count": 86,
     "metadata": {},
     "output_type": "execute_result"
    }
   ],
   "source": [
    "np.random.seed(10)\n",
    "i = Input(shape=(len(tr_ac_oh[0]),))\n",
    "o = Dense(64, activation='tanh')(i)\n",
    "o = Dense(1, activation='sigmoid')(o)\n",
    "model_oh = Model(i,o)\n",
    "model_oh.summary()\n",
    "model_oh.compile(optimizer='rmsprop', loss='binary_crossentropy', metrics=['binary_crossentropy'])\n",
    "model_oh.fit(tr_ac_oh, tr_y, validation_split=.1, verbose=1, epochs=5, batch_size=2048,  shuffle=True)"
   ]
  },
  {
   "cell_type": "code",
   "execution_count": 62,
   "metadata": {
    "collapsed": true
   },
   "outputs": [
    {
     "name": "stdout",
     "output_type": "stream",
     "text": [
      "Train on 3374575 samples, validate on 374953 samples\n",
      "Epoch 1/5\n",
      "3374575/3374575 [==============================] - 15s - loss: 0.1143 - binary_crossentropy: 0.1143 - val_loss: 0.0964 - val_binary_crossentropy: 0.0964\n",
      "Epoch 2/5\n",
      "3374575/3374575 [==============================] - 15s - loss: 0.1144 - binary_crossentropy: 0.1144 - val_loss: 0.0967 - val_binary_crossentropy: 0.0967\n",
      "Epoch 3/5\n",
      "3374575/3374575 [==============================] - 15s - loss: 0.1144 - binary_crossentropy: 0.1144 - val_loss: 0.0962 - val_binary_crossentropy: 0.0962\n",
      "Epoch 4/5\n",
      "3374575/3374575 [==============================] - 15s - loss: 0.1144 - binary_crossentropy: 0.1144 - val_loss: 0.0965 - val_binary_crossentropy: 0.0965\n",
      "Epoch 5/5\n",
      "3374575/3374575 [==============================] - 15s - loss: 0.1144 - binary_crossentropy: 0.1144 - val_loss: 0.0972 - val_binary_crossentropy: 0.0972\n"
     ]
    },
    {
     "data": {
      "text/plain": [
       "<keras.callbacks.History at 0x7fa3d1397cf8>"
      ]
     },
     "execution_count": 62,
     "metadata": {},
     "output_type": "execute_result"
    }
   ],
   "source": [
    "model.fit(tr_ac_oh, tr_y, validation_split=.1, verbose=1, epochs=5, batch_size=256,  shuffle=True)\n"
   ]
  },
  {
   "cell_type": "code",
   "execution_count": null,
   "metadata": {
    "collapsed": true
   },
   "outputs": [],
   "source": []
  },
  {
   "cell_type": "code",
   "execution_count": 22,
   "metadata": {},
   "outputs": [
    {
     "ename": "NameError",
     "evalue": "name 'tr_ac' is not defined",
     "output_type": "error",
     "traceback": [
      "\u001b[0;31m---------------------------------------------------------------------------\u001b[0m",
      "\u001b[0;31mNameError\u001b[0m                                 Traceback (most recent call last)",
      "\u001b[0;32m<ipython-input-22-63e34832a7ac>\u001b[0m in \u001b[0;36m<module>\u001b[0;34m()\u001b[0m\n\u001b[1;32m      1\u001b[0m \u001b[0mnp\u001b[0m\u001b[0;34m.\u001b[0m\u001b[0mrandom\u001b[0m\u001b[0;34m.\u001b[0m\u001b[0mseed\u001b[0m\u001b[0;34m(\u001b[0m\u001b[0;36m10\u001b[0m\u001b[0;34m)\u001b[0m\u001b[0;34m\u001b[0m\u001b[0m\n\u001b[1;32m      2\u001b[0m \u001b[0mi\u001b[0m \u001b[0;34m=\u001b[0m \u001b[0mInput\u001b[0m\u001b[0;34m(\u001b[0m\u001b[0mshape\u001b[0m\u001b[0;34m=\u001b[0m\u001b[0;34m(\u001b[0m\u001b[0;36m1\u001b[0m\u001b[0;34m,\u001b[0m\u001b[0;34m)\u001b[0m\u001b[0;34m)\u001b[0m\u001b[0;34m\u001b[0m\u001b[0m\n\u001b[0;32m----> 3\u001b[0;31m \u001b[0mo\u001b[0m \u001b[0;34m=\u001b[0m \u001b[0mEmbedding\u001b[0m\u001b[0;34m(\u001b[0m\u001b[0mnp\u001b[0m\u001b[0;34m.\u001b[0m\u001b[0mmax\u001b[0m\u001b[0;34m(\u001b[0m\u001b[0mtr_ac\u001b[0m\u001b[0;34m)\u001b[0m\u001b[0;34m+\u001b[0m\u001b[0;36m1\u001b[0m\u001b[0;34m,\u001b[0m \u001b[0;36m16\u001b[0m\u001b[0;34m)\u001b[0m\u001b[0;34m(\u001b[0m\u001b[0mi\u001b[0m\u001b[0;34m)\u001b[0m\u001b[0;34m\u001b[0m\u001b[0m\n\u001b[0m\u001b[1;32m      4\u001b[0m \u001b[0mo\u001b[0m \u001b[0;34m=\u001b[0m \u001b[0mFlatten\u001b[0m\u001b[0;34m(\u001b[0m\u001b[0;34m)\u001b[0m\u001b[0;34m(\u001b[0m\u001b[0mo\u001b[0m\u001b[0;34m)\u001b[0m\u001b[0;34m\u001b[0m\u001b[0m\n\u001b[1;32m      5\u001b[0m \u001b[0mo\u001b[0m \u001b[0;34m=\u001b[0m \u001b[0mDense\u001b[0m\u001b[0;34m(\u001b[0m\u001b[0;36m64\u001b[0m\u001b[0;34m,\u001b[0m \u001b[0mactivation\u001b[0m\u001b[0;34m=\u001b[0m\u001b[0;34m'tanh'\u001b[0m\u001b[0;34m)\u001b[0m\u001b[0;34m(\u001b[0m\u001b[0mo\u001b[0m\u001b[0;34m)\u001b[0m\u001b[0;34m\u001b[0m\u001b[0m\n",
      "\u001b[0;31mNameError\u001b[0m: name 'tr_ac' is not defined"
     ]
    }
   ],
   "source": [
    "np.random.seed(10)\n",
    "i = Input(shape=(1,))\n",
    "o = Embedding(np.max(new_x)+1, 16)(i)\n",
    "o = Flatten()(o)\n",
    "o = Dense(64, activation='tanh')(o)\n",
    "o = Dense(1, activation='sigmoid')(o)\n",
    "model = Model(i,o)\n",
    "model.summary()\n",
    "model.compile(optimizer='rmsprop', loss='binary_crossentropy', metrics=['binary_crossentropy'])\n",
    "# print(model.layers[1].get_weights())\n",
    "model.fit(new_x, new_y, validation_data=(va_x,va_y), verbose=1, epochs=2, batch_size=128,  shuffle=True)"
   ]
  }
 ],
 "metadata": {
  "kernelspec": {
   "display_name": "Python 3",
   "language": "python",
   "name": "python3"
  },
  "language_info": {
   "codemirror_mode": {
    "name": "ipython",
    "version": 3
   },
   "file_extension": ".py",
   "mimetype": "text/x-python",
   "name": "python",
   "nbconvert_exporter": "python",
   "pygments_lexer": "ipython3",
   "version": "3.5.2"
  }
 },
 "nbformat": 4,
 "nbformat_minor": 2
}
