{
 "cells": [
  {
   "cell_type": "code",
   "execution_count": 1,
   "metadata": {
    "collapsed": true
   },
   "outputs": [],
   "source": [
    "\"\"\"\n",
    "baseline 1: history pCVR of creativeID/adID/camgaignID/advertiserID/appID/appPlatform\n",
    "\"\"\"\n",
    "import matplotlib.pyplot as plt\n",
    "import zipfile\n",
    "import numpy as np\n",
    "import pandas as pd"
   ]
  },
  {
   "cell_type": "code",
   "execution_count": 37,
   "metadata": {},
   "outputs": [
    {
     "name": "stderr",
     "output_type": "stream",
     "text": [
      "/usr/local/lib/python3.5/dist-packages/numpy/lib/arraysetops.py:395: FutureWarning: elementwise comparison failed; returning scalar instead, but in the future will perform elementwise comparison\n",
      "  mask |= (ar1 == a)\n"
     ]
    }
   ],
   "source": [
    "tr = pd.read_csv('../data/pre/new_generated_train.csv', index_col=0)\n",
    "te = pd.read_csv('../data/pre/new_generated_test.csv', index_col=0)"
   ]
  },
  {
   "cell_type": "code",
   "execution_count": 65,
   "metadata": {},
   "outputs": [],
   "source": [
    "tr_copy = tr.copy(deep=True) "
   ]
  },
  {
   "cell_type": "code",
   "execution_count": 4,
   "metadata": {},
   "outputs": [
    {
     "data": {
      "text/html": [
       "<div>\n",
       "<style>\n",
       "    .dataframe thead tr:only-child th {\n",
       "        text-align: right;\n",
       "    }\n",
       "\n",
       "    .dataframe thead th {\n",
       "        text-align: left;\n",
       "    }\n",
       "\n",
       "    .dataframe tbody tr th {\n",
       "        vertical-align: top;\n",
       "    }\n",
       "</style>\n",
       "<table border=\"1\" class=\"dataframe\">\n",
       "  <thead>\n",
       "    <tr style=\"text-align: right;\">\n",
       "      <th></th>\n",
       "      <th>appID</th>\n",
       "      <th>appCategory</th>\n",
       "    </tr>\n",
       "  </thead>\n",
       "  <tbody>\n",
       "    <tr>\n",
       "      <th>148</th>\n",
       "      <td>465</td>\n",
       "      <td>209</td>\n",
       "    </tr>\n",
       "  </tbody>\n",
       "</table>\n",
       "</div>"
      ],
      "text/plain": [
       "     appID  appCategory\n",
       "148    465          209"
      ]
     },
     "execution_count": 4,
     "metadata": {},
     "output_type": "execute_result"
    }
   ],
   "source": [
    "ac = pd.read_csv('../data/pre/app_categories.csv')\n",
    "ac.loc[ac.appID==465]"
   ]
  },
  {
   "cell_type": "code",
   "execution_count": 5,
   "metadata": {},
   "outputs": [
    {
     "data": {
      "text/plain": [
       "array(['creativeID', 'userID', 'positionID', 'connectionType',\n",
       "       'telecomsOperator', 'adID', 'camgaignID', 'advertiserID', 'appID',\n",
       "       'appPlatform', 'age', 'gender', 'education', 'marriageStatus',\n",
       "       'haveBaby', 'hometown', 'residence', 'sitesetID', 'positionType',\n",
       "       'appCategory', 'clickTime_d', 'weekDay', 'clickTime_h',\n",
       "       'clickTime_m', 'conversionTime_d'], dtype=object)"
      ]
     },
     "execution_count": 5,
     "metadata": {},
     "output_type": "execute_result"
    }
   ],
   "source": [
    "fs = tr.columns.values[1:]\n",
    "fs"
   ]
  },
  {
   "cell_type": "code",
   "execution_count": 6,
   "metadata": {
    "collapsed": true
   },
   "outputs": [],
   "source": [
    "lst = [] # skip userID"
   ]
  },
  {
   "cell_type": "code",
   "execution_count": 10,
   "metadata": {
    "collapsed": true
   },
   "outputs": [
    {
     "data": {
      "image/png": "[encoded data removed]",
      "text/plain": [
       "<matplotlib.figure.Figure at 0x7f233365d048>"
      ]
     },
     "metadata": {},
     "output_type": "display_data"
    },
    {
     "data": {
      "image/png": "[encoded data removed]",
      "text/plain": [
       "<matplotlib.figure.Figure at 0x7f233352ceb8>"
      ]
     },
     "metadata": {},
     "output_type": "display_data"
    },
    {
     "data": {
      "image/png": "[encoded data removed]",
      "text/plain": [
       "<matplotlib.figure.Figure at 0x7f23334a0320>"
      ]
     },
     "metadata": {},
     "output_type": "display_data"
    }
   ],
   "source": [
    "key = 'appCategory'\n",
    "s = tr.groupby(key).apply(lambda df: np.mean(df.label))\n",
    "ss = tr.groupby(key).apply(lambda df: len(df))\n",
    "lst.append(s.std())\n",
    "\n",
    "fig,ax1 = plt.subplots()\n",
    "ax1.plot(s.index, s.values, 'r')\n",
    "ax1.tick_params('y', colors='r')\n",
    "ax1.xaxis.set_ticks(s.index)\n",
    "ax2 = ax1.twinx()\n",
    "ax2.plot(s.index, ss.values)\n",
    "plt.grid()\n",
    "plt.show()"
   ]
  },
  {
   "cell_type": "code",
   "execution_count": 8,
   "metadata": {
    "collapsed": true
   },
   "outputs": [],
   "source": [
    "ffs = ['appCategory', 'creativeID', 'positionID', 'connectionType',\n",
    "       'telecomsOperator', 'adID', 'camgaignID', 'advertiserID', 'appID',\n",
    "       'appPlatform', 'age', 'gender', 'education', 'marriageStatus',\n",
    "       'haveBaby', 'hometown', 'residence', 'sitesetID', 'positionType',\n",
    "       'clickTime_d', 'weekDay', 'clickTime_h', 'clickTime_m']\n",
    "dict_f_stat = {}"
   ]
  },
  {
   "cell_type": "code",
   "execution_count": 23,
   "metadata": {},
   "outputs": [
    {
     "data": {
      "text/plain": [
       "{'adID': count      3447.000000\n",
       " mean       1087.765593\n",
       " std       12796.393644\n",
       " min           1.000000\n",
       " 25%          12.000000\n",
       " 50%          44.000000\n",
       " 75%         181.500000\n",
       " max      596347.000000\n",
       " dtype: float64, 'advertiserID': count    8.900000e+01\n",
       " mean     4.212953e+04\n",
       " std      2.070383e+05\n",
       " min      6.000000e+00\n",
       " 25%      3.170000e+02\n",
       " 50%      2.334000e+03\n",
       " 75%      1.803900e+04\n",
       " max      1.916646e+06\n",
       " dtype: float64, 'age': count        81.000000\n",
       " mean      46290.469136\n",
       " std       69772.295653\n",
       " min          68.000000\n",
       " 25%        1604.000000\n",
       " 50%       13473.000000\n",
       " 75%       71968.000000\n",
       " max      445656.000000\n",
       " dtype: float64, 'appCategory': count    1.400000e+01\n",
       " mean     2.678234e+05\n",
       " std      5.023502e+05\n",
       " min      6.300000e+01\n",
       " 25%      1.881750e+04\n",
       " 50%      5.298450e+04\n",
       " 75%      2.892125e+05\n",
       " max      1.916646e+06\n",
       " dtype: float64, 'appID': count    5.000000e+01\n",
       " mean     7.499056e+04\n",
       " std      2.743816e+05\n",
       " min      6.300000e+01\n",
       " 25%      6.607500e+02\n",
       " 50%      6.682000e+03\n",
       " 75%      4.168675e+04\n",
       " max      1.916646e+06\n",
       " dtype: float64, 'appPlatform': count    2.000000e+00\n",
       " mean     1.874764e+06\n",
       " std      1.495621e+06\n",
       " min      8.172000e+05\n",
       " 25%      1.345982e+06\n",
       " 50%      1.874764e+06\n",
       " 75%      2.403546e+06\n",
       " max      2.932328e+06\n",
       " dtype: float64, 'camgaignID': count       677.000000\n",
       " mean       5538.446086\n",
       " std       28911.793837\n",
       " min           1.000000\n",
       " 25%          45.000000\n",
       " 50%         356.000000\n",
       " 75%        1872.000000\n",
       " max      596347.000000\n",
       " dtype: float64, 'clickTime_d': count        14.000000\n",
       " mean     267823.428571\n",
       " std       65689.679882\n",
       " min      104158.000000\n",
       " 25%      269783.250000\n",
       " 50%      291493.000000\n",
       " 75%      300783.000000\n",
       " max      334397.000000\n",
       " dtype: float64, 'clickTime_h': count        24.000000\n",
       " mean     156230.333333\n",
       " std       70889.217954\n",
       " min       32883.000000\n",
       " 25%       97817.250000\n",
       " 50%      178393.500000\n",
       " 75%      204006.750000\n",
       " max      253981.000000\n",
       " dtype: float64, 'clickTime_m': count       60.000000\n",
       " mean     62492.133333\n",
       " std        613.008239\n",
       " min      61205.000000\n",
       " 25%      62041.250000\n",
       " 50%      62386.500000\n",
       " 75%      62798.000000\n",
       " max      64520.000000\n",
       " dtype: float64, 'connectionType': count    5.000000e+00\n",
       " mean     7.499056e+05\n",
       " std      1.275631e+06\n",
       " min      4.333100e+04\n",
       " 25%      5.458600e+04\n",
       " 50%      1.096480e+05\n",
       " 75%      5.399040e+05\n",
       " max      3.002059e+06\n",
       " dtype: float64, 'creativeID': count      6315.000000\n",
       " mean        593.749485\n",
       " std        7368.095525\n",
       " min           1.000000\n",
       " 25%           6.000000\n",
       " 50%          22.000000\n",
       " 75%          85.000000\n",
       " max      449187.000000\n",
       " dtype: float64, 'education': count         8.000000\n",
       " mean     468691.000000\n",
       " std      366632.424129\n",
       " min       16882.000000\n",
       " 25%      174459.250000\n",
       " 50%      493840.000000\n",
       " 75%      712611.000000\n",
       " max      995655.000000\n",
       " dtype: float64, 'gender': count    3.000000e+00\n",
       " mean     1.249843e+06\n",
       " std      7.233367e+05\n",
       " min      4.345560e+05\n",
       " 25%      9.674450e+05\n",
       " 50%      1.500334e+06\n",
       " 75%      1.657486e+06\n",
       " max      1.814638e+06\n",
       " dtype: float64, 'haveBaby': count    7.000000e+00\n",
       " mean     5.356469e+05\n",
       " std      1.109320e+06\n",
       " min      1.569000e+04\n",
       " 25%      2.334750e+04\n",
       " 50%      2.783500e+04\n",
       " 75%      3.288090e+05\n",
       " max      3.001690e+06\n",
       " dtype: float64, 'hometown': count    3.650000e+02\n",
       " mean     1.027268e+04\n",
       " std      7.218853e+04\n",
       " min      3.200000e+01\n",
       " 25%      2.392000e+03\n",
       " 50%      5.425000e+03\n",
       " 75%      8.736000e+03\n",
       " max      1.381240e+06\n",
       " dtype: float64, 'marriageStatus': count    4.000000e+00\n",
       " mean     9.373820e+05\n",
       " std      5.175382e+05\n",
       " min      2.586130e+05\n",
       " 25%      7.932618e+05\n",
       " 50%      9.862510e+05\n",
       " 75%      1.130371e+06\n",
       " max      1.518413e+06\n",
       " dtype: float64, 'positionID': count      7219.000000\n",
       " mean        519.397146\n",
       " std        6939.347327\n",
       " min           1.000000\n",
       " 25%           2.000000\n",
       " 50%           5.000000\n",
       " 75%          35.000000\n",
       " max      384870.000000\n",
       " dtype: float64, 'positionType': count    6.000000e+00\n",
       " mean     6.249213e+05\n",
       " std      9.838150e+05\n",
       " min      3.062000e+03\n",
       " 25%      2.761600e+04\n",
       " 50%      1.090060e+05\n",
       " 75%      8.353592e+05\n",
       " max      2.450491e+06\n",
       " dtype: float64, 'residence': count       399.000000\n",
       " mean       9397.313283\n",
       " std       19266.193751\n",
       " min           1.000000\n",
       " 25%        2154.000000\n",
       " 50%        6216.000000\n",
       " 75%       11046.000000\n",
       " max      345202.000000\n",
       " dtype: float64, 'sitesetID': count    3.000000e+00\n",
       " mean     1.249843e+06\n",
       " std      1.336706e+06\n",
       " min      2.877700e+04\n",
       " 25%      5.357570e+05\n",
       " 50%      1.042737e+06\n",
       " 75%      1.860376e+06\n",
       " max      2.678014e+06\n",
       " dtype: float64, 'telecomsOperator': count    4.000000e+00\n",
       " mean     9.373820e+05\n",
       " std      8.273968e+05\n",
       " min      1.005430e+05\n",
       " 25%      5.991528e+05\n",
       " 50%      7.844145e+05\n",
       " 75%      1.122644e+06\n",
       " max      2.080156e+06\n",
       " dtype: float64, 'weekDay': count         7.000000\n",
       " mean     535646.857143\n",
       " std       92597.261656\n",
       " min      401983.000000\n",
       " 25%      465000.000000\n",
       " 50%      579795.000000\n",
       " 75%      605030.000000\n",
       " max      627690.000000\n",
       " dtype: float64}"
      ]
     },
     "execution_count": 23,
     "metadata": {},
     "output_type": "execute_result"
    }
   ],
   "source": [
    "dict_f_stat"
   ]
  },
  {
   "cell_type": "code",
   "execution_count": 66,
   "metadata": {
    "scrolled": true
   },
   "outputs": [
    {
     "name": "stdout",
     "output_type": "stream",
     "text": [
      "adID adID\n",
      "1       0.000000\n",
      "2       0.024390\n",
      "3       0.000000\n",
      "4       0.000000\n",
      "5       0.000000\n",
      "6       0.000000\n",
      "7       0.000000\n",
      "8       0.000000\n",
      "9       0.002574\n",
      "10      0.000000\n",
      "11      0.000000\n",
      "12      0.015837\n",
      "13      0.062500\n",
      "14      0.200000\n",
      "15      0.000000\n",
      "16      0.063830\n",
      "17      0.002175\n",
      "18      0.000000\n",
      "19      0.000000\n",
      "20      0.000000\n",
      "21      0.119403\n",
      "22      0.000000\n",
      "23      0.000000\n",
      "24      0.090909\n",
      "25      0.000000\n",
      "26      0.000000\n",
      "27      0.000000\n",
      "28      0.005834\n",
      "29      0.000000\n",
      "30      0.000000\n",
      "          ...   \n",
      "3584    0.025862\n",
      "3585    0.010397\n",
      "3586    0.000000\n",
      "3587    0.000000\n",
      "3588    0.070588\n",
      "3589    0.000000\n",
      "3590    0.021164\n",
      "3591    0.000000\n",
      "3592    0.090909\n",
      "3593    0.025192\n",
      "3594    0.000000\n",
      "3595    0.000000\n",
      "3596    0.000000\n",
      "3597    0.000000\n",
      "3598    0.001912\n",
      "3599    0.020000\n",
      "3600    0.000000\n",
      "3601    0.029412\n",
      "3602    0.000000\n",
      "3603    0.045455\n",
      "3604    0.125000\n",
      "3605    0.062500\n",
      "3608    0.000000\n",
      "3609    0.000000\n",
      "3610    0.024096\n",
      "3612    0.034483\n",
      "3613    0.000000\n",
      "3614    0.000000\n",
      "3615    0.126606\n",
      "3616    0.007663\n",
      "Length: 3447, dtype: float64 adID\n",
      "1             NaN\n",
      "2             NaN\n",
      "3       25.000000\n",
      "4             NaN\n",
      "5             NaN\n",
      "6             NaN\n",
      "7             NaN\n",
      "8             NaN\n",
      "9        5.589928\n",
      "10            NaN\n",
      "11            NaN\n",
      "12      31.571429\n",
      "13            NaN\n",
      "14            NaN\n",
      "15            NaN\n",
      "16       0.576687\n",
      "17            NaN\n",
      "18            NaN\n",
      "19            NaN\n",
      "20       5.000000\n",
      "21            NaN\n",
      "22            NaN\n",
      "23            NaN\n",
      "24      11.000000\n",
      "25      61.000000\n",
      "26            NaN\n",
      "27            NaN\n",
      "28       7.223663\n",
      "29            NaN\n",
      "30            NaN\n",
      "          ...    \n",
      "3587          NaN\n",
      "3588     5.312500\n",
      "3589     4.500000\n",
      "3590          NaN\n",
      "3591          NaN\n",
      "3592     0.478261\n",
      "3593    19.530589\n",
      "3594     0.972656\n",
      "3595    18.333333\n",
      "3596          NaN\n",
      "3597          NaN\n",
      "3598          NaN\n",
      "3599    50.000000\n",
      "3600          NaN\n",
      "3601     5.666667\n",
      "3602          NaN\n",
      "3603          NaN\n",
      "3604          NaN\n",
      "3605          NaN\n",
      "3606          NaN\n",
      "3607          NaN\n",
      "3608          NaN\n",
      "3609          NaN\n",
      "3610          NaN\n",
      "3611          NaN\n",
      "3612     3.297659\n",
      "3613          NaN\n",
      "3614          NaN\n",
      "3615    17.580645\n",
      "3616          NaN\n",
      "Length: 3616, dtype: float64\n"
     ]
    }
   ],
   "source": [
    "subffs = ['adID']\n",
    "for f in subffs:\n",
    "    st = tr.groupby(f).apply(lambda df: np.mean(df.label))\n",
    "    st_n = tr.groupby(f).apply(lambda df: len(df))    \n",
    "    st_n_te = te.groupby(f).apply(lambda df: len(df))\n",
    "    #s = st_n.describe()\n",
    "    #dict_f_stat[f] = s\n",
    "    print(f,st,st_n/st_n_te)"
   ]
  },
  {
   "cell_type": "code",
   "execution_count": null,
   "metadata": {
    "collapsed": true
   },
   "outputs": [],
   "source": [
    "nlst = []\n",
    "for f in ffs:\n",
    "    key = f\n",
    "    s = tr.groupby(key).apply(lambda df: np.mean(df.label))\n",
    "    nlst.append(s.std())"
   ]
  },
  {
   "cell_type": "code",
   "execution_count": null,
   "metadata": {
    "collapsed": true
   },
   "outputs": [],
   "source": [
    "len(ffs)==len(nlst)"
   ]
  },
  {
   "cell_type": "code",
   "execution_count": null,
   "metadata": {
    "collapsed": true
   },
   "outputs": [],
   "source": [
    "n = list(zip(ffs, nlst))\n",
    "n = pd.DataFrame(n)\n",
    "ls = n.sort_values(by=1, ascending=False)[0]"
   ]
  },
  {
   "cell_type": "code",
   "execution_count": 10,
   "metadata": {
    "collapsed": true
   },
   "outputs": [
    {
     "ename": "NameError",
     "evalue": "name 'ls' is not defined",
     "output_type": "error",
     "traceback": [
      "\u001b[0;31m---------------------------------------------------------------------------\u001b[0m",
      "\u001b[0;31mNameError\u001b[0m                                 Traceback (most recent call last)",
      "\u001b[0;32m<ipython-input-10-e1e3c913b42c>\u001b[0m in \u001b[0;36m<module>\u001b[0;34m()\u001b[0m\n\u001b[0;32m----> 1\u001b[0;31m \u001b[0mls\u001b[0m\u001b[0;34m.\u001b[0m\u001b[0mvalues\u001b[0m\u001b[0;34m\u001b[0m\u001b[0m\n\u001b[0m",
      "\u001b[0;31mNameError\u001b[0m: name 'ls' is not defined"
     ]
    }
   ],
   "source": [
    "ls.values"
   ]
  },
  {
   "cell_type": "code",
   "execution_count": null,
   "metadata": {
    "collapsed": true
   },
   "outputs": [],
   "source": [
    "['creativeID', 'positionID','connectionType']"
   ]
  }
 ],
 "metadata": {
  "kernelspec": {
   "display_name": "Python 3",
   "language": "python",
   "name": "python3"
  },
  "language_info": {
   "codemirror_mode": {
    "name": "ipython",
    "version": 3
   },
   "file_extension": ".py",
   "mimetype": "text/x-python",
   "name": "python",
   "nbconvert_exporter": "python",
   "pygments_lexer": "ipython3",
   "version": "3.5.2"
  }
 },
 "nbformat": 4,
 "nbformat_minor": 2
}
