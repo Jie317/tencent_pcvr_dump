{
 "cells": [
  {
   "cell_type": "code",
   "execution_count": 2,
   "metadata": {},
   "outputs": [
    {
     "name": "stdout",
     "output_type": "stream",
     "text": [
      " >>>>>>>>> Devv stat 1577799 >>>>>>>>>>>> \n",
      "   Unnamed: 0  label  creativeID   userID  positionID  connectionType  \\\n",
      "0           0      0        3089  2798058         293               1   \n",
      "1           1      0        1259   463234        6161               1   \n",
      "2           2      0        4465  1857485        7434               4   \n",
      "3           3      0        1004  2038823         977               1   \n",
      "4           4      0        1887  2015141        3688               1   \n",
      "\n",
      "   telecomsOperator  adID  camgaignID  advertiserID        ...         \\\n",
      "0                 1  1321          83            10        ...          \n",
      "1                 2  1535         685            80        ...          \n",
      "2                 1   147         460             3        ...          \n",
      "3                 1   411         564             3        ...          \n",
      "4                 1   369         144            84        ...          \n",
      "\n",
      "   hometown  residence  sitesetID  positionType  appCategory  clickTime_d  \\\n",
      "0         0       1301          0             3          108           17   \n",
      "1         0        213          0             1            2           17   \n",
      "2         0       1502          0             1          209           17   \n",
      "3         0       1001          0             1          209           17   \n",
      "4      1001       1001          0             1          201           17   \n",
      "\n",
      "   weekDay  clickTime_h  clickTime_m  conversionTime_d  \n",
      "0        4            0            0                 0  \n",
      "1        4            0            0                 0  \n",
      "2        4            0            0                 0  \n",
      "3        4            0            0                 0  \n",
      "4        4            0            0                 0  \n",
      "\n",
      "[5 rows x 27 columns]\n"
     ]
    }
   ],
   "source": [
    "'''\n",
    "Three IDs: userID, creativeID, positionID\n",
    "'''\n",
    "\n",
    "\n",
    "import os\n",
    "import json\n",
    "import numpy as np\n",
    "import pandas as pd\n",
    "from time import time, strftime\n",
    "from collections import Counter\n",
    "from sklearn.metrics import precision_recall_fscore_support\n",
    "from sklearn.metrics import classification_report\n",
    "from sklearn.preprocessing import OneHotEncoder\n",
    "print(' >>>>>>>>> Devv stat 1577799 >>>>>>>>>>>> ')\n",
    "\n",
    "def save_preds(preds, cb=False):\n",
    "    preds = np.ravel(preds)\n",
    "    assert len(preds)==338489\n",
    "    avg = np.average(preds)\n",
    "    std = np.std(preds)\n",
    "    p = '../%s%s_dnn_tl_result_%.4f_%.4f_%s.csv' % ('callback_' if cb else '', \n",
    "        strftime('%H%M_%m%d'), avg, std, 'args.m')\n",
    "\n",
    "    df = pd.DataFrame({'instanceID': te_df_['instanceID'].values, 'proba': preds})\n",
    "    df.sort_values('instanceID', inplace=True)\n",
    "    df.to_csv(p, index=False)\n",
    "\n",
    "    if cb: \n",
    "        print(' Written to: ', p)\n",
    "        return avg, std\n",
    "    else:\n",
    "        print('\\nTrain average: ', tr_avg)\n",
    "        print('Preds average: ', avg)\n",
    "        print('Preds std dev.: ', std)\n",
    "        print('\\nWritten to: ', p)\n",
    "\n",
    "\n",
    "'''\n",
    "OrderedDict([('conversionTime_d', 0.25819888974716115),\n",
    "             ('userID', 0.16155678776166404),\n",
    "             ('appCategory', 0.11342039643011995),\n",
    "             ('positionID', 0.097800108293958354),\n",
    "             ('positionType', 0.087460470534174911),\n",
    "             ('creativeID', 0.071309827665513831),\n",
    "             ('appID', 0.06958037043067912),\n",
    "             ('adID', 0.063169867995414214),\n",
    "             ('advertiserID', 0.05492409862736055),\n",
    "             ('camgaignID', 0.050796291439061121),\n",
    "             ('sitesetID', 0.013700972348893198),\n",
    "             ('connectionType', 0.010308483261562163),\n",
    "             ('residence', 0.0075065408905755091),\n",
    "             ('age', 0.006662250035074235),\n",
    "             ('hometown', 0.0057415423374340075),\n",
    "             ('haveBaby', 0.0050835138043705281),\n",
    "             ('telecomsOperator', 0.0049696062876111837),\n",
    "             ('gender', 0.0046607920728349225),\n",
    "             ('education', 0.0030160253068509456),\n",
    "             ('clickTime_h', 0.0029165451700999038),\n",
    "             ('clickTime_d', 0.0028077837477102278),\n",
    "             ('weekDay', 0.001772181032721335),\n",
    "             ('marriageStatus', 0.0016869540469555094),\n",
    "             ('appPlatform', 0.0008981783007564663),\n",
    "             ('clickTime_m', 0.00072661907607473827)])\n",
    "'''\n",
    "# ====================================================================================== #\n",
    "# ====================================================================================== #\n",
    "# data\n",
    "# features = ['appCategory', 'positionID', 'positionType', 'creativeID', 'appID', 'adID',\n",
    "#             'advertiserID', 'camgaignID', 'sitesetID', 'connectionType',\n",
    "#             'residence', 'age', 'hometown', 'haveBaby', 'telecomsOperator',\n",
    "#             'gender', 'education', 'clickTime_h', 'clickTime_d', 'weekDay',\n",
    "#             'marriageStatus', 'appPlatform', 'clickTime_m', 'userID']\n",
    "\n",
    "cate_features = ['appCategory', 'positionType', 'connectionType', 'haveBaby', 'telecomsOperator',\n",
    "            'gender', 'education', 'clickTime_h', 'weekDay',\n",
    "            'marriageStatus', 'appPlatform']\n",
    "\n",
    "features = ['advertiserID', 'sitesetID', 'age']\n",
    "# features = ['connectionType', 'telecomsOperator', 'appPlatform', 'gender',\n",
    "#        'education', 'marriageStatus', 'haveBaby', 'sitesetID', 'positionType',\n",
    "#        'weekDay']\n",
    "features.reverse()\n",
    "\n",
    "tr_df = pd.read_csv('../data/pre/new_generated_train.csv')\n",
    "te_df_ = pd.read_csv('../data/pre/new_generated_test.csv')\n",
    "va_df = tr_df.loc[tr_df['clickTime_d'] == 24]\n",
    "\n",
    "print(tr_df.head())\n",
    "\n",
    "tr_ui = pd.read_csv('../data/pre/new_tr_ui.csv', header=None).values\n",
    "te_ui = pd.read_csv('../data/pre/new_te_ui.csv', header=None).values\n",
    "va_ui = pd.read_csv('../data/pre/new_va_ui.csv', header=None).values\n",
    "\n",
    "tr_ua = pd.read_csv('../data/pre/new_tr_ua.csv', header=None).values\n",
    "te_ua = pd.read_csv('../data/pre/new_te_ua.csv', header=None).values\n",
    "va_ua = pd.read_csv('../data/pre/new_va_ua.csv', header=None).values"
   ]
  },
  {
   "cell_type": "code",
   "execution_count": 21,
   "metadata": {
    "collapsed": true
   },
   "outputs": [],
   "source": [
    "x_all = pd.concat([tr_df[cate_features], te_df_[cate_features], va_df[cate_features]])"
   ]
  },
  {
   "cell_type": "code",
   "execution_count": 23,
   "metadata": {},
   "outputs": [
    {
     "name": "stdout",
     "output_type": "stream",
     "text": [
      "\n",
      "X shape:  (4373259, 84)\n"
     ]
    }
   ],
   "source": [
    "encoded_x = None\n",
    "for f in cate_features:\n",
    "    feature = x_all[f].values.reshape(-1,1)\n",
    "    onehot_encoder = OneHotEncoder(sparse=False)\n",
    "    feature = onehot_encoder.fit_transform(feature)\n",
    "    if encoded_x is None:\n",
    "        encoded_x = feature\n",
    "    else:\n",
    "        encoded_x = np.concatenate((encoded_x, feature), axis=1)\n",
    "print(\"\\nX shape: \", encoded_x.shape)"
   ]
  },
  {
   "cell_type": "code",
   "execution_count": 27,
   "metadata": {},
   "outputs": [],
   "source": [
    "tr_x = np.concatenate((encoded_x[:len(tr_df)], tr_ui, tr_ua, tr_df[features].values), axis=1)\n"
   ]
  },
  {
   "cell_type": "code",
   "execution_count": 31,
   "metadata": {},
   "outputs": [
    {
     "data": {
      "text/plain": [
       "array([[ 0.,  0.,  0., ...,  1.,  1.,  0.],\n",
       "       [ 0.,  1.,  0., ...,  0.,  0.,  1.],\n",
       "       [ 0.,  0.,  0., ...,  0.,  1.,  0.],\n",
       "       ..., \n",
       "       [ 0.,  0.,  0., ...,  0.,  1.,  0.],\n",
       "       [ 0.,  0.,  0., ...,  0.,  1.,  0.],\n",
       "       [ 0.,  0.,  0., ...,  0.,  1.,  0.]])"
      ]
     },
     "execution_count": 31,
     "metadata": {},
     "output_type": "execute_result"
    }
   ],
   "source": [
    "encoded_x"
   ]
  },
  {
   "cell_type": "code",
   "execution_count": 36,
   "metadata": {},
   "outputs": [
    {
     "data": {
      "text/plain": [
       "(285242, 84)"
      ]
     },
     "execution_count": 36,
     "metadata": {},
     "output_type": "execute_result"
    }
   ],
   "source": [
    "encoded_x[-len(va_df):].shape"
   ]
  },
  {
   "cell_type": "code",
   "execution_count": 37,
   "metadata": {},
   "outputs": [
    {
     "ename": "ValueError",
     "evalue": "all the input array dimensions except for the concatenation axis must match exactly",
     "output_type": "error",
     "traceback": [
      "\u001b[0;31m---------------------------------------------------------------------------\u001b[0m",
      "\u001b[0;31mValueError\u001b[0m                                Traceback (most recent call last)",
      "\u001b[0;32m<ipython-input-37-6f28fa67ece9>\u001b[0m in \u001b[0;36m<module>\u001b[0;34m()\u001b[0m\n\u001b[0;32m----> 1\u001b[0;31m \u001b[0me_x\u001b[0m \u001b[0;34m=\u001b[0m \u001b[0mnp\u001b[0m\u001b[0;34m.\u001b[0m\u001b[0mconcatenate\u001b[0m\u001b[0;34m(\u001b[0m\u001b[0;34m(\u001b[0m\u001b[0mencoded_x\u001b[0m\u001b[0;34m[\u001b[0m\u001b[0mlen\u001b[0m\u001b[0;34m(\u001b[0m\u001b[0mte_df_\u001b[0m\u001b[0;34m)\u001b[0m\u001b[0;34m:\u001b[0m\u001b[0mlen\u001b[0m\u001b[0;34m(\u001b[0m\u001b[0mte_df_\u001b[0m\u001b[0;34m)\u001b[0m\u001b[0;34m+\u001b[0m\u001b[0mlen\u001b[0m\u001b[0;34m(\u001b[0m\u001b[0mva_df\u001b[0m\u001b[0;34m)\u001b[0m\u001b[0;34m]\u001b[0m\u001b[0;34m,\u001b[0m \u001b[0mte_ui\u001b[0m\u001b[0;34m,\u001b[0m \u001b[0mte_ua\u001b[0m\u001b[0;34m,\u001b[0m \u001b[0mte_df_\u001b[0m\u001b[0;34m[\u001b[0m\u001b[0mfeatures\u001b[0m\u001b[0;34m]\u001b[0m\u001b[0;34m.\u001b[0m\u001b[0mvalues\u001b[0m\u001b[0;34m)\u001b[0m\u001b[0;34m,\u001b[0m \u001b[0maxis\u001b[0m\u001b[0;34m=\u001b[0m\u001b[0;36m1\u001b[0m\u001b[0;34m)\u001b[0m\u001b[0;34m\u001b[0m\u001b[0m\n\u001b[0m",
      "\u001b[0;31mValueError\u001b[0m: all the input array dimensions except for the concatenation axis must match exactly"
     ]
    }
   ],
   "source": [
    "e_x = np.concatenate((encoded_x[len(te_df_):len(te_df_)+len(va_df)], te_ui, te_ua, te_df_[features].values), axis=1)\n"
   ]
  },
  {
   "cell_type": "code",
   "execution_count": null,
   "metadata": {
    "collapsed": true
   },
   "outputs": [],
   "source": []
  }
 ],
 "metadata": {
  "kernelspec": {
   "display_name": "Python 3",
   "language": "python",
   "name": "python3"
  },
  "language_info": {
   "codemirror_mode": {
    "name": "ipython",
    "version": 3
   },
   "file_extension": ".py",
   "mimetype": "text/x-python",
   "name": "python",
   "nbconvert_exporter": "python",
   "pygments_lexer": "ipython3",
   "version": "3.5.2"
  }
 },
 "nbformat": 4,
 "nbformat_minor": 2
}
