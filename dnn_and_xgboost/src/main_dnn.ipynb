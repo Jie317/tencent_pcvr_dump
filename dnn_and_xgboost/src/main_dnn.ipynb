{
 "cells": [
  {
   "cell_type": "code",
   "execution_count": 20,
   "metadata": {
    "collapsed": true
   },
   "outputs": [],
   "source": [
    "seeds = list(range(20,100,3))\n",
    "np.random.seed(0)"
   ]
  },
  {
   "cell_type": "code",
   "execution_count": 21,
   "metadata": {
    "collapsed": false
   },
   "outputs": [
    {
     "data": {
      "text/plain": [
       "[26,\n",
       " 92,\n",
       " 62,\n",
       " 71,\n",
       " 35,\n",
       " 53,\n",
       " 89,\n",
       " 59,\n",
       " 77,\n",
       " 80,\n",
       " 68,\n",
       " 23,\n",
       " 50,\n",
       " 98,\n",
       " 95,\n",
       " 44,\n",
       " 38,\n",
       " 32,\n",
       " 74,\n",
       " 47,\n",
       " 41,\n",
       " 86,\n",
       " 29,\n",
       " 20,\n",
       " 83,\n",
       " 65,\n",
       " 56]"
      ]
     },
     "execution_count": 21,
     "metadata": {},
     "output_type": "execute_result"
    }
   ],
   "source": [
    "import numpy as np\n",
    "a = np.random.shuffle(seeds)\n",
    "seeds"
   ]
  },
  {
   "cell_type": "code",
   "execution_count": 9,
   "metadata": {
    "collapsed": true
   },
   "outputs": [],
   "source": []
  },
  {
   "cell_type": "code",
   "execution_count": null,
   "metadata": {
    "collapsed": true
   },
   "outputs": [],
   "source": []
  }
 ],
 "metadata": {
  "kernelspec": {
   "display_name": "Python 3",
   "language": "python",
   "name": "python3"
  },
  "language_info": {
   "codemirror_mode": {
    "name": "ipython",
    "version": 3
   },
   "file_extension": ".py",
   "mimetype": "text/x-python",
   "name": "python",
   "nbconvert_exporter": "python",
   "pygments_lexer": "ipython3",
   "version": "3.6.0"
  }
 },
 "nbformat": 4,
 "nbformat_minor": 2
}
