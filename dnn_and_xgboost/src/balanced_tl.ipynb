{
 "cells": [
  {
   "cell_type": "code",
   "execution_count": 2,
   "metadata": {},
   "outputs": [
    {
     "name": "stdout",
     "output_type": "stream",
     "text": [
      "dev stat 22666633\n"
     ]
    },
    {
     "name": "stderr",
     "output_type": "stream",
     "text": [
      "Using TensorFlow backend.\n",
      "/usr/local/lib/python3.5/dist-packages/numpy/lib/arraysetops.py:395: FutureWarning: elementwise comparison failed; returning scalar instead, but in the future will perform elementwise comparison\n",
      "  mask |= (ar1 == a)\n"
     ]
    },
    {
     "data": {
      "text/plain": [
       "\"OrderedDict([('appCategory', 0.11342039643011995),\\n           ('positionID', 0.097800108293958354),\\n           ('positionType', 0.087460470534174911),\\n           ('creativeID', 0.071309827665513831),\\n           ('appID', 0.06958037043067912),\\n           ('adID', 0.063169867995414214),\\n           ('advertiserID', 0.05492409862736055),\\n           ('camgaignID', 0.050796291439061121),\\n           ('sitesetID', 0.013700972348893198),\\n           ('connectionType', 0.010308483261562163),\\n           ('residence', 0.0075065408905755091),\\n           ('age', 0.006662250035074235),\\n           ('hometown', 0.0057415423374340075),\\n           ('haveBaby', 0.0050835138043705281),\\n           ('telecomsOperator', 0.0049696062876111837),\\n           ('gender', 0.0046607920728349225),\\n           ('education', 0.0030160253068509456),\\n           ('clickTime_h', 0.0029165451700999038),\\n           ('clickTime_d', 0.0028077837477102278),\\n           ('weekDay', 0.001772181032721335),\\n           ('marriageStatus', 0.0016869540469555094),\\n           ('appPlatform', 0.0008981783007564663),\\n           ('clickTime_m', 0.00072661907607473827),\\n           ('userID', unkown)])\""
      ]
     },
     "execution_count": 2,
     "metadata": {},
     "output_type": "execute_result"
    }
   ],
   "source": [
    "d = '../data/pre/' # raw data directory\n",
    "print('dev stat 22666633')\n",
    "import os\n",
    "import pandas as pd\n",
    "import numpy as np\n",
    "from time import time\n",
    "from sklearn.metrics import log_loss\n",
    "\n",
    "from keras.models import load_model, Sequential, Model\n",
    "from keras.utils import plot_model, to_categorical\n",
    "from keras.callbacks import TensorBoard, ModelCheckpoint, Callback\n",
    "from keras.layers import Dense, Embedding, LSTM, GRU, SimpleRNN, BatchNormalization\n",
    "from keras.layers import Dropout, Bidirectional, Flatten, Input, Reshape\n",
    "from keras.layers.merge import Concatenate, Add, concatenate, add\n",
    "from keras.optimizers import rmsprop, sgd\n",
    "\n",
    "ac = pd.read_csv('%sapp_categories.csv' % d)\n",
    "ui = pd.read_csv('%suser_installedapps.csv' % d)\n",
    "ua = pd.read_csv('%suser_app_actions.csv' % d)\n",
    "\n",
    "tr_ori = pd.read_csv('../data/pre/new_generated_train.csv', index_col=0)\n",
    "te_ori = pd.read_csv('../data/pre/new_generated_test.csv', index_col=0)\n",
    "# features = [ 'positionType', 'connectionType', 'age', 'haveBaby', 'telecomsOperator',\n",
    "#             'gender', 'education', 'clickTime_h', 'clickTime_d', 'weekDay',\n",
    "#             'marriageStatus', 'appPlatform', 'clickTime_m']\n",
    "'''OrderedDict([('appCategory', 0.11342039643011995),\n",
    "           ('positionID', 0.097800108293958354),\n",
    "           ('positionType', 0.087460470534174911),\n",
    "           ('creativeID', 0.071309827665513831),\n",
    "           ('appID', 0.06958037043067912),\n",
    "           ('adID', 0.063169867995414214),\n",
    "           ('advertiserID', 0.05492409862736055),\n",
    "           ('camgaignID', 0.050796291439061121),\n",
    "           ('sitesetID', 0.013700972348893198),\n",
    "           ('connectionType', 0.010308483261562163),\n",
    "           ('residence', 0.0075065408905755091),\n",
    "           ('age', 0.006662250035074235),\n",
    "           ('hometown', 0.0057415423374340075),\n",
    "           ('haveBaby', 0.0050835138043705281),\n",
    "           ('telecomsOperator', 0.0049696062876111837),\n",
    "           ('gender', 0.0046607920728349225),\n",
    "           ('education', 0.0030160253068509456),\n",
    "           ('clickTime_h', 0.0029165451700999038),\n",
    "           ('clickTime_d', 0.0028077837477102278),\n",
    "           ('weekDay', 0.001772181032721335),\n",
    "           ('marriageStatus', 0.0016869540469555094),\n",
    "           ('appPlatform', 0.0008981783007564663),\n",
    "           ('clickTime_m', 0.00072661907607473827),\n",
    "           ('userID', unkown)])'''"
   ]
  },
  {
   "cell_type": "code",
   "execution_count": 3,
   "metadata": {},
   "outputs": [
    {
     "name": "stdout",
     "output_type": "stream",
     "text": [
      "[  1  10 129 ..., 111   1   2]\n"
     ]
    }
   ],
   "source": [
    "f = 'positionID'\n",
    "va = tr_ori.sample(frac=0.1, random_state=62)\n",
    "tr = tr_ori.drop(va.index, axis=0)\n",
    "\n",
    "va_y = va.label.values.reshape(-1,1)\n",
    "tr_y = tr.label.values.reshape(-1,1)\n",
    "va_x = va[f].values.reshape(-1,1)\n",
    "tr_x = tr[f].values.reshape(-1,1)\n",
    "\n",
    "va_ = va.groupby(f).apply(lambda df: np.mean(df.label))\n",
    "tr_ = tr.groupby(f).apply(lambda df: np.mean(df.label))\n",
    "te_ = te_ori.groupby(f).apply(lambda df: len(df.label))\n",
    "\n",
    "\n",
    "tr_stat = tr.groupby(f).apply(lambda df: len(df))\n",
    "\n",
    "print(tr_stat.values)"
   ]
  },
  {
   "cell_type": "code",
   "execution_count": null,
   "metadata": {
    "collapsed": true
   },
   "outputs": [],
   "source": [
    "total_tr = 2*max(tr_stat.values)\n",
    "new_x = []\n",
    "new_y = []\n",
    "for cate,occ in zip(tr_stat.index, tr_stat.values):\n",
    "    tmp = tr.loc[tr[f]==cate]\n",
    "    x = tmp[f].values\n",
    "    y = tmp.label.values\n",
    "    x = list(x)\n",
    "    y = list(y)\n",
    "    x = x*(int(total_tr/len(x)))\n",
    "    y = y*(int(total_tr/len(y))) \n",
    "    print(len(x))   \n",
    "    new_x += x\n",
    "    new_y += y\n",
    "    del x,y, tmp\n",
    "new_x = np.array(new_x).reshape(-1,1)\n",
    "new_y = np.array(new_y).reshape(-1,1)\n",
    "print('Length of new x:', len(new_x))"
   ]
  },
  {
   "cell_type": "code",
   "execution_count": 10,
   "metadata": {},
   "outputs": [
    {
     "data": {
      "text/plain": [
       "(positionID\n",
       " 1       0.000000\n",
       " 2       0.200000\n",
       " 3       0.015504\n",
       " 5       0.000000\n",
       " 6       0.000000\n",
       " 7       0.000000\n",
       " 8       0.000000\n",
       " 9       0.000000\n",
       " 10      0.017857\n",
       " 12      0.000000\n",
       " 13      0.000000\n",
       " 14      0.000000\n",
       " 15      0.113636\n",
       " 16      0.000000\n",
       " 17      0.000000\n",
       " 18      0.000000\n",
       " 19      0.007207\n",
       " 20      0.333333\n",
       " 22      0.000000\n",
       " 23      0.500000\n",
       " 24      0.000000\n",
       " 25      0.006364\n",
       " 26      0.000000\n",
       " 27      0.000000\n",
       " 28      0.125000\n",
       " 29      0.014925\n",
       " 31      0.000000\n",
       " 32      0.000000\n",
       " 33      0.000000\n",
       " 34      0.020000\n",
       "           ...   \n",
       " 7614    0.000000\n",
       " 7615    0.079208\n",
       " 7616    0.054054\n",
       " 7617    0.000000\n",
       " 7618    0.000000\n",
       " 7619    0.016959\n",
       " 7620    0.000000\n",
       " 7621    0.080000\n",
       " 7622    0.111111\n",
       " 7623    0.000000\n",
       " 7624    0.065217\n",
       " 7625    0.000000\n",
       " 7627    0.000000\n",
       " 7628    0.000000\n",
       " 7629    0.000000\n",
       " 7630    0.250000\n",
       " 7631    0.250000\n",
       " 7632    0.000000\n",
       " 7633    0.031609\n",
       " 7634    0.000000\n",
       " 7635    0.000000\n",
       " 7636    0.000000\n",
       " 7637    0.001980\n",
       " 7638    0.005910\n",
       " 7639    0.000000\n",
       " 7640    0.000000\n",
       " 7642    0.004505\n",
       " 7643    0.018018\n",
       " 7644    0.000000\n",
       " 7645    0.000000\n",
       " Length: 7030, dtype: float64, positionID\n",
       " 1           1\n",
       " 2          10\n",
       " 3         129\n",
       " 5          15\n",
       " 6          11\n",
       " 7           1\n",
       " 8           3\n",
       " 9          26\n",
       " 10        112\n",
       " 12          1\n",
       " 13          5\n",
       " 14          1\n",
       " 15         88\n",
       " 16          3\n",
       " 17         12\n",
       " 18          9\n",
       " 19        555\n",
       " 20          3\n",
       " 22         18\n",
       " 23          2\n",
       " 24        112\n",
       " 25       1100\n",
       " 26          4\n",
       " 27          1\n",
       " 28          8\n",
       " 29         67\n",
       " 31          5\n",
       " 32          1\n",
       " 33          1\n",
       " 34         50\n",
       "         ...  \n",
       " 7614        2\n",
       " 7615      101\n",
       " 7616       37\n",
       " 7617        7\n",
       " 7618        8\n",
       " 7619    34494\n",
       " 7620        7\n",
       " 7621       25\n",
       " 7622        9\n",
       " 7623        6\n",
       " 7624       92\n",
       " 7625        1\n",
       " 7627        1\n",
       " 7628        1\n",
       " 7629        3\n",
       " 7630        4\n",
       " 7631        8\n",
       " 7632       15\n",
       " 7633      348\n",
       " 7634       28\n",
       " 7635      135\n",
       " 7636        1\n",
       " 7637      505\n",
       " 7638      846\n",
       " 7639        2\n",
       " 7640        1\n",
       " 7642      222\n",
       " 7643      111\n",
       " 7644        1\n",
       " 7645        2\n",
       " Length: 7030, dtype: int64, positionID\n",
       " 2          1\n",
       " 3        113\n",
       " 4          1\n",
       " 5          3\n",
       " 6          9\n",
       " 8          1\n",
       " 9          3\n",
       " 10         6\n",
       " 15         5\n",
       " 16         2\n",
       " 19         5\n",
       " 20         4\n",
       " 21         9\n",
       " 22         3\n",
       " 23         2\n",
       " 24         3\n",
       " 25       114\n",
       " 27         1\n",
       " 28         3\n",
       " 29        21\n",
       " 30         1\n",
       " 34         8\n",
       " 38         1\n",
       " 40         1\n",
       " 41        28\n",
       " 42         1\n",
       " 44        13\n",
       " 45         1\n",
       " 47       152\n",
       " 48        25\n",
       "         ... \n",
       " 7605       3\n",
       " 7606       2\n",
       " 7608      18\n",
       " 7609       6\n",
       " 7610       2\n",
       " 7612       7\n",
       " 7615       8\n",
       " 7616       4\n",
       " 7617       2\n",
       " 7618       1\n",
       " 7619    2102\n",
       " 7620       2\n",
       " 7621       1\n",
       " 7622       7\n",
       " 7623       2\n",
       " 7624      10\n",
       " 7625       1\n",
       " 7626       1\n",
       " 7629       2\n",
       " 7630       1\n",
       " 7631       1\n",
       " 7632       2\n",
       " 7633      16\n",
       " 7634      18\n",
       " 7637      33\n",
       " 7638     102\n",
       " 7641       1\n",
       " 7642      13\n",
       " 7643       4\n",
       " 7645       1\n",
       " Length: 4008, dtype: int64)"
      ]
     },
     "execution_count": 10,
     "metadata": {},
     "output_type": "execute_result"
    }
   ],
   "source": [
    "tr_, tr_stat, te_"
   ]
  },
  {
   "cell_type": "code",
   "execution_count": 5,
   "metadata": {
    "collapsed": true,
    "scrolled": true
   },
   "outputs": [],
   "source": [
    "# no ajust\n",
    "np.random.seed(323)\n",
    "i = Input(shape=(1,))\n",
    "o = Embedding(np.max(tr_x)+1, 16)(i)\n",
    "o = Flatten()(o)\n",
    "o = Dense(64, activation='tanh')(o)\n",
    "o = Dense(1, activation='sigmoid')(o)\n",
    "model_ = Model(i,o)\n",
    "# model_.summary()\n",
    "model_.compile(optimizer=rmsprop(lr=.0001), loss='binary_crossentropy', metrics=['binary_crossentropy'])"
   ]
  },
  {
   "cell_type": "code",
   "execution_count": 11,
   "metadata": {
    "scrolled": true
   },
   "outputs": [
    {
     "name": "stdout",
     "output_type": "stream",
     "text": [
      "Train on 3374575 samples, validate on 374953 samples\n",
      "Epoch 1/20\n",
      "3374575/3374575 [==============================] - 8s - loss: 0.1088 - binary_crossentropy: 0.1088 - val_loss: 0.1102 - val_binary_crossentropy: 0.1102\n",
      "Epoch 2/20\n",
      "3374575/3374575 [==============================] - 9s - loss: 0.1088 - binary_crossentropy: 0.1088 - val_loss: 0.1102 - val_binary_crossentropy: 0.1102\n",
      "Epoch 3/20\n",
      "3374575/3374575 [==============================] - 9s - loss: 0.1088 - binary_crossentropy: 0.1088 - val_loss: 0.1101 - val_binary_crossentropy: 0.1101\n",
      "Epoch 4/20\n",
      "3374575/3374575 [==============================] - 9s - loss: 0.1088 - binary_crossentropy: 0.1088 - val_loss: 0.1101 - val_binary_crossentropy: 0.1101\n",
      "Epoch 5/20\n",
      "3374575/3374575 [==============================] - 9s - loss: 0.1088 - binary_crossentropy: 0.1088 - val_loss: 0.1101 - val_binary_crossentropy: 0.1101\n",
      "Epoch 6/20\n",
      "3374575/3374575 [==============================] - 9s - loss: 0.1088 - binary_crossentropy: 0.1088 - val_loss: 0.1101 - val_binary_crossentropy: 0.1101\n",
      "Epoch 7/20\n",
      "3374575/3374575 [==============================] - 9s - loss: 0.1088 - binary_crossentropy: 0.1088 - val_loss: 0.1102 - val_binary_crossentropy: 0.1102\n",
      "Epoch 8/20\n",
      "3374575/3374575 [==============================] - 9s - loss: 0.1088 - binary_crossentropy: 0.1088 - val_loss: 0.1102 - val_binary_crossentropy: 0.1102\n",
      "Epoch 9/20\n",
      "3374575/3374575 [==============================] - 9s - loss: 0.1088 - binary_crossentropy: 0.1088 - val_loss: 0.1102 - val_binary_crossentropy: 0.1102\n",
      "Epoch 10/20\n",
      "3374575/3374575 [==============================] - 9s - loss: 0.1088 - binary_crossentropy: 0.1088 - val_loss: 0.1102 - val_binary_crossentropy: 0.1102\n",
      "Epoch 11/20\n",
      "3374575/3374575 [==============================] - 9s - loss: 0.1088 - binary_crossentropy: 0.1088 - val_loss: 0.1102 - val_binary_crossentropy: 0.1102\n",
      "Epoch 12/20\n",
      "3374575/3374575 [==============================] - 9s - loss: 0.1088 - binary_crossentropy: 0.1088 - val_loss: 0.1102 - val_binary_crossentropy: 0.1102\n",
      "Epoch 13/20\n",
      "3374575/3374575 [==============================] - 9s - loss: 0.1088 - binary_crossentropy: 0.1088 - val_loss: 0.1102 - val_binary_crossentropy: 0.1102\n",
      "Epoch 14/20\n",
      "3374575/3374575 [==============================] - 9s - loss: 0.1088 - binary_crossentropy: 0.1088 - val_loss: 0.1102 - val_binary_crossentropy: 0.1102\n",
      "Epoch 15/20\n",
      "3374575/3374575 [==============================] - 10s - loss: 0.1088 - binary_crossentropy: 0.1088 - val_loss: 0.1102 - val_binary_crossentropy: 0.1102\n",
      "Epoch 16/20\n",
      "3374575/3374575 [==============================] - 9s - loss: 0.1088 - binary_crossentropy: 0.1088 - val_loss: 0.1102 - val_binary_crossentropy: 0.1102\n",
      "Epoch 17/20\n",
      "3374575/3374575 [==============================] - 9s - loss: 0.1088 - binary_crossentropy: 0.1088 - val_loss: 0.1102 - val_binary_crossentropy: 0.1102\n",
      "Epoch 18/20\n",
      "3374575/3374575 [==============================] - 9s - loss: 0.1088 - binary_crossentropy: 0.1088 - val_loss: 0.1102 - val_binary_crossentropy: 0.1102\n",
      "Epoch 19/20\n",
      "3374575/3374575 [==============================] - 9s - loss: 0.1088 - binary_crossentropy: 0.1088 - val_loss: 0.1102 - val_binary_crossentropy: 0.1102\n",
      "Epoch 20/20\n",
      "3374575/3374575 [==============================] - 9s - loss: 0.1088 - binary_crossentropy: 0.1088 - val_loss: 0.1102 - val_binary_crossentropy: 0.1102\n",
      "\n",
      "Unbalanced model predict:\n",
      " [[ 0.06051713]\n",
      " [ 0.03406912]\n",
      " [ 0.06242914]\n",
      " ..., \n",
      " [ 0.02478108]\n",
      " [ 0.03755384]\n",
      " [ 0.06715106]]\n"
     ]
    }
   ],
   "source": [
    "model_.fit(tr_x, tr_y,validation_data=(va_x,va_y), verbose=1, epochs=20, batch_size=1024,  shuffle=True)\n",
    "print('\\nUnbalanced model predict:\\n', model_.predict(te_.index))"
   ]
  },
  {
   "cell_type": "code",
   "execution_count": 19,
   "metadata": {
    "collapsed": true
   },
   "outputs": [],
   "source": [
    "# balanced\n",
    "new_x = tr_x\n",
    "new_y = tr_y\n",
    "np.random.seed(323)\n",
    "i = Input(shape=(1,))\n",
    "o = Embedding(np.max(new_x)+1, 16)(i)\n",
    "o = Flatten()(o)\n",
    "o = Dense(64, activation='tanh')(o)\n",
    "o = Dense(1, activation='sigmoid')(o)\n",
    "model = Model(i,o)\n",
    "# model.summary()\n",
    "model.compile(optimizer=rmsprop(lr=.0001), loss='binary_crossentropy', metrics=['binary_crossentropy'])"
   ]
  },
  {
   "cell_type": "code",
   "execution_count": 73,
   "metadata": {
    "collapsed": true
   },
   "outputs": [
    {
     "name": "stdout",
     "output_type": "stream",
     "text": [
      "Train on 47197066 samples, validate on 374953 samples\n",
      "Epoch 1/2\n",
      "47197066/47197066 [==============================] - 51s - loss: 0.1980 - binary_crossentropy: 0.1980 - val_loss: 0.1133 - val_binary_crossentropy: 0.1133\n",
      "Epoch 2/2\n",
      "47197066/47197066 [==============================] - 50s - loss: 0.1980 - binary_crossentropy: 0.1980 - val_loss: 0.1133 - val_binary_crossentropy: 0.1133\n",
      "\n",
      "Balanced model predict:\n",
      " [[ 0.01565103]\n",
      " [ 0.02915289]\n",
      " [ 0.03406202]\n",
      " [ 0.00715058]\n",
      " [ 0.03182879]\n",
      " [ 0.0204984 ]\n",
      " [ 0.02702323]\n",
      " [ 0.03722728]\n",
      " [ 0.20242479]\n",
      " [ 0.03080541]]\n",
      "ideal-model ideal-model_ model_-model\n",
      "-0.00001040, 0.00002878, -0.00003918\n",
      "appCategory\n",
      "0      0.158049\n",
      "2      0.000490\n",
      "101    0.003711\n",
      "104   -0.000479\n",
      "106    0.039852\n",
      "108    0.000264\n",
      "201   -0.000524\n",
      "203   -0.000934\n",
      "209   -0.000027\n",
      "301    0.003242\n",
      "402    0.000538\n",
      "407   -0.004852\n",
      "408   -0.051205\n",
      "503    0.000976\n",
      "dtype: float64 \n",
      "Balanced model\n",
      " appCategory\n",
      "0      6.232816e-03\n",
      "2     -2.146239e-04\n",
      "101    8.914894e-04\n",
      "104    7.539287e-04\n",
      "106    1.052354e-03\n",
      "108   -1.897712e-04\n",
      "201   -1.864250e-04\n",
      "203    1.434255e-03\n",
      "209   -1.682399e-04\n",
      "301    7.288047e-04\n",
      "402    2.434857e-04\n",
      "407    1.370310e-03\n",
      "408   -5.759509e-07\n",
      "503    5.291124e-04\n",
      "dtype: float64\n"
     ]
    }
   ],
   "source": [
    "model.fit(new_x, new_y,validation_data=(va_x,va_y), verbose=1, epochs=2, batch_size=4096,  shuffle=True)\n",
    "\n",
    "print('\\nBalanced model predict:\\n', model.predict(te_.index))\n"
   ]
  },
  {
   "cell_type": "code",
   "execution_count": 21,
   "metadata": {},
   "outputs": [
    {
     "name": "stdout",
     "output_type": "stream",
     "text": [
      "ideal-model ideal-model_ model_-model\n",
      "-0.57558677, -0.57881036, 0.00322359\n"
     ]
    },
    {
     "data": {
      "text/plain": [
       "(nan, nan)"
      ]
     },
     "execution_count": 21,
     "metadata": {},
     "output_type": "execute_result"
    }
   ],
   "source": [
    "tr__df = tr_.to_frame().reset_index()\n",
    "dict_prob = tr__df.set_index(tr__df[f]).to_dict()[0]\n",
    "for c in va_x:\n",
    "    if c[0] not in dict_prob: dict_prob[c[0]] = np.mean(tr_.values)\n",
    "ideal_loss = log_loss(va_y, np.array([dict_prob[c[0]] for c in va_x]).reshape(-1,1))\n",
    "model_loss = log_loss(va_y, model.predict(va_x ))\n",
    "model_loss_ = log_loss(va_y, model_.predict(va_x))\n",
    "print('ideal-model', 'ideal-model_', 'model_-model')\n",
    "print('%.8f, %.8f, %.8f'%(ideal_loss-model_loss , model_loss_-model_loss,ideal_loss-model_loss_))\n",
    "\n",
    "# print(tr_-np.ravel(model_.predict(va_.index)), '\\nBalanced model\\n',tr_-np.ravel(model.predict(va_.index)) )\n",
    "\n",
    "# for test data\n",
    "te__df = te_.to_frame().reset_index()\n",
    "te_dict = te__df.set_index(te__df[f]).to_dict()[0]\n",
    "new_loss_df = pd.merge(te_ori, tr__df, on=f, how='left')\n",
    "new_loss_df[1] = model.predict(te_ori[f])\n",
    "new_loss_df[2] = model_.predict(te_ori[f])\n",
    "# ======================== #\n",
    "loss_test = np.mean(new_loss_df[0].values-new_loss_df[1].values)\n",
    "loss_test_ = np.mean(new_loss_df[0].values-new_loss_df[2].values)\n",
    "loss_test, loss_test_"
   ]
  },
  {
   "cell_type": "code",
   "execution_count": 80,
   "metadata": {
    "collapsed": true
   },
   "outputs": [],
   "source": [
    "model.save('balanced_tl/%s_%.8f.h5'%(f,loss_test))"
   ]
  },
  {
   "cell_type": "code",
   "execution_count": 23,
   "metadata": {},
   "outputs": [
    {
     "data": {
      "text/plain": [
       "array([ 0.00043276, -0.00367733, -0.00050406, ..., -0.00106709,\n",
       "        0.00917387, -0.00114787])"
      ]
     },
     "execution_count": 23,
     "metadata": {},
     "output_type": "execute_result"
    }
   ],
   "source": [
    "new_loss_df[0].values-new_loss_df[2].values"
   ]
  },
  {
   "cell_type": "code",
   "execution_count": 25,
   "metadata": {},
   "outputs": [
    {
     "data": {
      "text/plain": [
       "nan"
      ]
     },
     "execution_count": 25,
     "metadata": {},
     "output_type": "execute_result"
    }
   ],
   "source": [
    "loss_test_ = np.mean(new_loss_df[0].values-new_loss_df[2].values)\n",
    "loss_test_"
   ]
  },
  {
   "cell_type": "code",
   "execution_count": 3,
   "metadata": {},
   "outputs": [
    {
     "name": "stdout",
     "output_type": "stream",
     "text": [
      "dev stat 22666633\n"
     ]
    },
    {
     "name": "stderr",
     "output_type": "stream",
     "text": [
      "/usr/local/lib/python3.5/dist-packages/numpy/lib/arraysetops.py:395: FutureWarning: elementwise comparison failed; returning scalar instead, but in the future will perform elementwise comparison\n",
      "  mask |= (ar1 == a)\n"
     ]
    },
    {
     "data": {
      "text/plain": [
       "\"OrderedDict([('appCategory', 0.11342039643011995),\\n           ('positionID', 0.097800108293958354),\\n           ('positionType', 0.087460470534174911),\\n           ('creativeID', 0.071309827665513831),\\n           ('appID', 0.06958037043067912),\\n           ('adID', 0.063169867995414214),\\n           ('advertiserID', 0.05492409862736055),\\n           ('camgaignID', 0.050796291439061121),\\n           ('sitesetID', 0.013700972348893198),\\n           ('connectionType', 0.010308483261562163),\\n           ('residence', 0.0075065408905755091),\\n           ('age', 0.006662250035074235),\\n           ('hometown', 0.0057415423374340075),\\n           ('haveBaby', 0.0050835138043705281),\\n           ('telecomsOperator', 0.0049696062876111837),\\n           ('gender', 0.0046607920728349225),\\n           ('education', 0.0030160253068509456),\\n           ('clickTime_h', 0.0029165451700999038),\\n           ('clickTime_d', 0.0028077837477102278),\\n           ('weekDay', 0.001772181032721335),\\n           ('marriageStatus', 0.0016869540469555094),\\n           ('appPlatform', 0.0008981783007564663),\\n           ('clickTime_m', 0.00072661907607473827),\\n           ('userID', unkown)])\""
      ]
     },
     "execution_count": 3,
     "metadata": {},
     "output_type": "execute_result"
    }
   ],
   "source": [
    "d = '../data/pre/' # raw data directory\n",
    "print('dev stat 22666633')\n",
    "import os\n",
    "import pandas as pd\n",
    "import numpy as np\n",
    "from time import time\n",
    "import math\n",
    "from sklearn.metrics import log_loss\n",
    "\n",
    "def i_log(y):\n",
    "  if y<= 0: y = 1e-5\n",
    "  if y>=1: y = 1 - 1e-5\n",
    "  return math.log(y/(1-y))\n",
    "\n",
    "\n",
    "features = ['appCategory', 'positionID', 'positionType', 'creativeID', 'appID', 'adID',\n",
    "            'advertiserID', 'camgaignID', 'sitesetID', 'connectionType',\n",
    "            'residence', 'age', 'hometown', 'haveBaby', 'telecomsOperator',\n",
    "            'gender', 'education', 'clickTime_h', 'clickTime_d', 'weekDay',\n",
    "            'marriageStatus', 'appPlatform', 'clickTime_m', 'userID']\n",
    "\n",
    "tr_ori = pd.read_csv('../data/pre/new_generated_train.csv', index_col=0)\n",
    "te_ori = pd.read_csv('../data/pre/new_generated_test.csv', index_col=0)\n",
    "\n",
    "maxs = pd.concat([tr_ori[features], te_ori[features]]).max()+1\n",
    "# features = [ 'positionType', 'connectionType', 'age', 'haveBaby', 'telecomsOperator',\n",
    "#             'gender', 'education', 'clickTime_h', 'clickTime_d', 'weekDay',\n",
    "#             'marriageStatus', 'appPlatform', 'clickTime_m']\n",
    "'''OrderedDict([('appCategory', 0.11342039643011995),\n",
    "           ('positionID', 0.097800108293958354),\n",
    "           ('positionType', 0.087460470534174911),\n",
    "           ('creativeID', 0.071309827665513831),\n",
    "           ('appID', 0.06958037043067912),\n",
    "           ('adID', 0.063169867995414214),\n",
    "           ('advertiserID', 0.05492409862736055),\n",
    "           ('camgaignID', 0.050796291439061121),\n",
    "           ('sitesetID', 0.013700972348893198),\n",
    "           ('connectionType', 0.010308483261562163),\n",
    "           ('residence', 0.0075065408905755091),\n",
    "           ('age', 0.006662250035074235),\n",
    "           ('hometown', 0.0057415423374340075),\n",
    "           ('haveBaby', 0.0050835138043705281),\n",
    "           ('telecomsOperator', 0.0049696062876111837),\n",
    "           ('gender', 0.0046607920728349225),\n",
    "           ('education', 0.0030160253068509456),\n",
    "           ('clickTime_h', 0.0029165451700999038),\n",
    "           ('clickTime_d', 0.0028077837477102278),\n",
    "           ('weekDay', 0.001772181032721335),\n",
    "           ('marriageStatus', 0.0016869540469555094),\n",
    "           ('appPlatform', 0.0008981783007564663),\n",
    "           ('clickTime_m', 0.00072661907607473827),\n",
    "           ('userID', unkown)])'''\n",
    "\n",
    "\n",
    "\n",
    "\n"
   ]
  },
  {
   "cell_type": "code",
   "execution_count": 6,
   "metadata": {},
   "outputs": [],
   "source": [
    "f = 'appCategory'\n",
    "\n",
    "tr_ = tr_ori.groupby(f).apply(lambda df: np.mean(df.label))\n",
    "\n",
    "tr__df = tr_.to_frame().reset_index()\n",
    "tr_dict = tr__df.set_index(tr__df[f]).to_dict()[0]"
   ]
  },
  {
   "cell_type": "code",
   "execution_count": 7,
   "metadata": {},
   "outputs": [
    {
     "data": {
      "text/plain": [
       "{0: 0.42384105960264901,\n",
       " 2: 0.015486711799687925,\n",
       " 101: 0.030474040632054177,\n",
       " 104: 0.034927744522118505,\n",
       " 106: 0.044642857142857144,\n",
       " 108: 0.0069377401707460202,\n",
       " 201: 0.031497666957368657,\n",
       " 203: 0.09658498435870698,\n",
       " 209: 0.020328219191233017,\n",
       " 301: 0.028041898153231295,\n",
       " 402: 0.037568127519784979,\n",
       " 407: 0.20372257523078768,\n",
       " 408: 0.0,\n",
       " 503: 0.031987423465166309}"
      ]
     },
     "execution_count": 7,
     "metadata": {},
     "output_type": "execute_result"
    }
   ],
   "source": [
    "tr_dict"
   ]
  },
  {
   "cell_type": "code",
   "execution_count": null,
   "metadata": {
    "collapsed": true
   },
   "outputs": [],
   "source": []
  }
 ],
 "metadata": {
  "kernelspec": {
   "display_name": "Python 3",
   "language": "python",
   "name": "python3"
  },
  "language_info": {
   "codemirror_mode": {
    "name": "ipython",
    "version": 3
   },
   "file_extension": ".py",
   "mimetype": "text/x-python",
   "name": "python",
   "nbconvert_exporter": "python",
   "pygments_lexer": "ipython3",
   "version": "3.5.2"
  }
 },
 "nbformat": 4,
 "nbformat_minor": 2
}
