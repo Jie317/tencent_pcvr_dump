{
 "cells": [
  {
   "cell_type": "code",
   "execution_count": 1,
   "metadata": {
    "collapsed": true
   },
   "outputs": [],
   "source": [
    "d = '../data/pre/' # raw data directory\n",
    "\n",
    "import os\n",
    "import pandas as pd\n",
    "import numpy as np\n",
    "from collections import Counter\n",
    "from time import time\n",
    "from imblearn.under_sampling import RandomUnderSampler\n",
    "from sklearn.preprocessing import LabelEncoder, OneHotEncoder"
   ]
  },
  {
   "cell_type": "code",
   "execution_count": null,
   "metadata": {
    "collapsed": true
   },
   "outputs": [],
   "source": [
    "aC = pd.read_csv('../data/pre/app_categories.csv')\n",
    "\n",
    "user_installedapps = pd.read_csv('%suser_installedapps.csv' % d)\n",
    "ui_cates = pd.merge(user_installedapps, aC, on='appID', how='left')\n",
    "ui_dum_cats = pd.get_dummies(ui_cates['appCategory'], prefix='insCat', dummy_na=True)\n",
    "ui_cates = pd.concat([ui_cates, ui_dum_cats], axis=1)"
   ]
  },
  {
   "cell_type": "code",
   "execution_count": null,
   "metadata": {
    "collapsed": true
   },
   "outputs": [],
   "source": [
    "ui = ui_cates.groupby('userID').apply(lambda df: list(np.sum(df[[col for col in df.columns if 'insCat_' in col]].values, axis=0))).reset_index()\n",
    "\n",
    "ui.columns = ['userID', 'insCat']\n",
    "\n",
    "print('\\nDev info\\n',ui.head(), len(ui))"
   ]
  },
  {
   "cell_type": "code",
   "execution_count": null,
   "metadata": {
    "collapsed": true
   },
   "outputs": [],
   "source": [
    "cols = [col for col in ui_cates.columns if 'insCat_' in col]\n",
    "ui_cats = pd.DataFrame(np.vstack(ui.pop('insAppCates').values))\n",
    "ui_cats.columns = cols\n",
    "ui = pd.concat([ui, ui_cats], axis=1)"
   ]
  },
  {
   "cell_type": "code",
   "execution_count": null,
   "metadata": {
    "collapsed": true,
    "scrolled": true
   },
   "outputs": [],
   "source": [
    "user_app_actions = pd.read_csv('%suser_app_actions.csv' % d)\n",
    "uact_cate = pd.merge(user_app_actions, aC, on='appID', how='left')\n",
    "uact_dum_cats = pd.get_dummies(uact_cate['appCategory'], prefix='actCat', dummy_na=True)\n",
    "uact_cate = pd.concat([uact_cate, uact_dum_cats], axis=1)"
   ]
  },
  {
   "cell_type": "code",
   "execution_count": null,
   "metadata": {
    "collapsed": true
   },
   "outputs": [],
   "source": [
    "# uact_cate['installTime_d'] = uact_cate.installTime.map(lambda x: int(str(x)[0:2]))\n",
    "uact_cate = uact_cate.groupby('userID').apply(lambda df: list(np.sum(df[[col for col in df.columns if 'actCat_' in col]].values, axis=0))).reset_index()\n",
    "uact_cate.columns = ['userID', 'actCat']"
   ]
  },
  {
   "cell_type": "code",
   "execution_count": null,
   "metadata": {
    "collapsed": true
   },
   "outputs": [],
   "source": [
    "ua_cols = [c for c in uact_dum_cats.columns if 'actCat_' in col]\n",
    "ua_cats = pd.DataFrame(np.vstack(uact_cate.pop('actCat').values))\n",
    "ua_cats.columns = ua_cols\n",
    "uact_cate = pd.concat([uact_cate, ua_cats], axis=1)"
   ]
  },
  {
   "cell_type": "code",
   "execution_count": null,
   "metadata": {
    "collapsed": true
   },
   "outputs": [],
   "source": [
    "te_df = pd.read_csv('../data/pre/new_generated_test.csv', index_col=0)\n",
    "te_df = pd.merge(te_df, ui, on='userID', how='left')\n",
    "te_df = pd.merge(te_df, uact_cate, on='userID', how='left')\n",
    "tr_df = pd.read_csv('../data/pre/new_generated_train.csv', index_col=0)\n",
    "tr_df = pd.merge(tr_df, ui, on='userID', how='left')\n",
    "tr_df = pd.merge(tr_df, uact_cate, on='userID', how='left')\n",
    "tr_df.to_csv('../data/pre/complete_train.csv', index=None)\n",
    "te_df.to_csv('../data/pre/complete_test.csv', index=None)"
   ]
  },
  {
   "cell_type": "code",
   "execution_count": null,
   "metadata": {
    "collapsed": true
   },
   "outputs": [],
   "source": [
    "al = pd.concat([tr_df.appCategory, te_df.appCategory, aC.appCategory], ignore_index=True)\n",
    "adAppCate = pd.DataFrame({'appCategory': al.values})\n",
    "adAppCate = pd.get_dummies(adAppCate.appCategory)\n",
    "tr_adapp = adAppCate[:len(tr_df)]\n",
    "tr_adapp.columns = ['adAppCat_%d'%d for d in tr_adapp.columns]\n",
    "te_adapp = adAppCate[len(tr_df):len(tr_df)+len(te_df)]\n",
    "te_adapp.columns = ['adAppCat_%d'%d for d in te_adapp.columns]\n",
    "te_df = pd.concat([te_df, te_adapp], axis=1)\n",
    "tr_df = pd.concat([tr_df, tr_adapp], axis=1)"
   ]
  },
  {
   "cell_type": "code",
   "execution_count": null,
   "metadata": {
    "collapsed": true
   },
   "outputs": [],
   "source": []
  },
  {
   "cell_type": "code",
   "execution_count": null,
   "metadata": {
    "collapsed": true
   },
   "outputs": [],
   "source": [
    "tr = pd.read_csv('../data/pre/complete_train.csv')\n",
    "te = pd.read_csv('../data/pre/complete_test.csv')"
   ]
  },
  {
   "cell_type": "code",
   "execution_count": null,
   "metadata": {},
   "outputs": [],
   "source": [
    "len(tr), len(te)"
   ]
  },
  {
   "cell_type": "code",
   "execution_count": 97,
   "metadata": {},
   "outputs": [
    {
     "ename": "SyntaxError",
     "evalue": "EOF while scanning triple-quoted string literal (<ipython-input-97-bdb7e4097deb>, line 64)",
     "output_type": "error",
     "traceback": [
      "\u001b[0;36m  File \u001b[0;32m\"<ipython-input-97-bdb7e4097deb>\"\u001b[0;36m, line \u001b[0;32m64\u001b[0m\n\u001b[0;31m    print(s, '\\n', s_rocauc)\u001b[0m\n\u001b[0m                            \n^\u001b[0m\n\u001b[0;31mSyntaxError\u001b[0m\u001b[0;31m:\u001b[0m EOF while scanning triple-quoted string literal\n"
     ]
    }
   ],
   "source": [
    "# data\n",
    "\n",
    "'''\n",
    "fs = ['appCategory', 'positionID', 'positionType', 'creativeID', 'appID', 'adID',\n",
    "            'advertiserID', 'camgaignID', 'sitesetID', 'connectionType',\n",
    "            'residence', 'age', 'hometown', 'haveBaby', 'telecomsOperator',\n",
    "            'gender', 'education', 'clickTime_h', 'clickTime_d', 'weekDay',\n",
    "            'marriageStatus', 'appPlatform', 'clickTime_m', 'userID']\n",
    "'''\n",
    "\n",
    "\n",
    "fs = ['appCategory', 'positionID', 'positionType', 'creativeID', 'appID', 'adID',\n",
    "            'advertiserID', 'camgaignID', 'sitesetID', 'connectionType',\n",
    "            'residence', 'age', 'hometown', 'haveBaby', 'telecomsOperator',\n",
    "            'gender', 'education', 'clickTime_h', 'clickTime_d', 'weekDay',\n",
    "            'marriageStatus', 'appPlatform', 'clickTime_m', 'userID']\n",
    "fs_ac = [c for c in te.columns if 'adAppCat_' in c]\n",
    "fs_ui = [c for c in te.columns if 'insCat_' in c]\n",
    "fs_ua = [c for c in te.columns if 'actCat_' in c]\n",
    "\n",
    "# ==================================================\n",
    "\n",
    "a_fs = fs+fs_ac+fs_ui+fs_ua\n",
    "print(len(a_fs))\n",
    "\n",
    "tr_x = tr_df[a_fs].values\n",
    "tr_y = tr_df['label'].values\n",
    "\n",
    "\n",
    "\n",
    "te_x = te_df[a_fs].values\n",
    "\n",
    "# xgboost\n",
    "\n",
    "import xgboost as xgb  \n",
    "from numpy import sort\n",
    "from xgboost import plot_importance\n",
    "from sklearn.feature_selection import SelectFromModel\n",
    "from sklearn.metrics import log_loss\n",
    "from matplotlib import pyplot\n",
    "\n",
    "\n",
    "gbm = xgb.XGBClassifier(max_depth=args.md, max_delta_step=1, silent=False, n_estimators=args.ne, \n",
    "                        learning_rate=0.3, objective='binary:logistic', \n",
    "                        min_child_weight = 1, scale_pos_weight = 1,  \n",
    "                        subsample=0.8, colsample_bytree=0.8,\n",
    "                       ).fit(tr_x, tr_y, eval_set=[(va_x, va_y)], \n",
    "                        eval_metric='logloss', verbose=True)\n",
    "\n",
    "predict_probas = gbm.predict_proba(te_x)[:,1]\n",
    "save_preds(predict_probas)\n",
    "\n",
    "va_y_pred = gbm.predict_proba(va_x)[:,1]\n",
    "\n",
    "logloss = log_loss(va_y, va_y_pred)\n",
    "print('Logloss: ', logloss)\n",
    "va_y_pred_class = gbm.predict(va_x)\n",
    "\n",
    "s= classification_report(va_y, va_y_pred_class)\n",
    "print(s)\n",
    "\n",
    "va_y_pred = (va_y_pred > 0.5).astype('int32')\n",
    "s= classification_report(va_y, va_y_pred)\n",
    "s_rocauc= roc_auc_score(va_y, va_y_pred)\n",
    "print(s, '\\n', s_rocauc)"
   ]
  },
  {
   "cell_type": "code",
   "execution_count": null,
   "metadata": {
    "collapsed": true
   },
   "outputs": [],
   "source": []
  }
 ],
 "metadata": {
  "kernelspec": {
   "display_name": "Python 3",
   "language": "python",
   "name": "python3"
  },
  "language_info": {
   "codemirror_mode": {
    "name": "ipython",
    "version": 3
   },
   "file_extension": ".py",
   "mimetype": "text/x-python",
   "name": "python",
   "nbconvert_exporter": "python",
   "pygments_lexer": "ipython3",
   "version": "3.5.2"
  }
 },
 "nbformat": 4,
 "nbformat_minor": 2
}
