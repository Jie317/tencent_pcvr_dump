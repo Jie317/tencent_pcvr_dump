{
 "cells": [
  {
   "cell_type": "code",
   "execution_count": 8,
   "metadata": {
    "collapsed": true
   },
   "outputs": [],
   "source": [
    "import pandas as pd\n",
    "import numpy as np"
   ]
  },
  {
   "cell_type": "code",
   "execution_count": 9,
   "metadata": {},
   "outputs": [
    {
     "name": "stdout",
     "output_type": "stream",
     "text": [
      "['../callback_1757_0530_dnn_tl_result_0.0204_0.0236_mlp.csv']\n"
     ]
    }
   ],
   "source": [
    "ps = ['../callback_1757_0530_dnn_tl_result_0.0204_0.0236_mlp.csv']\n",
    "print(ps)"
   ]
  },
  {
   "cell_type": "code",
   "execution_count": 10,
   "metadata": {
    "collapsed": true
   },
   "outputs": [],
   "source": [
    "if len(ps)>1:\n",
    "    probs = []\n",
    "    for p in ps:\n",
    "        d = pd.read_csv(p)\n",
    "        probs.append(d.proba.values)\n",
    "    preds=np.mean(np.vstack(probs), axis=0)\n",
    "    df = pd.DataFrame({'instanceID': range(1, len(preds)+1), 'proba': preds})\n",
    "    df.to_csv('../ensembled.csv', index=False)"
   ]
  },
  {
   "cell_type": "code",
   "execution_count": 11,
   "metadata": {
    "collapsed": true
   },
   "outputs": [],
   "source": [
    "if len(ps)==1: # rule out users already installed\n",
    "   pass\n",
    "ui = pd.read_csv('../data/pre/user_installedapps.csv')\n",
    "te = pd.read_csv('../data/pre/new_generated_test.csv')"
   ]
  },
  {
   "cell_type": "code",
   "execution_count": 21,
   "metadata": {
    "collapsed": true
   },
   "outputs": [],
   "source": [
    "ui_list = ui.groupby('userID').apply(lambda df: list(df.appID.values)).reset_index()\n",
    "    \n",
    "ui_list.columns = ['userID', 'insApps']"
   ]
  },
  {
   "cell_type": "code",
   "execution_count": 22,
   "metadata": {},
   "outputs": [],
   "source": [
    "preds = pd.read_csv(ps[0])['proba'].values"
   ]
  },
  {
   "cell_type": "code",
   "execution_count": 23,
   "metadata": {},
   "outputs": [
    {
     "data": {
      "text/plain": [
       "array([ 14,  14, 465, ..., 328, 465, 465])"
      ]
     },
     "execution_count": 23,
     "metadata": {},
     "output_type": "execute_result"
    }
   ],
   "source": [
    "adApp = te.appID.values\n",
    "adApp"
   ]
  },
  {
   "cell_type": "code",
   "execution_count": 24,
   "metadata": {},
   "outputs": [],
   "source": [
    "userID = te.userID.values"
   ]
  },
  {
   "cell_type": "code",
   "execution_count": 25,
   "metadata": {},
   "outputs": [
    {
     "data": {
      "text/html": [
       "<div>\n",
       "<style>\n",
       "    .dataframe thead tr:only-child th {\n",
       "        text-align: right;\n",
       "    }\n",
       "\n",
       "    .dataframe thead th {\n",
       "        text-align: left;\n",
       "    }\n",
       "\n",
       "    .dataframe tbody tr th {\n",
       "        vertical-align: top;\n",
       "    }\n",
       "</style>\n",
       "<table border=\"1\" class=\"dataframe\">\n",
       "  <thead>\n",
       "    <tr style=\"text-align: right;\">\n",
       "      <th></th>\n",
       "      <th>userID</th>\n",
       "      <th>insApps</th>\n",
       "    </tr>\n",
       "  </thead>\n",
       "  <tbody>\n",
       "    <tr>\n",
       "      <th>0</th>\n",
       "      <td>1</td>\n",
       "      <td>[357, 360, 362, 365, 375, 441, 480, 481, 482, ...</td>\n",
       "    </tr>\n",
       "    <tr>\n",
       "      <th>1</th>\n",
       "      <td>9</td>\n",
       "      <td>[538, 602, 604]</td>\n",
       "    </tr>\n",
       "    <tr>\n",
       "      <th>2</th>\n",
       "      <td>10</td>\n",
       "      <td>[357, 359, 365, 383, 480, 481, 482, 483, 484, ...</td>\n",
       "    </tr>\n",
       "    <tr>\n",
       "      <th>3</th>\n",
       "      <td>12</td>\n",
       "      <td>[480, 481, 482, 483, 484, 485, 486, 487, 488, ...</td>\n",
       "    </tr>\n",
       "    <tr>\n",
       "      <th>4</th>\n",
       "      <td>14</td>\n",
       "      <td>[362, 480, 481, 482, 483, 484, 485, 486, 487, ...</td>\n",
       "    </tr>\n",
       "  </tbody>\n",
       "</table>\n",
       "</div>"
      ],
      "text/plain": [
       "   userID                                            insApps\n",
       "0       1  [357, 360, 362, 365, 375, 441, 480, 481, 482, ...\n",
       "1       9                                    [538, 602, 604]\n",
       "2      10  [357, 359, 365, 383, 480, 481, 482, 483, 484, ...\n",
       "3      12  [480, 481, 482, 483, 484, 485, 486, 487, 488, ...\n",
       "4      14  [362, 480, 481, 482, 483, 484, 485, 486, 487, ..."
      ]
     },
     "execution_count": 25,
     "metadata": {},
     "output_type": "execute_result"
    }
   ],
   "source": [
    "ui_list.head()"
   ]
  },
  {
   "cell_type": "code",
   "execution_count": null,
   "metadata": {
    "collapsed": true
   },
   "outputs": [],
   "source": [
    "ui_dic = ui_list.set_index('userID').to_dict()['insApps']"
   ]
  },
  {
   "cell_type": "code",
   "execution_count": null,
   "metadata": {},
   "outputs": [
    {
     "name": "stdout",
     "output_type": "stream",
     "text": [
      "Finished ruling  2258\n"
     ]
    }
   ],
   "source": [
    "c=0\n",
    "for i,uid in enumerate(preds):\n",
    "    if userID[i] in ui_dic:\n",
    "        if adApp[i] in ui_dic[userID[i]]:\n",
    "            preds[i] = 0\n",
    "            c += 1\n",
    "print('Finished ruling ', c)"
   ]
  },
  {
   "cell_type": "code",
   "execution_count": null,
   "metadata": {
    "collapsed": true
   },
   "outputs": [],
   "source": [
    "import pickle\n",
    "pickle.dump((ui_dic, adApp, userID), open('../data/pre/dump_rule.bin', 'wb'))"
   ]
  },
  {
   "cell_type": "code",
   "execution_count": null,
   "metadata": {
    "collapsed": true
   },
   "outputs": [],
   "source": [
    "(ui_dic, adApp, userID) = pickle.load('../data/pre/dump_rule.bin', 'rb')"
   ]
  },
  {
   "cell_type": "code",
   "execution_count": null,
   "metadata": {},
   "outputs": [],
   "source": [
    "ui_dic"
   ]
  },
  {
   "cell_type": "code",
   "execution_count": null,
   "metadata": {
    "collapsed": true
   },
   "outputs": [],
   "source": []
  }
 ],
 "metadata": {
  "kernelspec": {
   "display_name": "Python 3",
   "language": "python",
   "name": "python3"
  },
  "language_info": {
   "codemirror_mode": {
    "name": "ipython",
    "version": 3
   },
   "file_extension": ".py",
   "mimetype": "text/x-python",
   "name": "python",
   "nbconvert_exporter": "python",
   "pygments_lexer": "ipython3",
   "version": "3.5.2"
  }
 },
 "nbformat": 4,
 "nbformat_minor": 2
}
