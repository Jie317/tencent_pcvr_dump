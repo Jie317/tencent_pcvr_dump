{
 "cells": [
  {
   "cell_type": "code",
   "execution_count": 1,
   "metadata": {},
   "outputs": [],
   "source": [
    "import pandas as pd\n",
    "tr_df = pd.read_csv('../data/pre/new_generated_train.csv', index_col=0)\n",
    "te_df = pd.read_csv('../data/pre/new_generated_test.csv', index_col=0)\n",
    "aC = pd.read_csv('../data/pre/app_categories.csv')"
   ]
  },
  {
   "cell_type": "code",
   "execution_count": 3,
   "metadata": {},
   "outputs": [],
   "source": [
    "al = pd.concat([tr_df.appCategory, te_df.appCategory, aC.appCategory], ignore_index=True)"
   ]
  },
  {
   "cell_type": "code",
   "execution_count": 4,
   "metadata": {
    "collapsed": true
   },
   "outputs": [],
   "source": [
    "adAppCate = pd.DataFrame({'appCategory': al.values})\n",
    "adAppCate = pd.get_dummies(adAppCate.appCategory)"
   ]
  },
  {
   "cell_type": "code",
   "execution_count": 5,
   "metadata": {
    "collapsed": true
   },
   "outputs": [],
   "source": [
    "tr = adAppCate[:len(tr_df)]"
   ]
  },
  {
   "cell_type": "code",
   "execution_count": 6,
   "metadata": {
    "collapsed": true
   },
   "outputs": [],
   "source": [
    "te = adAppCate[len(tr_df):len(tr_df)+len(te_df)]"
   ]
  },
  {
   "cell_type": "code",
   "execution_count": null,
   "metadata": {
    "collapsed": true
   },
   "outputs": [],
   "source": []
  },
  {
   "cell_type": "code",
   "execution_count": 7,
   "metadata": {
    "collapsed": true
   },
   "outputs": [],
   "source": [
    "tr.to_csv('../data/pre/new_adAppCate_tr.csv')"
   ]
  },
  {
   "cell_type": "code",
   "execution_count": 8,
   "metadata": {
    "collapsed": true
   },
   "outputs": [],
   "source": [
    "te.to_csv('../data/pre/new_adAppCate_te.csv')"
   ]
  },
  {
   "cell_type": "code",
   "execution_count": 10,
   "metadata": {
    "collapsed": true
   },
   "outputs": [],
   "source": [
    "tr_ = pd.read_csv('../data/pre/new_adAppCate_te.csv', index_col=0)"
   ]
  },
  {
   "cell_type": "code",
   "execution_count": null,
   "metadata": {
    "collapsed": true
   },
   "outputs": [],
   "source": []
  },
  {
   "cell_type": "code",
   "execution_count": 12,
   "metadata": {},
   "outputs": [
    {
     "name": "stdout",
     "output_type": "stream",
     "text": [
      "Int64Index([3749528, 3749529, 3749530, 3749531, 3749532, 3749533, 3749534,\n",
      "            3749535, 3749536, 3749537,\n",
      "            ...\n",
      "            4088007, 4088008, 4088009, 4088010, 4088011, 4088012, 4088013,\n",
      "            4088014, 4088015, 4088016],\n",
      "           dtype='int64', length=338489)\n"
     ]
    }
   ],
   "source": [
    "print(tr_.index)"
   ]
  },
  {
   "cell_type": "code",
   "execution_count": null,
   "metadata": {
    "collapsed": true
   },
   "outputs": [],
   "source": []
  }
 ],
 "metadata": {
  "kernelspec": {
   "display_name": "Python 3",
   "language": "python",
   "name": "python3"
  },
  "language_info": {
   "codemirror_mode": {
    "name": "ipython",
    "version": 3
   },
   "file_extension": ".py",
   "mimetype": "text/x-python",
   "name": "python",
   "nbconvert_exporter": "python",
   "pygments_lexer": "ipython3",
   "version": "3.5.2"
  }
 },
 "nbformat": 4,
 "nbformat_minor": 2
}
