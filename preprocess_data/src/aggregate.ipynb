{
 "cells": [
  {
   "cell_type": "code",
   "execution_count": 1,
   "metadata": {
    "collapsed": true,
    "deletable": true,
    "editable": true
   },
   "outputs": [],
   "source": [
    "d = '../data/pre/' # raw data directory\n",
    "\n",
    "import os\n",
    "import pandas as pd\n",
    "import numpy as np\n",
    "from collections import Counter\n",
    "from time import time\n",
    "from imblearn.under_sampling import RandomUnderSampler\n",
    "\n",
    "\n",
    "# ## Load all csv files into pandas DataFrames\n",
    "'''user ad position app_categories'''\n",
    "\n",
    "user_installedapps = pd.read_csv('%suser_installedapps.csv' % d)\n",
    "user_app_actions = pd.read_csv('%suser_app_actions.csv' % d)"
   ]
  },
  {
   "cell_type": "code",
   "execution_count": 2,
   "metadata": {
    "collapsed": true,
    "deletable": true,
    "editable": true
   },
   "outputs": [],
   "source": [
    "tr_df = pd.read_csv('../data/pre/new_generated_train.csv', index_col=0)\n",
    "te_df = pd.read_csv('../data/pre/new_generated_test.csv', index_col=0)"
   ]
  },
  {
   "cell_type": "code",
   "execution_count": 28,
   "metadata": {
    "collapsed": true,
    "deletable": true,
    "editable": true,
    "scrolled": true
   },
   "outputs": [],
   "source": [
    "aC = pd.read_csv('../data/pre/app_categories.csv')"
   ]
  },
  {
   "cell_type": "code",
   "execution_count": 5,
   "metadata": {
    "collapsed": true,
    "deletable": true,
    "editable": true
   },
   "outputs": [],
   "source": [
    "ui = user_installedapps.groupby('userID').apply(lambda df: tuple(df.appID.values)).reset_index()"
   ]
  },
  {
   "cell_type": "code",
   "execution_count": 32,
   "metadata": {
    "collapsed": false,
    "deletable": true,
    "editable": true
   },
   "outputs": [
    {
     "data": {
      "text/plain": [
       "433269"
      ]
     },
     "execution_count": 32,
     "metadata": {},
     "output_type": "execute_result"
    }
   ],
   "source": [
    "aC.appID.max()"
   ]
  },
  {
   "cell_type": "code",
   "execution_count": 6,
   "metadata": {
    "collapsed": true,
    "deletable": true,
    "editable": true
   },
   "outputs": [],
   "source": [
    "ui.columns=['userID', 'insApps']"
   ]
  },
  {
   "cell_type": "code",
   "execution_count": 8,
   "metadata": {
    "collapsed": true,
    "deletable": true,
    "editable": true
   },
   "outputs": [],
   "source": [
    "tr_df_ui = pd.merge(tr_df, ui, on='userID', how='left')"
   ]
  },
  {
   "cell_type": "code",
   "execution_count": 15,
   "metadata": {
    "collapsed": false,
    "deletable": true,
    "editable": true
   },
   "outputs": [
    {
     "data": {
      "text/plain": [
       "Index(['label', 'connectionType', 'telecomsOperator', 'appPlatform', 'gender',\n",
       "       'education', 'marriageStatus', 'haveBaby', 'sitesetID', 'positionType',\n",
       "       'weekDay'],\n",
       "      dtype='object')"
      ]
     },
     "execution_count": 15,
     "metadata": {},
     "output_type": "execute_result"
    }
   ],
   "source": [
    "tr_df.columns[np.array(uni)<10]"
   ]
  },
  {
   "cell_type": "code",
   "execution_count": 21,
   "metadata": {
    "collapsed": false,
    "deletable": true,
    "editable": true
   },
   "outputs": [
    {
     "data": {
      "text/plain": [
       "userID\n",
       "1     79\n",
       "9      3\n",
       "10    97\n",
       "12    38\n",
       "14    62\n",
       "dtype: int64"
      ]
     },
     "execution_count": 21,
     "metadata": {},
     "output_type": "execute_result"
    }
   ],
   "source": [
    "uis.head()"
   ]
  },
  {
   "cell_type": "code",
   "execution_count": 34,
   "metadata": {
    "collapsed": false,
    "deletable": true,
    "editable": true
   },
   "outputs": [
    {
     "data": {
      "text/html": [
       "<div>\n",
       "<table border=\"1\" class=\"dataframe\">\n",
       "  <thead>\n",
       "    <tr style=\"text-align: right;\">\n",
       "      <th></th>\n",
       "      <th>userID</th>\n",
       "      <th>installTime</th>\n",
       "      <th>appID</th>\n",
       "    </tr>\n",
       "  </thead>\n",
       "  <tbody>\n",
       "    <tr>\n",
       "      <th>0</th>\n",
       "      <td>1</td>\n",
       "      <td>182032</td>\n",
       "      <td>933</td>\n",
       "    </tr>\n",
       "    <tr>\n",
       "      <th>1</th>\n",
       "      <td>5</td>\n",
       "      <td>141354</td>\n",
       "      <td>589</td>\n",
       "    </tr>\n",
       "    <tr>\n",
       "      <th>2</th>\n",
       "      <td>5</td>\n",
       "      <td>251727</td>\n",
       "      <td>565</td>\n",
       "    </tr>\n",
       "    <tr>\n",
       "      <th>3</th>\n",
       "      <td>5</td>\n",
       "      <td>260932</td>\n",
       "      <td>596</td>\n",
       "    </tr>\n",
       "    <tr>\n",
       "      <th>4</th>\n",
       "      <td>5</td>\n",
       "      <td>261318</td>\n",
       "      <td>536</td>\n",
       "    </tr>\n",
       "  </tbody>\n",
       "</table>\n",
       "</div>"
      ],
      "text/plain": [
       "   userID  installTime  appID\n",
       "0       1       182032    933\n",
       "1       5       141354    589\n",
       "2       5       251727    565\n",
       "3       5       260932    596\n",
       "4       5       261318    536"
      ]
     },
     "execution_count": 34,
     "metadata": {},
     "output_type": "execute_result"
    }
   ],
   "source": [
    "user_app_actions.head()"
   ]
  },
  {
   "cell_type": "code",
   "execution_count": 35,
   "metadata": {
    "collapsed": true,
    "deletable": true,
    "editable": true
   },
   "outputs": [],
   "source": [
    "uact_cate = pd.merge(user_app_actions, aC, on='appID', how='left')"
   ]
  },
  {
   "cell_type": "code",
   "execution_count": 36,
   "metadata": {
    "collapsed": false,
    "deletable": true,
    "editable": true
   },
   "outputs": [
    {
     "data": {
      "text/html": [
       "<div>\n",
       "<table border=\"1\" class=\"dataframe\">\n",
       "  <thead>\n",
       "    <tr style=\"text-align: right;\">\n",
       "      <th></th>\n",
       "      <th>userID</th>\n",
       "      <th>installTime</th>\n",
       "      <th>appID</th>\n",
       "      <th>appCategory</th>\n",
       "    </tr>\n",
       "  </thead>\n",
       "  <tbody>\n",
       "    <tr>\n",
       "      <th>0</th>\n",
       "      <td>1</td>\n",
       "      <td>182032</td>\n",
       "      <td>933</td>\n",
       "      <td>106</td>\n",
       "    </tr>\n",
       "    <tr>\n",
       "      <th>1</th>\n",
       "      <td>5</td>\n",
       "      <td>141354</td>\n",
       "      <td>589</td>\n",
       "      <td>109</td>\n",
       "    </tr>\n",
       "    <tr>\n",
       "      <th>2</th>\n",
       "      <td>5</td>\n",
       "      <td>251727</td>\n",
       "      <td>565</td>\n",
       "      <td>203</td>\n",
       "    </tr>\n",
       "    <tr>\n",
       "      <th>3</th>\n",
       "      <td>5</td>\n",
       "      <td>260932</td>\n",
       "      <td>596</td>\n",
       "      <td>106</td>\n",
       "    </tr>\n",
       "    <tr>\n",
       "      <th>4</th>\n",
       "      <td>5</td>\n",
       "      <td>261318</td>\n",
       "      <td>536</td>\n",
       "      <td>104</td>\n",
       "    </tr>\n",
       "  </tbody>\n",
       "</table>\n",
       "</div>"
      ],
      "text/plain": [
       "   userID  installTime  appID  appCategory\n",
       "0       1       182032    933          106\n",
       "1       5       141354    589          109\n",
       "2       5       251727    565          203\n",
       "3       5       260932    596          106\n",
       "4       5       261318    536          104"
      ]
     },
     "execution_count": 36,
     "metadata": {},
     "output_type": "execute_result"
    }
   ],
   "source": [
    "uact_cate.head()"
   ]
  },
  {
   "cell_type": "code",
   "execution_count": 47,
   "metadata": {
    "collapsed": false,
    "deletable": true,
    "editable": true
   },
   "outputs": [
    {
     "data": {
      "text/plain": [
       "92"
      ]
     },
     "execution_count": 47,
     "metadata": {},
     "output_type": "execute_result"
    }
   ],
   "source": [
    "uact_cate.installTime_d.max()"
   ]
  },
  {
   "cell_type": "code",
   "execution_count": 40,
   "metadata": {
    "collapsed": true,
    "deletable": true,
    "editable": true
   },
   "outputs": [],
   "source": [
    "uact_cate['installTime_d'] = uact_cate.installTime.map(lambda x: int(str(x)[0:2]))"
   ]
  },
  {
   "cell_type": "code",
   "execution_count": 46,
   "metadata": {
    "collapsed": false,
    "deletable": true,
    "editable": true,
    "scrolled": true
   },
   "outputs": [
    {
     "data": {
      "text/html": [
       "<div>\n",
       "<table border=\"1\" class=\"dataframe\">\n",
       "  <thead>\n",
       "    <tr style=\"text-align: right;\">\n",
       "      <th></th>\n",
       "      <th>userID</th>\n",
       "      <th>0</th>\n",
       "    </tr>\n",
       "  </thead>\n",
       "  <tbody>\n",
       "    <tr>\n",
       "      <th>0</th>\n",
       "      <td>1</td>\n",
       "      <td>([933, 106, 18],)</td>\n",
       "    </tr>\n",
       "    <tr>\n",
       "      <th>1</th>\n",
       "      <td>5</td>\n",
       "      <td>([589, 109, 14], [565, 203, 25], [596, 106, 26...</td>\n",
       "    </tr>\n",
       "    <tr>\n",
       "      <th>2</th>\n",
       "      <td>12</td>\n",
       "      <td>([589, 109, 61], [536, 104, 61], [1014, 0, 71]...</td>\n",
       "    </tr>\n",
       "    <tr>\n",
       "      <th>3</th>\n",
       "      <td>14</td>\n",
       "      <td>([49946, 0, 51], [59822, 0, 51], [78248, 0, 51...</td>\n",
       "    </tr>\n",
       "    <tr>\n",
       "      <th>4</th>\n",
       "      <td>19</td>\n",
       "      <td>([12129, 108, 21],)</td>\n",
       "    </tr>\n",
       "    <tr>\n",
       "      <th>5</th>\n",
       "      <td>20</td>\n",
       "      <td>([357, 201, 21], [587, 408, 21], [914, 503, 21...</td>\n",
       "    </tr>\n",
       "    <tr>\n",
       "      <th>6</th>\n",
       "      <td>21</td>\n",
       "      <td>([669, 209, 10], [897, 209, 10], [2678, 209, 1...</td>\n",
       "    </tr>\n",
       "    <tr>\n",
       "      <th>7</th>\n",
       "      <td>25</td>\n",
       "      <td>([71137, 405, 61], [379, 203, 12], [906, 0, 13...</td>\n",
       "    </tr>\n",
       "    <tr>\n",
       "      <th>8</th>\n",
       "      <td>31</td>\n",
       "      <td>([536, 104, 51],)</td>\n",
       "    </tr>\n",
       "    <tr>\n",
       "      <th>9</th>\n",
       "      <td>38</td>\n",
       "      <td>([359, 203, 28], [360, 201, 28], [361, 2, 28],...</td>\n",
       "    </tr>\n",
       "    <tr>\n",
       "      <th>10</th>\n",
       "      <td>41</td>\n",
       "      <td>([582, 407, 70], [636, 0, 70], [668, 0, 70], [...</td>\n",
       "    </tr>\n",
       "    <tr>\n",
       "      <th>11</th>\n",
       "      <td>44</td>\n",
       "      <td>([4523, 106, 21], [536, 104, 22], [559, 405, 2...</td>\n",
       "    </tr>\n",
       "    <tr>\n",
       "      <th>12</th>\n",
       "      <td>47</td>\n",
       "      <td>([2497, 503, 21],)</td>\n",
       "    </tr>\n",
       "    <tr>\n",
       "      <th>13</th>\n",
       "      <td>55</td>\n",
       "      <td>([358, 201, 21], [369, 503, 71], [549, 405, 12...</td>\n",
       "    </tr>\n",
       "    <tr>\n",
       "      <th>14</th>\n",
       "      <td>57</td>\n",
       "      <td>([706, 106, 28], [880, 0, 28], [930, 110, 28],...</td>\n",
       "    </tr>\n",
       "    <tr>\n",
       "      <th>15</th>\n",
       "      <td>58</td>\n",
       "      <td>([589, 109, 10], [862, 109, 10], [579, 108, 51...</td>\n",
       "    </tr>\n",
       "    <tr>\n",
       "      <th>16</th>\n",
       "      <td>66</td>\n",
       "      <td>([360, 201, 28],)</td>\n",
       "    </tr>\n",
       "    <tr>\n",
       "      <th>17</th>\n",
       "      <td>67</td>\n",
       "      <td>([408, 203, 13], [5313, 106, 25], [882, 301, 2...</td>\n",
       "    </tr>\n",
       "    <tr>\n",
       "      <th>18</th>\n",
       "      <td>68</td>\n",
       "      <td>([574, 0, 42], [549, 405, 51], [664, 405, 51],...</td>\n",
       "    </tr>\n",
       "    <tr>\n",
       "      <th>19</th>\n",
       "      <td>69</td>\n",
       "      <td>([2800, 401, 62],)</td>\n",
       "    </tr>\n",
       "    <tr>\n",
       "      <th>20</th>\n",
       "      <td>73</td>\n",
       "      <td>([899, 503, 10], [3134, 0, 16], [725, 106, 21]...</td>\n",
       "    </tr>\n",
       "    <tr>\n",
       "      <th>21</th>\n",
       "      <td>74</td>\n",
       "      <td>([814, 401, 14], [4516, 401, 21], [582, 407, 21])</td>\n",
       "    </tr>\n",
       "    <tr>\n",
       "      <th>22</th>\n",
       "      <td>81</td>\n",
       "      <td>([4247, 407, 17], [549, 405, 21], [592, 303, 2...</td>\n",
       "    </tr>\n",
       "    <tr>\n",
       "      <th>23</th>\n",
       "      <td>83</td>\n",
       "      <td>([3318, 105, 82],)</td>\n",
       "    </tr>\n",
       "    <tr>\n",
       "      <th>24</th>\n",
       "      <td>84</td>\n",
       "      <td>([572, 106, 21], [579, 108, 12], [536, 104, 24])</td>\n",
       "    </tr>\n",
       "    <tr>\n",
       "      <th>25</th>\n",
       "      <td>85</td>\n",
       "      <td>([5798, 0, 80], [2520, 0, 10], [2207, 203, 12])</td>\n",
       "    </tr>\n",
       "    <tr>\n",
       "      <th>26</th>\n",
       "      <td>89</td>\n",
       "      <td>([939, 0, 17],)</td>\n",
       "    </tr>\n",
       "    <tr>\n",
       "      <th>27</th>\n",
       "      <td>90</td>\n",
       "      <td>([16311, 0, 24], [11550, 0, 24], [1582, 0, 24]...</td>\n",
       "    </tr>\n",
       "    <tr>\n",
       "      <th>28</th>\n",
       "      <td>95</td>\n",
       "      <td>([837, 0, 11], [357, 201, 22], [612, 203, 30],...</td>\n",
       "    </tr>\n",
       "    <tr>\n",
       "      <th>29</th>\n",
       "      <td>101</td>\n",
       "      <td>([715, 503, 21],)</td>\n",
       "    </tr>\n",
       "    <tr>\n",
       "      <th>...</th>\n",
       "      <td>...</td>\n",
       "      <td>...</td>\n",
       "    </tr>\n",
       "    <tr>\n",
       "      <th>781082</th>\n",
       "      <td>2805031</td>\n",
       "      <td>([1034, 405, 11], [541, 405, 22], [536, 104, 1...</td>\n",
       "    </tr>\n",
       "    <tr>\n",
       "      <th>781083</th>\n",
       "      <td>2805032</td>\n",
       "      <td>([357, 201, 42], [582, 407, 42], [441, 503, 51...</td>\n",
       "    </tr>\n",
       "    <tr>\n",
       "      <th>781084</th>\n",
       "      <td>2805034</td>\n",
       "      <td>([6201, 203, 17], [756, 402, 18])</td>\n",
       "    </tr>\n",
       "    <tr>\n",
       "      <th>781085</th>\n",
       "      <td>2805039</td>\n",
       "      <td>([2008, 0, 11], [922, 0, 12], [362, 409, 16], ...</td>\n",
       "    </tr>\n",
       "    <tr>\n",
       "      <th>781086</th>\n",
       "      <td>2805040</td>\n",
       "      <td>([777, 301, 13],)</td>\n",
       "    </tr>\n",
       "    <tr>\n",
       "      <th>781087</th>\n",
       "      <td>2805042</td>\n",
       "      <td>([608, 110, 71], [5820, 104, 11])</td>\n",
       "    </tr>\n",
       "    <tr>\n",
       "      <th>781088</th>\n",
       "      <td>2805043</td>\n",
       "      <td>([614, 503, 16], [360, 201, 16], [587, 408, 16...</td>\n",
       "    </tr>\n",
       "    <tr>\n",
       "      <th>781089</th>\n",
       "      <td>2805048</td>\n",
       "      <td>([740, 209, 13], [771, 105, 13], [799, 303, 13...</td>\n",
       "    </tr>\n",
       "    <tr>\n",
       "      <th>781090</th>\n",
       "      <td>2805060</td>\n",
       "      <td>([630, 405, 22], [592, 303, 60], [711, 0, 61],...</td>\n",
       "    </tr>\n",
       "    <tr>\n",
       "      <th>781091</th>\n",
       "      <td>2805061</td>\n",
       "      <td>([4365, 301, 30],)</td>\n",
       "    </tr>\n",
       "    <tr>\n",
       "      <th>781092</th>\n",
       "      <td>2805064</td>\n",
       "      <td>([4690, 301, 10], [1064, 503, 17])</td>\n",
       "    </tr>\n",
       "    <tr>\n",
       "      <th>781093</th>\n",
       "      <td>2805065</td>\n",
       "      <td>([386, 301, 32],)</td>\n",
       "    </tr>\n",
       "    <tr>\n",
       "      <th>781094</th>\n",
       "      <td>2805070</td>\n",
       "      <td>([968, 106, 11], [536, 104, 24])</td>\n",
       "    </tr>\n",
       "    <tr>\n",
       "      <th>781095</th>\n",
       "      <td>2805073</td>\n",
       "      <td>([27398, 401, 21],)</td>\n",
       "    </tr>\n",
       "    <tr>\n",
       "      <th>781096</th>\n",
       "      <td>2805076</td>\n",
       "      <td>([1528, 407, 11], [357, 201, 11], [723, 0, 11]...</td>\n",
       "    </tr>\n",
       "    <tr>\n",
       "      <th>781097</th>\n",
       "      <td>2805079</td>\n",
       "      <td>([360, 201, 21], [362, 409, 21], [549, 405, 22...</td>\n",
       "    </tr>\n",
       "    <tr>\n",
       "      <th>781098</th>\n",
       "      <td>2805084</td>\n",
       "      <td>([536, 104, 24], [541, 405, 24], [559, 405, 24...</td>\n",
       "    </tr>\n",
       "    <tr>\n",
       "      <th>781099</th>\n",
       "      <td>2805088</td>\n",
       "      <td>([1344, 109, 50], [559, 405, 12], [771, 105, 1...</td>\n",
       "    </tr>\n",
       "    <tr>\n",
       "      <th>781100</th>\n",
       "      <td>2805092</td>\n",
       "      <td>([395, 503, 52], [536, 104, 52], [667, 503, 52...</td>\n",
       "    </tr>\n",
       "    <tr>\n",
       "      <th>781101</th>\n",
       "      <td>2805096</td>\n",
       "      <td>([536, 104, 23],)</td>\n",
       "    </tr>\n",
       "    <tr>\n",
       "      <th>781102</th>\n",
       "      <td>2805097</td>\n",
       "      <td>([360, 201, 17], [362, 409, 17], [600, 401, 17...</td>\n",
       "    </tr>\n",
       "    <tr>\n",
       "      <th>781103</th>\n",
       "      <td>2805098</td>\n",
       "      <td>([1569, 103, 11], [579, 108, 11])</td>\n",
       "    </tr>\n",
       "    <tr>\n",
       "      <th>781104</th>\n",
       "      <td>2805099</td>\n",
       "      <td>([2536, 104, 30], [957, 109, 30])</td>\n",
       "    </tr>\n",
       "    <tr>\n",
       "      <th>781105</th>\n",
       "      <td>2805100</td>\n",
       "      <td>([7152, 211, 24], [608, 110, 25])</td>\n",
       "    </tr>\n",
       "    <tr>\n",
       "      <th>781106</th>\n",
       "      <td>2805103</td>\n",
       "      <td>([601, 0, 20], [564, 203, 20], [1518, 210, 20]...</td>\n",
       "    </tr>\n",
       "    <tr>\n",
       "      <th>781107</th>\n",
       "      <td>2805107</td>\n",
       "      <td>([2788, 106, 42],)</td>\n",
       "    </tr>\n",
       "    <tr>\n",
       "      <th>781108</th>\n",
       "      <td>2805109</td>\n",
       "      <td>([8295, 106, 18],)</td>\n",
       "    </tr>\n",
       "    <tr>\n",
       "      <th>781109</th>\n",
       "      <td>2805113</td>\n",
       "      <td>([1032, 104, 30], [957, 109, 30])</td>\n",
       "    </tr>\n",
       "    <tr>\n",
       "      <th>781110</th>\n",
       "      <td>2805115</td>\n",
       "      <td>([944, 401, 21], [653, 0, 22], [6663, 0, 23], ...</td>\n",
       "    </tr>\n",
       "    <tr>\n",
       "      <th>781111</th>\n",
       "      <td>2805117</td>\n",
       "      <td>([635, 209, 13], [596, 106, 29], [771, 105, 29...</td>\n",
       "    </tr>\n",
       "  </tbody>\n",
       "</table>\n",
       "<p>781112 rows × 2 columns</p>\n",
       "</div>"
      ],
      "text/plain": [
       "         userID                                                  0\n",
       "0             1                                  ([933, 106, 18],)\n",
       "1             5  ([589, 109, 14], [565, 203, 25], [596, 106, 26...\n",
       "2            12  ([589, 109, 61], [536, 104, 61], [1014, 0, 71]...\n",
       "3            14  ([49946, 0, 51], [59822, 0, 51], [78248, 0, 51...\n",
       "4            19                                ([12129, 108, 21],)\n",
       "5            20  ([357, 201, 21], [587, 408, 21], [914, 503, 21...\n",
       "6            21  ([669, 209, 10], [897, 209, 10], [2678, 209, 1...\n",
       "7            25  ([71137, 405, 61], [379, 203, 12], [906, 0, 13...\n",
       "8            31                                  ([536, 104, 51],)\n",
       "9            38  ([359, 203, 28], [360, 201, 28], [361, 2, 28],...\n",
       "10           41  ([582, 407, 70], [636, 0, 70], [668, 0, 70], [...\n",
       "11           44  ([4523, 106, 21], [536, 104, 22], [559, 405, 2...\n",
       "12           47                                 ([2497, 503, 21],)\n",
       "13           55  ([358, 201, 21], [369, 503, 71], [549, 405, 12...\n",
       "14           57  ([706, 106, 28], [880, 0, 28], [930, 110, 28],...\n",
       "15           58  ([589, 109, 10], [862, 109, 10], [579, 108, 51...\n",
       "16           66                                  ([360, 201, 28],)\n",
       "17           67  ([408, 203, 13], [5313, 106, 25], [882, 301, 2...\n",
       "18           68  ([574, 0, 42], [549, 405, 51], [664, 405, 51],...\n",
       "19           69                                 ([2800, 401, 62],)\n",
       "20           73  ([899, 503, 10], [3134, 0, 16], [725, 106, 21]...\n",
       "21           74  ([814, 401, 14], [4516, 401, 21], [582, 407, 21])\n",
       "22           81  ([4247, 407, 17], [549, 405, 21], [592, 303, 2...\n",
       "23           83                                 ([3318, 105, 82],)\n",
       "24           84   ([572, 106, 21], [579, 108, 12], [536, 104, 24])\n",
       "25           85    ([5798, 0, 80], [2520, 0, 10], [2207, 203, 12])\n",
       "26           89                                    ([939, 0, 17],)\n",
       "27           90  ([16311, 0, 24], [11550, 0, 24], [1582, 0, 24]...\n",
       "28           95  ([837, 0, 11], [357, 201, 22], [612, 203, 30],...\n",
       "29          101                                  ([715, 503, 21],)\n",
       "...         ...                                                ...\n",
       "781082  2805031  ([1034, 405, 11], [541, 405, 22], [536, 104, 1...\n",
       "781083  2805032  ([357, 201, 42], [582, 407, 42], [441, 503, 51...\n",
       "781084  2805034                  ([6201, 203, 17], [756, 402, 18])\n",
       "781085  2805039  ([2008, 0, 11], [922, 0, 12], [362, 409, 16], ...\n",
       "781086  2805040                                  ([777, 301, 13],)\n",
       "781087  2805042                  ([608, 110, 71], [5820, 104, 11])\n",
       "781088  2805043  ([614, 503, 16], [360, 201, 16], [587, 408, 16...\n",
       "781089  2805048  ([740, 209, 13], [771, 105, 13], [799, 303, 13...\n",
       "781090  2805060  ([630, 405, 22], [592, 303, 60], [711, 0, 61],...\n",
       "781091  2805061                                 ([4365, 301, 30],)\n",
       "781092  2805064                 ([4690, 301, 10], [1064, 503, 17])\n",
       "781093  2805065                                  ([386, 301, 32],)\n",
       "781094  2805070                   ([968, 106, 11], [536, 104, 24])\n",
       "781095  2805073                                ([27398, 401, 21],)\n",
       "781096  2805076  ([1528, 407, 11], [357, 201, 11], [723, 0, 11]...\n",
       "781097  2805079  ([360, 201, 21], [362, 409, 21], [549, 405, 22...\n",
       "781098  2805084  ([536, 104, 24], [541, 405, 24], [559, 405, 24...\n",
       "781099  2805088  ([1344, 109, 50], [559, 405, 12], [771, 105, 1...\n",
       "781100  2805092  ([395, 503, 52], [536, 104, 52], [667, 503, 52...\n",
       "781101  2805096                                  ([536, 104, 23],)\n",
       "781102  2805097  ([360, 201, 17], [362, 409, 17], [600, 401, 17...\n",
       "781103  2805098                  ([1569, 103, 11], [579, 108, 11])\n",
       "781104  2805099                  ([2536, 104, 30], [957, 109, 30])\n",
       "781105  2805100                  ([7152, 211, 24], [608, 110, 25])\n",
       "781106  2805103  ([601, 0, 20], [564, 203, 20], [1518, 210, 20]...\n",
       "781107  2805107                                 ([2788, 106, 42],)\n",
       "781108  2805109                                 ([8295, 106, 18],)\n",
       "781109  2805113                  ([1032, 104, 30], [957, 109, 30])\n",
       "781110  2805115  ([944, 401, 21], [653, 0, 22], [6663, 0, 23], ...\n",
       "781111  2805117  ([635, 209, 13], [596, 106, 29], [771, 105, 29...\n",
       "\n",
       "[781112 rows x 2 columns]"
      ]
     },
     "execution_count": 46,
     "metadata": {},
     "output_type": "execute_result"
    }
   ],
   "source": [
    "uact_cate = uact_cate.groupby('userID').apply(lambda df: tuple(df[['appID', 'appCategory', 'installTime_d']].values)).reset_index()"
   ]
  },
  {
   "cell_type": "markdown",
   "metadata": {
    "deletable": true,
    "editable": true
   },
   "source": [
    "### user actions"
   ]
  },
  {
   "cell_type": "code",
   "execution_count": null,
   "metadata": {
    "collapsed": true,
    "deletable": true,
    "editable": true
   },
   "outputs": [],
   "source": [
    "ua  = user_app_actions.groupby('userID').apply(lambda df: tuple(df.appID.values)).reset_index()\n",
    "us.columns = ['userID', 'actApps']"
   ]
  },
  {
   "cell_type": "code",
   "execution_count": 17,
   "metadata": {
    "collapsed": false,
    "deletable": true,
    "editable": true
   },
   "outputs": [
    {
     "data": {
      "text/plain": [
       "count    3.749528e+06\n",
       "mean     3.703212e+02\n",
       "std      1.440570e+02\n",
       "min      1.400000e+01\n",
       "25%      3.600000e+02\n",
       "50%      4.650000e+02\n",
       "75%      4.650000e+02\n",
       "max      4.720000e+02\n",
       "Name: appID, dtype: float64"
      ]
     },
     "execution_count": 17,
     "metadata": {},
     "output_type": "execute_result"
    }
   ],
   "source": [
    "tr_df.appID.describe()"
   ]
  },
  {
   "cell_type": "code",
   "execution_count": 33,
   "metadata": {
    "collapsed": false,
    "deletable": true,
    "editable": true
   },
   "outputs": [
    {
     "data": {
      "text/html": [
       "<div>\n",
       "<table border=\"1\" class=\"dataframe\">\n",
       "  <thead>\n",
       "    <tr style=\"text-align: right;\">\n",
       "      <th></th>\n",
       "      <th>userID</th>\n",
       "      <th>installTime</th>\n",
       "      <th>appID</th>\n",
       "    </tr>\n",
       "  </thead>\n",
       "  <tbody>\n",
       "    <tr>\n",
       "      <th>0</th>\n",
       "      <td>1</td>\n",
       "      <td>182032</td>\n",
       "      <td>933</td>\n",
       "    </tr>\n",
       "    <tr>\n",
       "      <th>1</th>\n",
       "      <td>5</td>\n",
       "      <td>141354</td>\n",
       "      <td>589</td>\n",
       "    </tr>\n",
       "    <tr>\n",
       "      <th>2</th>\n",
       "      <td>5</td>\n",
       "      <td>251727</td>\n",
       "      <td>565</td>\n",
       "    </tr>\n",
       "    <tr>\n",
       "      <th>3</th>\n",
       "      <td>5</td>\n",
       "      <td>260932</td>\n",
       "      <td>596</td>\n",
       "    </tr>\n",
       "    <tr>\n",
       "      <th>4</th>\n",
       "      <td>5</td>\n",
       "      <td>261318</td>\n",
       "      <td>536</td>\n",
       "    </tr>\n",
       "  </tbody>\n",
       "</table>\n",
       "</div>"
      ],
      "text/plain": [
       "   userID  installTime  appID\n",
       "0       1       182032    933\n",
       "1       5       141354    589\n",
       "2       5       251727    565\n",
       "3       5       260932    596\n",
       "4       5       261318    536"
      ]
     },
     "execution_count": 33,
     "metadata": {},
     "output_type": "execute_result"
    }
   ],
   "source": [
    "user_app_actions.head()"
   ]
  },
  {
   "cell_type": "code",
   "execution_count": null,
   "metadata": {
    "collapsed": true,
    "deletable": true,
    "editable": true
   },
   "outputs": [],
   "source": [
    "ua_with_cate = pd.merge(ua)"
   ]
  }
 ],
 "metadata": {
  "kernelspec": {
   "display_name": "Python 3",
   "language": "python",
   "name": "python3"
  },
  "language_info": {
   "codemirror_mode": {
    "name": "ipython",
    "version": 3
   },
   "file_extension": ".py",
   "mimetype": "text/x-python",
   "name": "python",
   "nbconvert_exporter": "python",
   "pygments_lexer": "ipython3",
   "version": "3.6.0"
  }
 },
 "nbformat": 4,
 "nbformat_minor": 2
}
