{
 "cells": [
  {
   "cell_type": "code",
   "execution_count": 10,
   "metadata": {
    "collapsed": true
   },
   "outputs": [],
   "source": [
    "d = '../data/pre/' # raw data directory\n",
    "\n",
    "import os\n",
    "import pandas as pd\n",
    "import numpy as np\n",
    "from collections import Counter\n",
    "from time import time\n",
    "from imblearn.under_sampling import RandomUnderSampler\n",
    "from sklearn.preprocessing import LabelEncoder, OneHotEncoder"
   ]
  },
  {
   "cell_type": "code",
   "execution_count": 11,
   "metadata": {},
   "outputs": [
    {
     "name": "stdout",
     "output_type": "stream",
     "text": [
      "\n",
      "\n",
      "    userID  appID  appCategory  appCategory_0.0  appCategory_1.0  \\\n",
      "0       1    357          201                0                0   \n",
      "1       1    360          201                0                0   \n",
      "2       1    362          409                0                0   \n",
      "3       1    365          301                0                0   \n",
      "4       1    375          203                0                0   \n",
      "\n",
      "   appCategory_2.0  appCategory_103.0  appCategory_104.0  appCategory_105.0  \\\n",
      "0                0                  0                  0                  0   \n",
      "1                0                  0                  0                  0   \n",
      "2                0                  0                  0                  0   \n",
      "3                0                  0                  0                  0   \n",
      "4                0                  0                  0                  0   \n",
      "\n",
      "   appCategory_106.0       ...         appCategory_401.0  appCategory_402.0  \\\n",
      "0                  0       ...                         0                  0   \n",
      "1                  0       ...                         0                  0   \n",
      "2                  0       ...                         0                  0   \n",
      "3                  0       ...                         0                  0   \n",
      "4                  0       ...                         0                  0   \n",
      "\n",
      "   appCategory_403.0  appCategory_405.0  appCategory_406.0  appCategory_407.0  \\\n",
      "0                  0                  0                  0                  0   \n",
      "1                  0                  0                  0                  0   \n",
      "2                  0                  0                  0                  0   \n",
      "3                  0                  0                  0                  0   \n",
      "4                  0                  0                  0                  0   \n",
      "\n",
      "   appCategory_408.0  appCategory_409.0  appCategory_503.0  appCategory_nan  \n",
      "0                  0                  0                  0                0  \n",
      "1                  0                  0                  0                0  \n",
      "2                  0                  1                  0                0  \n",
      "3                  0                  0                  0                0  \n",
      "4                  0                  0                  0                0  \n",
      "\n",
      "[5 rows x 31 columns] 84039009\n"
     ]
    }
   ],
   "source": [
    "aC = pd.read_csv('../data/pre/app_categories.csv')\n",
    "\n",
    "user_installedapps = pd.read_csv('%suser_installedapps.csv' % d)\n",
    "ui_cates = pd.merge(user_installedapps, aC, on='appID', how='left')\n",
    "ui_dum_cats = pd.get_dummies(ui_cates['appCategory'], prefix='appCategory', dummy_na=True)\n",
    "ui_cates = pd.concat([ui_cates, ui_dum_cats], axis=1)\n",
    "print('\\n\\n',ui_cates.head(), len(ui_cates))"
   ]
  },
  {
   "cell_type": "code",
   "execution_count": 43,
   "metadata": {},
   "outputs": [
    {
     "name": "stdout",
     "output_type": "stream",
     "text": [
      "\n",
      "Dev info\n",
      "    userID                                        insAppCates\n",
      "0       1  [37, 0, 0, 1, 0, 0, 0, 2, 0, 0, 9, 5, 0, 1, 0,...\n",
      "1       9  [0, 0, 0, 0, 0, 0, 0, 0, 0, 0, 0, 0, 0, 0, 1, ...\n",
      "2      10  [46, 0, 1, 1, 0, 0, 1, 0, 0, 0, 5, 2, 0, 1, 0,...\n",
      "3      12  [21, 0, 0, 1, 0, 0, 0, 0, 0, 0, 0, 0, 0, 2, 0,...\n",
      "4      14  [21, 0, 0, 1, 0, 0, 5, 0, 2, 0, 0, 0, 0, 1, 0,... 1446105\n"
     ]
    }
   ],
   "source": [
    "ui = ui_cates.groupby('userID').apply(lambda df: list(np.sum(df[[col for col in df.columns if 'appCategory_' in col]].values, axis=0))).reset_index()\n",
    "\n",
    "ui.columns = ['userID', 'insAppCates']\n",
    "\n",
    "print('\\nDev info\\n',ui.head(), len(ui))"
   ]
  },
  {
   "cell_type": "code",
   "execution_count": 44,
   "metadata": {},
   "outputs": [
    {
     "data": {
      "text/plain": [
       "array([ [37, 0, 0, 1, 0, 0, 0, 2, 0, 0, 9, 5, 0, 1, 0, 1, 8, 0, 0, 1, 0, 0, 1, 3, 0, 2, 8, 0],\n",
       "       [0, 0, 0, 0, 0, 0, 0, 0, 0, 0, 0, 0, 0, 0, 1, 0, 1, 0, 0, 0, 0, 0, 0, 0, 0, 0, 1, 0],\n",
       "       [46, 0, 1, 1, 0, 0, 1, 0, 0, 0, 5, 2, 0, 1, 0, 0, 7, 0, 0, 3, 3, 4, 0, 4, 1, 0, 18, 0],\n",
       "       [21, 0, 0, 1, 0, 0, 0, 0, 0, 0, 0, 0, 0, 2, 0, 0, 5, 0, 0, 1, 2, 0, 0, 4, 1, 1, 0, 0],\n",
       "       [21, 0, 0, 1, 0, 0, 5, 0, 2, 0, 0, 0, 0, 1, 0, 0, 5, 0, 3, 0, 1, 0, 0, 2, 0, 2, 19, 0]], dtype=object)"
      ]
     },
     "execution_count": 44,
     "metadata": {},
     "output_type": "execute_result"
    }
   ],
   "source": [
    "ui.insAppCates.head().values"
   ]
  },
  {
   "cell_type": "code",
   "execution_count": 45,
   "metadata": {},
   "outputs": [
    {
     "name": "stdout",
     "output_type": "stream",
     "text": [
      "\n",
      "\n",
      "Dev info... Ellipsis\n"
     ]
    }
   ],
   "source": [
    "user_app_actions = pd.read_csv('%suser_app_actions.csv' % d)\n",
    "\n",
    "uact_cate = pd.merge(user_app_actions, aC, on='appID', how='left')\n",
    "uact_dum_cats = pd.get_dummies(uact_cate['appCategory'], prefix='appActCategory', dummy_na=True)\n",
    "uact_cate = pd.concat([uact_cate, uact_dum_cats], axis=1)\n",
    "\n",
    "print('\\n\\nDev info...', ...)"
   ]
  },
  {
   "cell_type": "code",
   "execution_count": 46,
   "metadata": {},
   "outputs": [],
   "source": [
    "uact_cate['installTime_d'] = uact_cate.installTime.map(lambda x: int(str(x)[0:2]))\n",
    "uact_cate = uact_cate.groupby('userID').apply(lambda df: list(np.sum(df[[col for col in df.columns if 'appActCategory_' in col]].values, axis=0))).reset_index()\n",
    "uact_cate.columns = ['userID', 'actApps']"
   ]
  },
  {
   "cell_type": "code",
   "execution_count": 47,
   "metadata": {},
   "outputs": [
    {
     "name": "stdout",
     "output_type": "stream",
     "text": [
      "\n",
      "\n",
      "    userID                                            actApps\n",
      "0       1  [0, 0, 0, 0, 0, 0, 1, 0, 0, 0, 0, 0, 0, 0, 0, ...\n",
      "1       5  [2, 0, 0, 0, 1, 0, 1, 0, 1, 0, 1, 1, 0, 0, 0, ...\n",
      "2      12  [2, 0, 0, 0, 2, 0, 1, 0, 1, 0, 0, 0, 0, 0, 0, ...\n",
      "3      14  [4, 0, 0, 0, 0, 0, 2, 0, 0, 0, 0, 0, 0, 0, 0, ...\n",
      "4      19  [0, 0, 0, 0, 0, 0, 0, 1, 0, 0, 0, 0, 0, 0, 0, ... 781112\n"
     ]
    }
   ],
   "source": [
    "print('\\n\\n',uact_cate.head(), len(uact_cate))"
   ]
  },
  {
   "cell_type": "code",
   "execution_count": 48,
   "metadata": {
    "collapsed": true
   },
   "outputs": [],
   "source": [
    "te_df = pd.read_csv('../data/pre/new_generated_test.csv', index_col=0)\n",
    "te_df = pd.merge(te_df, ui, on='userID', how='left')\n",
    "te_df = pd.merge(te_df, uact_cate, on='userID', how='left')\n",
    "te_df.to_csv('../data/pre/new_with_lists_test.csv', index=False)"
   ]
  },
  {
   "cell_type": "code",
   "execution_count": 61,
   "metadata": {},
   "outputs": [
    {
     "name": "stderr",
     "output_type": "stream",
     "text": [
      "/usr/local/lib/python3.5/dist-packages/pandas/core/frame.py:2842: SettingWithCopyWarning: \n",
      "A value is trying to be set on a copy of a slice from a DataFrame\n",
      "\n",
      "See the caveats in the documentation: http://pandas.pydata.org/pandas-docs/stable/indexing.html#indexing-view-versus-copy\n",
      "  downcast=downcast, **kwargs)\n"
     ]
    }
   ],
   "source": [
    "tr_df = pd.read_csv('../data/pre/new_generated_train.csv', index_col=0)\n",
    "tr_df = pd.merge(tr_df, ui, on='userID', how='left')\n",
    "tr_df = pd.merge(tr_df, uact_cate, on='userID', how='left')\n",
    "tr_df[['actApps', 'insAppCates']].fillna('nan', inplace=True)\n",
    "tr_df.to_csv('../data/pre/new_with_lists_train.csv', index=False)"
   ]
  },
  {
   "cell_type": "code",
   "execution_count": 62,
   "metadata": {},
   "outputs": [
    {
     "name": "stderr",
     "output_type": "stream",
     "text": [
      "/usr/local/lib/python3.5/dist-packages/pandas/core/frame.py:2842: SettingWithCopyWarning: \n",
      "A value is trying to be set on a copy of a slice from a DataFrame\n",
      "\n",
      "See the caveats in the documentation: http://pandas.pydata.org/pandas-docs/stable/indexing.html#indexing-view-versus-copy\n",
      "  downcast=downcast, **kwargs)\n"
     ]
    },
    {
     "data": {
      "text/plain": [
       "28"
      ]
     },
     "execution_count": 62,
     "metadata": {},
     "output_type": "execute_result"
    }
   ],
   "source": [
    "te_df[['actApps', 'insAppCates']].fillna('nan', inplace=True)\n",
    "te_df.to_csv('../data/pre/new_with_lists_test.csv', index=False)\n",
    "len(te_df.actApps.head().values[3])"
   ]
  },
  {
   "cell_type": "code",
   "execution_count": 66,
   "metadata": {
    "collapsed": true
   },
   "outputs": [],
   "source": [
    "te_df_lsts = pd.read_csv('../data/pre/new_with_lists_train.csv')"
   ]
  },
  {
   "cell_type": "code",
   "execution_count": 67,
   "metadata": {},
   "outputs": [
    {
     "data": {
      "text/plain": [
       "label                int64\n",
       "creativeID           int64\n",
       "userID               int64\n",
       "positionID           int64\n",
       "connectionType       int64\n",
       "telecomsOperator     int64\n",
       "adID                 int64\n",
       "camgaignID           int64\n",
       "advertiserID         int64\n",
       "appID                int64\n",
       "appPlatform          int64\n",
       "age                  int64\n",
       "gender               int64\n",
       "education            int64\n",
       "marriageStatus       int64\n",
       "haveBaby             int64\n",
       "hometown             int64\n",
       "residence            int64\n",
       "sitesetID            int64\n",
       "positionType         int64\n",
       "appCategory          int64\n",
       "clickTime_d          int64\n",
       "weekDay              int64\n",
       "clickTime_h          int64\n",
       "clickTime_m          int64\n",
       "conversionTime_d     int64\n",
       "insAppCates         object\n",
       "actApps             object\n",
       "dtype: object"
      ]
     },
     "execution_count": 67,
     "metadata": {},
     "output_type": "execute_result"
    }
   ],
   "source": [
    "te_df_lsts.dtypes"
   ]
  },
  {
   "cell_type": "code",
   "execution_count": 68,
   "metadata": {},
   "outputs": [
    {
     "data": {
      "text/plain": [
       "array([15,  0,  1,  1,  0,  0,  0,  1,  0,  0,  4,  4,  0,  0,  1,  0,  5,\n",
       "        0,  0,  2,  0,  0,  0,  2,  1,  2,  5,  0])"
      ]
     },
     "execution_count": 68,
     "metadata": {},
     "output_type": "execute_result"
    }
   ],
   "source": [
    "np.array(eval(te_df_lsts.insAppCates.values[0]))"
   ]
  },
  {
   "cell_type": "code",
   "execution_count": 69,
   "metadata": {
    "collapsed": true
   },
   "outputs": [],
   "source": [
    "exit()"
   ]
  },
  {
   "cell_type": "code",
   "execution_count": null,
   "metadata": {
    "collapsed": true
   },
   "outputs": [],
   "source": []
  }
 ],
 "metadata": {
  "kernelspec": {
   "display_name": "Python 3",
   "language": "python",
   "name": "python3"
  },
  "language_info": {
   "codemirror_mode": {
    "name": "ipython",
    "version": 3
   },
   "file_extension": ".py",
   "mimetype": "text/x-python",
   "name": "python",
   "nbconvert_exporter": "python",
   "pygments_lexer": "ipython3",
   "version": "3.5.2"
  }
 },
 "nbformat": 4,
 "nbformat_minor": 2
}
