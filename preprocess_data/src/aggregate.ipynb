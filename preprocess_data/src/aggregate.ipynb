{
 "cells": [
  {
   "cell_type": "code",
   "execution_count": 1,
   "metadata": {
    "collapsed": true,
    "deletable": true,
    "editable": true
   },
   "outputs": [],
   "source": [
    "d = '../data/pre/' # raw data directory\n",
    "\n",
    "import os\n",
    "import pandas as pd\n",
    "import numpy as np\n",
    "from collections import Counter\n",
    "from time import time\n",
    "from imblearn.under_sampling import RandomUnderSampler\n",
    "\n",
    "\n",
    "# ## Load all csv files into pandas DataFrames\n",
    "'''user ad position app_categories'''\n",
    "\n",
    "user_installedapps = pd.read_csv('%suser_installedapps.csv' % d)\n",
    "user_app_actions = pd.read_csv('%suser_app_actions.csv' % d)"
   ]
  },
  {
   "cell_type": "code",
   "execution_count": 2,
   "metadata": {
    "collapsed": true,
    "deletable": true,
    "editable": true
   },
   "outputs": [],
   "source": [
    "tr_df = pd.read_csv('../data/pre/new_generated_train.csv', index_col=0)\n",
    "te_df = pd.read_csv('../data/pre/new_generated_test.csv', index_col=0)"
   ]
  },
  {
   "cell_type": "code",
   "execution_count": null,
   "metadata": {
    "collapsed": false,
    "deletable": true,
    "editable": true
   },
   "outputs": [
    {
     "data": {
      "text/plain": [
       "(   userID  appID\n",
       " 0       1    357\n",
       " 1       1    360\n",
       " 2       1    362\n",
       " 3       1    365\n",
       " 4       1    375,    userID  installTime  appID\n",
       " 0       1       182032    933\n",
       " 1       5       141354    589\n",
       " 2       5       251727    565\n",
       " 3       5       260932    596\n",
       " 4       5       261318    536)"
      ]
     },
     "execution_count": 3,
     "metadata": {},
     "output_type": "execute_result"
    }
   ],
   "source": [
    "user_installedapps.head(), user_app_actions.head()"
   ]
  },
  {
   "cell_type": "code",
   "execution_count": null,
   "metadata": {
    "collapsed": false,
    "deletable": true,
    "editable": true
   },
   "outputs": [],
   "source": [
    "user_installedapps.groupby('userID').apply(lambda df: df.appID.values)"
   ]
  },
  {
   "cell_type": "code",
   "execution_count": null,
   "metadata": {
    "collapsed": true,
    "deletable": true,
    "editable": true
   },
   "outputs": [],
   "source": []
  }
 ],
 "metadata": {
  "kernelspec": {
   "display_name": "Python 3",
   "language": "python",
   "name": "python3"
  },
  "language_info": {
   "codemirror_mode": {
    "name": "ipython",
    "version": 3
   },
   "file_extension": ".py",
   "mimetype": "text/x-python",
   "name": "python",
   "nbconvert_exporter": "python",
   "pygments_lexer": "ipython3",
   "version": "3.6.0"
  }
 },
 "nbformat": 4,
 "nbformat_minor": 2
}
