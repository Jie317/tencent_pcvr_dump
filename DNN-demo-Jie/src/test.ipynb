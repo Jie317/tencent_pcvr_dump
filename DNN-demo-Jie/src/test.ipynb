{
 "cells": [
  {
   "cell_type": "code",
   "execution_count": 1,
   "metadata": {
    "collapsed": false,
    "deletable": true,
    "editable": true
   },
   "outputs": [
    {
     "name": "stderr",
     "output_type": "stream",
     "text": [
      "Using TensorFlow backend.\n"
     ]
    }
   ],
   "source": [
    "import pandas as pd\n",
    "import os\n",
    "import shutil\n",
    "import json, math\n",
    "import numpy as np\n",
    "import matplotlib.pyplot as plt\n",
    "from time import time, strftime\n",
    "from keras import backend as K\n",
    "from collections import Counter\n",
    "from keras.models import load_model, Sequential\n",
    "from keras.utils import plot_model, to_categorical\n",
    "from keras.callbacks import TensorBoard\n",
    "from keras.layers import Dense, Embedding, LSTM, GRU, SimpleRNN\n",
    "from keras.layers import Dropout, Bidirectional, Flatten "
   ]
  },
  {
   "cell_type": "code",
   "execution_count": 2,
   "metadata": {
    "collapsed": true,
    "deletable": true,
    "editable": true
   },
   "outputs": [],
   "source": [
    "tr = pd.read_csv('../data/pre/new_generated_train.csv', index_col=0)\n",
    "te = pd.read_csv('../data/pre/new_generated_test.csv', index_col=0)"
   ]
  },
  {
   "cell_type": "code",
   "execution_count": 3,
   "metadata": {
    "collapsed": false,
    "deletable": true,
    "editable": true,
    "scrolled": true
   },
   "outputs": [
    {
     "data": {
      "text/plain": [
       "(array([2805118,      80,       2,       7,       3,       6,    3401,\n",
       "           3401,    6582,    3616,     720,      91,     472,       2,\n",
       "           7645,       2,       5,       7,      30,      23,      59,\n",
       "              4,       3,      30,       1]),\n",
       " Index(['userID', 'age', 'gender', 'education', 'marriageStatus', 'haveBaby',\n",
       "        'hometown', 'residence', 'creativeID', 'adID', 'camgaignID',\n",
       "        'advertiserID', 'appID', 'appPlatform', 'positionID', 'sitesetID',\n",
       "        'positionType', 'weekDay', 'clickTime_d', 'clickTime_h', 'clickTime_m',\n",
       "        'connectionType', 'telecomsOperator', 'conversionTime_d', 'label'],\n",
       "       dtype='object'))"
      ]
     },
     "execution_count": 3,
     "metadata": {},
     "output_type": "execute_result"
    }
   ],
   "source": [
    "tr.max().values, tr.columns"
   ]
  },
  {
   "cell_type": "code",
   "execution_count": 4,
   "metadata": {
    "collapsed": true,
    "deletable": true,
    "editable": true
   },
   "outputs": [],
   "source": [
    "max_feature_10 = ['gender', 'education', 'marriageStatus', 'haveBaby', 'appPlatform', \n",
    "                  'sitesetID', 'positionType', 'connectionType', 'telecomsOperator' ]\n",
    "max_feature_50 = None\n",
    "max_feature_100 = ['age', 'advertiserID' ]"
   ]
  },
  {
   "cell_type": "code",
   "execution_count": 5,
   "metadata": {
    "collapsed": false,
    "deletable": true,
    "editable": true
   },
   "outputs": [
    {
     "name": "stdout",
     "output_type": "stream",
     "text": [
      "25\n",
      "7\n",
      "1\n",
      "3\n",
      "1\n",
      "3\n",
      "14\n",
      "14\n",
      "15\n",
      "14\n",
      "11\n",
      "7\n",
      "10\n",
      "1\n",
      "15\n",
      "1\n",
      "2\n",
      "3\n",
      "5\n",
      "5\n",
      "7\n",
      "2\n",
      "1\n",
      "5\n",
      "0\n"
     ]
    }
   ],
   "source": [
    "ls = tr.max()\n",
    "for e in ls:\n",
    "    print(int(math.log10(e)*4))"
   ]
  },
  {
   "cell_type": "code",
   "execution_count": 6,
   "metadata": {
    "collapsed": false,
    "deletable": true,
    "editable": true
   },
   "outputs": [
    {
     "data": {
      "text/plain": [
       "294553"
      ]
     },
     "execution_count": 6,
     "metadata": {},
     "output_type": "execute_result"
    }
   ],
   "source": [
    "day_2wa = tr.loc[    (tr['clickTime_d'] == 17 )     ]\n",
    "day_1wa = tr.loc[    (tr['clickTime_d'] == 24 )     ]\n",
    "len(day_2wa)"
   ]
  },
  {
   "cell_type": "code",
   "execution_count": 7,
   "metadata": {
    "collapsed": false,
    "deletable": true,
    "editable": true
   },
   "outputs": [
    {
     "data": {
      "text/plain": [
       "array([17, 18, 19, 20, 21, 22, 23, 24, 25, 26, 27, 28, 29, 30])"
      ]
     },
     "execution_count": 7,
     "metadata": {},
     "output_type": "execute_result"
    }
   ],
   "source": [
    "tr['clickTime_d'].unique()"
   ]
  },
  {
   "cell_type": "code",
   "execution_count": 8,
   "metadata": {
    "collapsed": true,
    "deletable": true,
    "editable": true
   },
   "outputs": [],
   "source": [
    "day_cv = []\n",
    "for i in tr['clickTime_d'].unique():\n",
    "    a = len(tr.loc[    (tr['clickTime_d'] == i) &  (tr['label'] == 1)      ])\n",
    "    day_cv.append(a)\n",
    "day = []\n",
    "for i in tr['clickTime_d'].unique():\n",
    "    a = len(tr.loc[    (tr['clickTime_d'] == i)    ])\n",
    "    day.append(a)"
   ]
  },
  {
   "cell_type": "code",
   "execution_count": 9,
   "metadata": {
    "collapsed": false,
    "deletable": true,
    "editable": true
   },
   "outputs": [
    {
     "data": {
      "image/png": "[encoded data removed]",
      "text/plain": [
       "<matplotlib.figure.Figure at 0x7fa8ca8e8da0>"
      ]
     },
     "metadata": {},
     "output_type": "display_data"
    }
   ],
   "source": [
    "x = tr['clickTime_d'].unique()\n",
    "\n",
    "fig,ax1 = plt.subplots()\n",
    "\n",
    "ax1.plot(x, day_cv, 'r')\n",
    "ax1.tick_params('y', colors='r')\n",
    "ax1.xaxis.set_ticks(x)\n",
    "ax2 = ax1.twinx()\n",
    "ax2.plot(x, day)\n",
    "plt.grid()\n",
    "plt.show()\n"
   ]
  },
  {
   "cell_type": "code",
   "execution_count": 27,
   "metadata": {
    "collapsed": false,
    "deletable": true,
    "editable": true,
    "scrolled": true
   },
   "outputs": [
    {
     "name": "stderr",
     "output_type": "stream",
     "text": [
      "/usr/local/lib/python3.5/dist-packages/pandas/core/indexing.py:141: SettingWithCopyWarning: \n",
      "A value is trying to be set on a copy of a slice from a DataFrame\n",
      "\n",
      "See the caveats in the documentation: http://pandas.pydata.org/pandas-docs/stable/indexing.html#indexing-view-versus-copy\n",
      "  self._setitem_with_indexer(indexer, value)\n",
      "/usr/local/lib/python3.5/dist-packages/ipykernel_launcher.py:2: SettingWithCopyWarning: \n",
      "A value is trying to be set on a copy of a slice from a DataFrame\n",
      "\n",
      "See the caveats in the documentation: http://pandas.pydata.org/pandas-docs/stable/indexing.html#indexing-view-versus-copy\n",
      "  \n"
     ]
    }
   ],
   "source": [
    "tr3 = tr.loc[tr['clickTime_d'] == 24]\n",
    "tr3.loc[tr3['conversionTime_d'] > 24, 'label'] = 0"
   ]
  },
  {
   "cell_type": "code",
   "execution_count": 28,
   "metadata": {
    "collapsed": true,
    "deletable": true,
    "editable": true
   },
   "outputs": [],
   "source": [
    "f = lambda x: eval('int((math.log10(x)+1)*4)')"
   ]
  },
  {
   "cell_type": "code",
   "execution_count": 30,
   "metadata": {
    "collapsed": false,
    "deletable": true,
    "editable": true
   },
   "outputs": [
    {
     "data": {
      "text/plain": [
       "0.020712237328303688"
      ]
     },
     "execution_count": 30,
     "metadata": {},
     "output_type": "execute_result"
    }
   ],
   "source": [
    "tr3.label.mean()"
   ]
  },
  {
   "cell_type": "code",
   "execution_count": 24,
   "metadata": {
    "collapsed": true,
    "deletable": true,
    "editable": true
   },
   "outputs": [],
   "source": [
    "tr4 = tr.loc[tr['clickTime_d'] == 24]"
   ]
  },
  {
   "cell_type": "code",
   "execution_count": 26,
   "metadata": {
    "collapsed": false,
    "deletable": true,
    "editable": true
   },
   "outputs": [
    {
     "data": {
      "text/plain": [
       "0.025879779275141811"
      ]
     },
     "execution_count": 26,
     "metadata": {},
     "output_type": "execute_result"
    }
   ],
   "source": [
    "tr4.label.mean()"
   ]
  },
  {
   "cell_type": "code",
   "execution_count": null,
   "metadata": {
    "collapsed": true,
    "deletable": true,
    "editable": true
   },
   "outputs": [],
   "source": []
  }
 ],
 "metadata": {
  "kernelspec": {
   "display_name": "Python 3",
   "language": "python",
   "name": "python3"
  },
  "language_info": {
   "codemirror_mode": {
    "name": "ipython",
    "version": 3
   },
   "file_extension": ".py",
   "mimetype": "text/x-python",
   "name": "python",
   "nbconvert_exporter": "python",
   "pygments_lexer": "ipython3",
   "version": "3.6.0"
  }
 },
 "nbformat": 4,
 "nbformat_minor": 2
}
