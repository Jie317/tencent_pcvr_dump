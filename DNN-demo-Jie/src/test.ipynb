{
 "cells": [
  {
   "cell_type": "code",
   "execution_count": 59,
   "metadata": {
    "collapsed": true
   },
   "outputs": [],
   "source": [
    "import pandas as pd\n",
    "import os\n",
    "import shutil\n",
    "import json\n",
    "import numpy as np\n",
    "from time import time, strftime\n",
    "from keras import backend as K\n",
    "from collections import Counter\n",
    "from keras.models import load_model, Sequential\n",
    "from keras.utils import plot_model, to_categorical\n",
    "from keras.callbacks import TensorBoard\n",
    "from keras.layers import Dense, Embedding, LSTM, GRU, SimpleRNN\n",
    "from keras.layers import Dropout, Bidirectional, Flatten "
   ]
  },
  {
   "cell_type": "code",
   "execution_count": 60,
   "metadata": {
    "collapsed": true
   },
   "outputs": [],
   "source": [
    "tr = pd.read_csv('../data/pre/new_generated_train.csv', index_col=0)\n",
    "te = pd.read_csv('../data/pre/new_generated_test.csv', index_col=0)"
   ]
  },
  {
   "cell_type": "code",
   "execution_count": 66,
   "metadata": {
    "scrolled": true
   },
   "outputs": [
    {
     "data": {
      "text/plain": [
       "array([2805118,      80,       2,       7,       3,       6,    3401,\n",
       "          3401,    6582,    3616,     720,      91,     472,       2,\n",
       "          7645,       2,       5,      30,      23,      59,       4,\n",
       "             3,       1])"
      ]
     },
     "execution_count": 66,
     "metadata": {},
     "output_type": "execute_result"
    }
   ],
   "source": [
    "tr.max().values"
   ]
  },
  {
   "cell_type": "code",
   "execution_count": 27,
   "metadata": {},
   "outputs": [
    {
     "data": {
      "text/plain": [
       "Counter({0: 3656266, 1: 93262})"
      ]
     },
     "execution_count": 27,
     "metadata": {},
     "output_type": "execute_result"
    }
   ],
   "source": [
    "max_feature_10 = ['gender', 'education', 'marriageStatus', 'haveBaby', 'appPlatform', \n",
    "                  'sitesetID', 'positionType', 'connectionType', 'telecomsOperator' ]\n",
    "max_feature_50 = \n",
    "max_feature_100 = ['age', 'advertiserID' ]"
   ]
  },
  {
   "cell_type": "code",
   "execution_count": 71,
   "metadata": {},
   "outputs": [],
   "source": [
    "tr = tr.values"
   ]
  },
  {
   "cell_type": "code",
   "execution_count": 74,
   "metadata": {},
   "outputs": [
    {
     "data": {
      "text/plain": [
       "[array([[2798058],\n",
       "        [ 463234],\n",
       "        [1857485],\n",
       "        ..., \n",
       "        [1163462],\n",
       "        [  89477],\n",
       "        [  93736]]), array([[2798058],\n",
       "        [ 463234],\n",
       "        [1857485],\n",
       "        ..., \n",
       "        [1163462],\n",
       "        [  89477],\n",
       "        [  93736]]), array([[2798058],\n",
       "        [ 463234],\n",
       "        [1857485],\n",
       "        ..., \n",
       "        [1163462],\n",
       "        [  89477],\n",
       "        [  93736]])]"
      ]
     },
     "execution_count": 74,
     "metadata": {},
     "output_type": "execute_result"
    }
   ],
   "source": [
    "[tr[:, 0:1] for i in range(3)]"
   ]
  },
  {
   "cell_type": "code",
   "execution_count": 36,
   "metadata": {},
   "outputs": [
    {
     "data": {
      "text/plain": [
       "array([17, 18, 19, 20, 21, 22, 23, 24, 25, 26, 27, 28, 29, 30])"
      ]
     },
     "execution_count": 36,
     "metadata": {},
     "output_type": "execute_result"
    }
   ],
   "source": [
    "tr['day'].unique()"
   ]
  },
  {
   "cell_type": "code",
   "execution_count": 48,
   "metadata": {
    "collapsed": true
   },
   "outputs": [],
   "source": [
    "day_cv = []\n",
    "for i in tr['day'].unique():\n",
    "    a = len(tr.loc[    (tr['day'] == i)       ])\n",
    "    day_cv.append(a)"
   ]
  },
  {
   "cell_type": "code",
   "execution_count": 49,
   "metadata": {},
   "outputs": [
    {
     "data": {
      "text/plain": [
       "[294553,\n",
       " 159991,\n",
       " 104158,\n",
       " 206462,\n",
       " 308596,\n",
       " 325921,\n",
       " 288433,\n",
       " 285242,\n",
       " 266833,\n",
       " 297825,\n",
       " 296714,\n",
       " 278634,\n",
       " 301769,\n",
       " 334397]"
      ]
     },
     "execution_count": 49,
     "metadata": {},
     "output_type": "execute_result"
    }
   ],
   "source": [
    "day_cv"
   ]
  },
  {
   "cell_type": "code",
   "execution_count": null,
   "metadata": {
    "collapsed": true
   },
   "outputs": [],
   "source": []
  }
 ],
 "metadata": {
  "kernelspec": {
   "display_name": "Python 3",
   "language": "python",
   "name": "python3"
  },
  "language_info": {
   "codemirror_mode": {
    "name": "ipython",
    "version": 3
   },
   "file_extension": ".py",
   "mimetype": "text/x-python",
   "name": "python",
   "nbconvert_exporter": "python",
   "pygments_lexer": "ipython3",
   "version": "3.5.2"
  }
 },
 "nbformat": 4,
 "nbformat_minor": 2
}
